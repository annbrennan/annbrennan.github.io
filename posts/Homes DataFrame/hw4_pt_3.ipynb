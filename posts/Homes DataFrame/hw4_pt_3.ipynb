{
  "nbformat": 4,
  "nbformat_minor": 0,
  "metadata": {
    "colab": {
      "provenance": []
    },
    "kernelspec": {
      "name": "python3",
      "display_name": "Python 3"
    },
    "language_info": {
      "name": "python"
    }
  },
  "cells": [
    {
      "cell_type": "markdown",
      "source": [
        "# HW 4 - Homes DataFrame"
      ],
      "metadata": {
        "id": "1xIWRRX0uZi5"
      }
    },
    {
      "cell_type": "markdown",
      "source": [
        "In this post, we will be considering the ```homes``` DataFrame from the 2004 American Housing Survey. This contains data on home values, demographics, schools, income, finance, mortgages, sales, neighborhood characteristics, noise, smells, state geography, and urban classification. We will be applying Linear Regression and Logistic Regression models in order to analyze how different factors impact or predict home value.\n",
        "\n"
      ],
      "metadata": {
        "id": "dHN0B24DuhO8"
      }
    },
    {
      "cell_type": "markdown",
      "source": [
        "## Loading Packages and Settings"
      ],
      "metadata": {
        "id": "OrLv6HMiBjzw"
      }
    },
    {
      "cell_type": "code",
      "source": [
        "from google.colab import data_table\n",
        "data_table.enable_dataframe_formatter()\n",
        "\n",
        "import pandas as pd\n",
        "import numpy as np\n",
        "from tabulate import tabulate  # for table summary\n",
        "import scipy.stats as stats\n",
        "from scipy.stats import norm\n",
        "import matplotlib.pyplot as plt\n",
        "import seaborn as sns\n",
        "import statsmodels.api as sm  # for lowess smoothing\n",
        "from sklearn.metrics import precision_recall_curve\n",
        "from sklearn.metrics import roc_curve\n",
        "\n",
        "from pyspark.sql import SparkSession\n",
        "from pyspark.sql.functions import rand, col, pow, mean, avg, when, log, sqrt, exp\n",
        "from pyspark.ml.feature import VectorAssembler\n",
        "from pyspark.ml.regression import LinearRegression, GeneralizedLinearRegression\n",
        "from pyspark.ml.evaluation import BinaryClassificationEvaluator\n",
        "\n",
        "spark = SparkSession.builder.master(\"local[*]\").getOrCreate()"
      ],
      "metadata": {
        "id": "GAyHqdveai0Y"
      },
      "execution_count": null,
      "outputs": []
    },
    {
      "cell_type": "markdown",
      "source": [
        "## UDFs"
      ],
      "metadata": {
        "id": "3a6zC483BmHz"
      }
    },
    {
      "cell_type": "markdown",
      "source": [
        "We will be using a variety of User Defined Functions (UDFs) in order to perform functions necessary for our Logistic Regression Models. We will define our UDFs before we begin."
      ],
      "metadata": {
        "id": "mZD_FiE5vSrD"
      }
    },
    {
      "cell_type": "markdown",
      "source": [
        "### marginal_effects"
      ],
      "metadata": {
        "id": "1UgSEbJVcRr9"
      }
    },
    {
      "cell_type": "code",
      "source": [
        "def marginal_effects(model, means):\n",
        "    \"\"\"\n",
        "    Compute marginal effects for all predictors in a PySpark GeneralizedLinearRegression model (logit)\n",
        "    and return a formatted table with statistical significance and standard errors.\n",
        "\n",
        "    Parameters:\n",
        "        model: Fitted GeneralizedLinearRegression model (with binomial family and logit link).\n",
        "        means: List of mean values for the predictor variables.\n",
        "\n",
        "    Returns:\n",
        "        - A formatted string containing the marginal effects table.\n",
        "        - A Pandas DataFrame with marginal effects, standard errors, confidence intervals, and significance stars.\n",
        "    \"\"\"\n",
        "    global assembler_predictors  # Use the global assembler_predictors list\n",
        "\n",
        "    # Extract model coefficients, standard errors, and intercept\n",
        "    coeffs = np.array(model.coefficients)\n",
        "    std_errors = np.array(model.summary.coefficientStandardErrors)\n",
        "    intercept = model.intercept\n",
        "\n",
        "    # Compute linear combination of means and coefficients (XB)\n",
        "    XB = np.dot(means, coeffs) + intercept\n",
        "\n",
        "    # Compute derivative of logistic function (G'(XB))\n",
        "    G_prime_XB = np.exp(XB) / ((1 + np.exp(XB)) ** 2)\n",
        "\n",
        "    # Helper: significance stars.\n",
        "    def significance_stars(p):\n",
        "        if p < 0.01:\n",
        "            return \"***\"\n",
        "        elif p < 0.05:\n",
        "            return \"**\"\n",
        "        elif p < 0.1:\n",
        "            return \"*\"\n",
        "        else:\n",
        "            return \"\"\n",
        "\n",
        "    # Create lists to store results\n",
        "    results = []\n",
        "    df_results = []  # For Pandas DataFrame\n",
        "\n",
        "    for i, predictor in enumerate(assembler_predictors):\n",
        "        # Compute marginal effect\n",
        "        marginal_effect = G_prime_XB * coeffs[i]\n",
        "\n",
        "        # Compute standard error of the marginal effect\n",
        "        std_error = G_prime_XB * std_errors[i]\n",
        "\n",
        "        # Compute z-score and p-value\n",
        "        z_score = marginal_effect / std_error if std_error != 0 else np.nan\n",
        "        p_value = 2 * (1 - norm.cdf(abs(z_score))) if not np.isnan(z_score) else np.nan\n",
        "\n",
        "        # Compute confidence interval (95%)\n",
        "        ci_lower = marginal_effect - 1.96 * std_error\n",
        "        ci_upper = marginal_effect + 1.96 * std_error\n",
        "\n",
        "        # Append results for table formatting\n",
        "        results.append([\n",
        "            predictor,\n",
        "            f\"{marginal_effect: .4f}\",\n",
        "            significance_stars(p_value),\n",
        "            f\"{std_error: .4f}\",\n",
        "            f\"{ci_lower: .4f}\",\n",
        "            f\"{ci_upper: .4f}\"\n",
        "        ])\n",
        "\n",
        "        # Append results for Pandas DataFrame\n",
        "        df_results.append({\n",
        "            \"Variable\": predictor,\n",
        "            \"Marginal Effect\": marginal_effect,\n",
        "            \"Significance\": significance_stars(p_value),\n",
        "            \"Std. Error\": std_error,\n",
        "            \"95% CI Lower\": ci_lower,\n",
        "            \"95% CI Upper\": ci_upper\n",
        "        })\n",
        "\n",
        "    # Convert results to formatted table\n",
        "    table_str = tabulate(results, headers=[\"Variable\", \"Marginal Effect\", \"Significance\", \"Std. Error\", \"95% CI Lower\", \"95% CI Upper\"],\n",
        "                         tablefmt=\"pretty\", colalign=(\"left\", \"decimal\", \"left\", \"decimal\", \"decimal\", \"decimal\"))\n",
        "\n",
        "    # Convert results to Pandas DataFrame\n",
        "    df_results = pd.DataFrame(df_results)\n",
        "\n",
        "    return table_str, df_results\n",
        "\n",
        "# Example usage:\n",
        "# means = [0.5, 30]  # Mean values for x1 and x2\n",
        "# assembler_predictors = ['x1', 'x2']  # Define globally before calling the function\n",
        "# table_output, df_output = marginal_effects(fitted_model, means)\n",
        "# print(table_output)\n",
        "# display(df_output)"
      ],
      "metadata": {
        "id": "Y3W8CMmri8Uy"
      },
      "execution_count": null,
      "outputs": []
    },
    {
      "cell_type": "markdown",
      "source": [
        "### regression_table"
      ],
      "metadata": {
        "id": "H12HfEsqCH4w"
      }
    },
    {
      "cell_type": "code",
      "source": [
        "def regression_table(model, assembler):\n",
        "    \"\"\"\n",
        "    Creates a formatted regression table from a fitted LinearRegression model and its VectorAssembler.\n",
        "\n",
        "    If the model’s labelCol (retrieved using getLabelCol()) starts with \"log\", an extra column showing np.exp(coeff)\n",
        "    is added immediately after the beta estimate column for predictor rows. Additionally, np.exp() of the 95% CI\n",
        "    Lower and Upper bounds is also added unless the predictor's name includes \"log_\". The Intercept row does not\n",
        "    include exponentiated values.\n",
        "\n",
        "    When labelCol starts with \"log\", the columns are ordered as:\n",
        "        y: [label] | Beta | Exp(Beta) | Sig. | Std. Error | p-value | 95% CI Lower | 95% CI Upper | Exp(95% CI Lower) | Exp(95% CI Upper)\n",
        "\n",
        "    Otherwise, the columns are:\n",
        "        y: [label] | Beta | Sig. | Std. Error | p-value | 95% CI Lower | 95% CI Upper\n",
        "\n",
        "    Parameters:\n",
        "        model: A fitted LinearRegression model (with a .summary attribute and a labelCol).\n",
        "        assembler: The VectorAssembler used to assemble the features for the model.\n",
        "\n",
        "    Returns:\n",
        "        A formatted string containing the regression table.\n",
        "    \"\"\"\n",
        "    # Determine if we should display exponential values for coefficients.\n",
        "    is_log = model.getLabelCol().lower().startswith(\"log\")\n",
        "\n",
        "    # Extract coefficients and standard errors as NumPy arrays.\n",
        "    coeffs = model.coefficients.toArray()\n",
        "    std_errors_all = np.array(model.summary.coefficientStandardErrors)\n",
        "\n",
        "    # Check if the intercept's standard error is included (one extra element).\n",
        "    if len(std_errors_all) == len(coeffs) + 1:\n",
        "        intercept_se = std_errors_all[0]\n",
        "        std_errors = std_errors_all[1:]\n",
        "    else:\n",
        "        intercept_se = None\n",
        "        std_errors = std_errors_all\n",
        "\n",
        "    # Use provided tValues and pValues.\n",
        "    df = model.summary.numInstances - len(coeffs) - 1\n",
        "    t_critical = stats.t.ppf(0.975, df)\n",
        "    p_values = model.summary.pValues\n",
        "\n",
        "    # Helper: significance stars.\n",
        "    def significance_stars(p):\n",
        "        if p < 0.01:\n",
        "            return \"***\"\n",
        "        elif p < 0.05:\n",
        "            return \"**\"\n",
        "        elif p < 0.1:\n",
        "            return \"*\"\n",
        "        else:\n",
        "            return \"\"\n",
        "\n",
        "    # Build table rows for each feature.\n",
        "    table = []\n",
        "    for feature, beta, se, p in zip(assembler.getInputCols(), coeffs, std_errors, p_values):\n",
        "        ci_lower = beta - t_critical * se\n",
        "        ci_upper = beta + t_critical * se\n",
        "\n",
        "        # Check if predictor contains \"log_\" to determine if exponentiation should be applied\n",
        "        apply_exp = is_log and \"log_\" not in feature.lower()\n",
        "\n",
        "        exp_beta = np.exp(beta) if apply_exp else \"\"\n",
        "        exp_ci_lower = np.exp(ci_lower) if apply_exp else \"\"\n",
        "        exp_ci_upper = np.exp(ci_upper) if apply_exp else \"\"\n",
        "\n",
        "        if is_log:\n",
        "            table.append([\n",
        "                feature,            # Predictor name\n",
        "                beta,               # Beta estimate\n",
        "                exp_beta,           # Exponential of beta (or blank)\n",
        "                significance_stars(p),\n",
        "                se,\n",
        "                p,\n",
        "                ci_lower,\n",
        "                ci_upper,\n",
        "                exp_ci_lower,       # Exponential of 95% CI lower bound\n",
        "                exp_ci_upper        # Exponential of 95% CI upper bound\n",
        "            ])\n",
        "        else:\n",
        "            table.append([\n",
        "                feature,\n",
        "                beta,\n",
        "                significance_stars(p),\n",
        "                se,\n",
        "                p,\n",
        "                ci_lower,\n",
        "                ci_upper\n",
        "            ])\n",
        "\n",
        "    # Process intercept.\n",
        "    if intercept_se is not None:\n",
        "        intercept_p = model.summary.pValues[0] if model.summary.pValues is not None else None\n",
        "        intercept_sig = significance_stars(intercept_p)\n",
        "        ci_intercept_lower = model.intercept - t_critical * intercept_se\n",
        "        ci_intercept_upper = model.intercept + t_critical * intercept_se\n",
        "    else:\n",
        "        intercept_sig = \"\"\n",
        "        ci_intercept_lower = \"\"\n",
        "        ci_intercept_upper = \"\"\n",
        "        intercept_se = \"\"\n",
        "\n",
        "    if is_log:\n",
        "        table.append([\n",
        "            \"Intercept\",\n",
        "            model.intercept,\n",
        "            \"\",                    # Removed np.exp(model.intercept)\n",
        "            intercept_sig,\n",
        "            intercept_se,\n",
        "            \"\",\n",
        "            ci_intercept_lower,\n",
        "            \"\",\n",
        "            ci_intercept_upper,\n",
        "            \"\"\n",
        "        ])\n",
        "    else:\n",
        "        table.append([\n",
        "            \"Intercept\",\n",
        "            model.intercept,\n",
        "            intercept_sig,\n",
        "            intercept_se,\n",
        "            \"\",\n",
        "            ci_intercept_lower,\n",
        "            ci_intercept_upper\n",
        "        ])\n",
        "\n",
        "    # Append overall model metrics.\n",
        "    if is_log:\n",
        "        table.append([\"Observations\", model.summary.numInstances, \"\", \"\", \"\", \"\", \"\", \"\", \"\", \"\"])\n",
        "        table.append([\"R²\", model.summary.r2, \"\", \"\", \"\", \"\", \"\", \"\", \"\", \"\"])\n",
        "        table.append([\"RMSE\", model.summary.rootMeanSquaredError, \"\", \"\", \"\", \"\", \"\", \"\", \"\", \"\"])\n",
        "    else:\n",
        "        table.append([\"Observations\", model.summary.numInstances, \"\", \"\", \"\", \"\", \"\"])\n",
        "        table.append([\"R²\", model.summary.r2, \"\", \"\", \"\", \"\", \"\"])\n",
        "        table.append([\"RMSE\", model.summary.rootMeanSquaredError, \"\", \"\", \"\", \"\", \"\"])\n",
        "\n",
        "    # Format the table rows.\n",
        "    formatted_table = []\n",
        "    for row in table:\n",
        "        formatted_row = []\n",
        "        for i, item in enumerate(row):\n",
        "            # Format Observations as integer with commas.\n",
        "            if row[0] == \"Observations\" and i == 1 and isinstance(item, (int, float, np.floating)) and item != \"\":\n",
        "                formatted_row.append(f\"{int(item):,}\")\n",
        "            elif isinstance(item, (int, float, np.floating)) and item != \"\":\n",
        "                if is_log:\n",
        "                    # When is_log, the columns are:\n",
        "                    # 0: Metric, 1: Beta, 2: Exp(Beta), 3: Sig, 4: Std. Error, 5: p-value,\n",
        "                    # 6: 95% CI Lower, 7: 95% CI Upper, 8: Exp(95% CI Lower), 9: Exp(95% CI Upper).\n",
        "                    if i in [1, 2, 4, 6, 7, 8, 9]:\n",
        "                        formatted_row.append(f\"{item:,.3f}\")\n",
        "                    elif i == 5:\n",
        "                        formatted_row.append(f\"{item:.3f}\")\n",
        "                    else:\n",
        "                        formatted_row.append(f\"{item:.3f}\")\n",
        "                else:\n",
        "                    # When not is_log, the columns are:\n",
        "                    # 0: Metric, 1: Beta, 2: Sig, 3: Std. Error, 4: p-value, 5: 95% CI Lower, 6: 95% CI Upper.\n",
        "                    if i in [1, 3, 5, 6]:\n",
        "                        formatted_row.append(f\"{item:,.3f}\")\n",
        "                    elif i == 4:\n",
        "                        formatted_row.append(f\"{item:.3f}\")\n",
        "                    else:\n",
        "                        formatted_row.append(f\"{item:.3f}\")\n",
        "            else:\n",
        "                formatted_row.append(item)\n",
        "        formatted_table.append(formatted_row)\n",
        "\n",
        "    # Set header and column alignment based on whether label starts with \"log\"\n",
        "    if is_log:\n",
        "        headers = [\n",
        "            f\"y: {model.getLabelCol()}\",\n",
        "            \"Beta\", \"Exp(Beta)\", \"Sig.\", \"Std. Error\", \"p-value\",\n",
        "            \"95% CI Lower\", \"95% CI Upper\", \"Exp(95% CI Lower)\", \"Exp(95% CI Upper)\"\n",
        "        ]\n",
        "        colalign = (\"left\", \"right\", \"right\", \"center\", \"right\", \"right\", \"right\", \"right\", \"right\", \"right\")\n",
        "    else:\n",
        "        headers = [f\"y: {model.getLabelCol()}\", \"Beta\", \"Sig.\", \"Std. Error\", \"p-value\", \"95% CI Lower\", \"95% CI Upper\"]\n",
        "        colalign = (\"left\", \"right\", \"center\", \"right\", \"right\", \"right\", \"right\")\n",
        "\n",
        "    table_str = tabulate(\n",
        "        formatted_table,\n",
        "        headers=headers,\n",
        "        tablefmt=\"pretty\",\n",
        "        colalign=colalign\n",
        "    )\n",
        "\n",
        "    # Insert a dashed line after the Intercept row.\n",
        "    lines = table_str.split(\"\\n\")\n",
        "    dash_line = '-' * len(lines[0])\n",
        "    for i, line in enumerate(lines):\n",
        "        if \"Intercept\" in line and not line.strip().startswith('+'):\n",
        "            lines.insert(i+1, dash_line)\n",
        "            break\n",
        "\n",
        "    return \"\\n\".join(lines)\n",
        "\n",
        "# Example usage:\n",
        "# print(regression_table(model_1, assembler_1))"
      ],
      "metadata": {
        "id": "8UPbpUNNbgxJ"
      },
      "execution_count": null,
      "outputs": []
    },
    {
      "cell_type": "markdown",
      "source": [
        "### add_dummy_variables"
      ],
      "metadata": {
        "id": "Ofz9rdd8CL-Q"
      }
    },
    {
      "cell_type": "code",
      "source": [
        "def add_dummy_variables(var_name, reference_level, category_order=None):\n",
        "    \"\"\"\n",
        "    Creates dummy variables for the specified column in the global DataFrames dtrain and dtest.\n",
        "    Allows manual setting of category order.\n",
        "\n",
        "    Parameters:\n",
        "        var_name (str): The name of the categorical column (e.g., \"borough_name\").\n",
        "        reference_level (int): Index of the category to be used as the reference (dummy omitted).\n",
        "        category_order (list, optional): List of categories in the desired order. If None, categories are sorted.\n",
        "\n",
        "    Returns:\n",
        "        dummy_cols (list): List of dummy column names excluding the reference category.\n",
        "        ref_category (str): The category chosen as the reference.\n",
        "    \"\"\"\n",
        "    global dtrain, dtest\n",
        "\n",
        "    # Get distinct categories from the training set.\n",
        "    categories = dtrain.select(var_name).distinct().rdd.flatMap(lambda x: x).collect()\n",
        "\n",
        "    # Convert booleans to strings if present.\n",
        "    categories = [str(c) if isinstance(c, bool) else c for c in categories]\n",
        "\n",
        "    # Use manual category order if provided; otherwise, sort categories.\n",
        "    if category_order:\n",
        "        # Ensure all categories are present in the user-defined order\n",
        "        missing = set(categories) - set(category_order)\n",
        "        if missing:\n",
        "            raise ValueError(f\"These categories are missing from your custom order: {missing}\")\n",
        "        categories = category_order\n",
        "    else:\n",
        "        categories = sorted(categories)\n",
        "\n",
        "    # Validate reference_level\n",
        "    if reference_level < 0 or reference_level >= len(categories):\n",
        "        raise ValueError(f\"reference_level must be between 0 and {len(categories) - 1}\")\n",
        "\n",
        "    # Define the reference category\n",
        "    ref_category = categories[reference_level]\n",
        "    print(\"Reference category (dummy omitted):\", ref_category)\n",
        "\n",
        "    # Create dummy variables for all categories\n",
        "    for cat in categories:\n",
        "        dummy_col_name = var_name + \"_\" + str(cat).replace(\" \", \"_\")\n",
        "        dtrain = dtrain.withColumn(dummy_col_name, when(col(var_name) == cat, 1).otherwise(0))\n",
        "        dtest = dtest.withColumn(dummy_col_name, when(col(var_name) == cat, 1).otherwise(0))\n",
        "\n",
        "    # List of dummy columns, excluding the reference category\n",
        "    dummy_cols = [var_name + \"_\" + str(cat).replace(\" \", \"_\") for cat in categories if cat != ref_category]\n",
        "\n",
        "    return dummy_cols, ref_category\n",
        "\n",
        "\n",
        "# Example usage without category_order:\n",
        "# dummy_cols_year, ref_category_year = add_dummy_variables('year', 0)\n",
        "\n",
        "# Example usage with category_order:\n",
        "# custom_order_wkday = ['sunday', 'monday', 'tuesday', 'wednesday', 'thursday', 'friday', 'saturday']\n",
        "# dummy_cols_wkday, ref_category_wkday = add_dummy_variables('wkday', reference_level=0, category_order = custom_order_wkday)"
      ],
      "metadata": {
        "id": "wfJ6KPEvAZAA"
      },
      "execution_count": null,
      "outputs": []
    },
    {
      "cell_type": "markdown",
      "source": [
        "### add_interaction_terms"
      ],
      "metadata": {
        "id": "s9ShInoGCQ_h"
      }
    },
    {
      "cell_type": "code",
      "source": [
        "def add_interaction_terms(var_list1, var_list2, var_list3=None):\n",
        "    \"\"\"\n",
        "    Creates interaction term columns in the global DataFrames dtrain and dtest.\n",
        "\n",
        "    For two sets of variable names (which may represent categorical (dummy) or continuous variables),\n",
        "    this function creates two-way interactions by multiplying each variable in var_list1 with each\n",
        "    variable in var_list2.\n",
        "\n",
        "    Optionally, if a third list of variable names (var_list3) is provided, the function also creates\n",
        "    three-way interactions among each variable in var_list1, each variable in var_list2, and each variable\n",
        "    in var_list3.\n",
        "\n",
        "    Parameters:\n",
        "        var_list1 (list): List of column names for the first set of variables.\n",
        "        var_list2 (list): List of column names for the second set of variables.\n",
        "        var_list3 (list, optional): List of column names for the third set of variables for three-way interactions.\n",
        "\n",
        "    Returns:\n",
        "        A flat list of new interaction column names.\n",
        "    \"\"\"\n",
        "    global dtrain, dtest\n",
        "\n",
        "    interaction_cols = []\n",
        "\n",
        "    # Create two-way interactions between var_list1 and var_list2.\n",
        "    for var1 in var_list1:\n",
        "        for var2 in var_list2:\n",
        "            col_name = f\"{var1}_*_{var2}\"\n",
        "            dtrain = dtrain.withColumn(col_name, col(var1).cast(\"double\") * col(var2).cast(\"double\"))\n",
        "            dtest = dtest.withColumn(col_name, col(var1).cast(\"double\") * col(var2).cast(\"double\"))\n",
        "            interaction_cols.append(col_name)\n",
        "\n",
        "    # Create two-way interactions between var_list1 and var_list3.\n",
        "    if var_list3 is not None:\n",
        "      for var1 in var_list1:\n",
        "          for var3 in var_list3:\n",
        "              col_name = f\"{var1}_*_{var3}\"\n",
        "              dtrain = dtrain.withColumn(col_name, col(var1).cast(\"double\") * col(var3).cast(\"double\"))\n",
        "              dtest = dtest.withColumn(col_name, col(var1).cast(\"double\") * col(var3).cast(\"double\"))\n",
        "              interaction_cols.append(col_name)\n",
        "\n",
        "    # Create two-way interactions between var_list2 and var_list3.\n",
        "    if var_list3 is not None:\n",
        "      for var2 in var_list2:\n",
        "          for var3 in var_list3:\n",
        "              col_name = f\"{var2}_*_{var3}\"\n",
        "              dtrain = dtrain.withColumn(col_name, col(var2).cast(\"double\") * col(var3).cast(\"double\"))\n",
        "              dtest = dtest.withColumn(col_name, col(var2).cast(\"double\") * col(var3).cast(\"double\"))\n",
        "              interaction_cols.append(col_name)\n",
        "\n",
        "    # If a third list is provided, create three-way interactions.\n",
        "    if var_list3 is not None:\n",
        "        for var1 in var_list1:\n",
        "            for var2 in var_list2:\n",
        "                for var3 in var_list3:\n",
        "                    col_name = f\"{var1}_*_{var2}_*_{var3}\"\n",
        "                    dtrain = dtrain.withColumn(col_name, col(var1).cast(\"double\") * col(var2).cast(\"double\") * col(var3).cast(\"double\"))\n",
        "                    dtest = dtest.withColumn(col_name, col(var1).cast(\"double\") * col(var2).cast(\"double\") * col(var3).cast(\"double\"))\n",
        "                    interaction_cols.append(col_name)\n",
        "\n",
        "    return interaction_cols\n",
        "\n",
        " # Example\n",
        " # interaction_cols_brand_price = add_interaction_terms(dummy_cols_brand, ['log_price'])\n",
        " # interaction_cols_brand_ad_price = add_interaction_terms(dummy_cols_brand, dummy_cols_ad, ['log_price'])"
      ],
      "metadata": {
        "id": "VE0TK6glFNzO"
      },
      "execution_count": null,
      "outputs": []
    },
    {
      "cell_type": "markdown",
      "source": [
        "### compare_reg_models"
      ],
      "metadata": {
        "id": "4osN6xR4CbGM"
      }
    },
    {
      "cell_type": "code",
      "source": [
        "def compare_reg_models(models, assemblers, names=None):\n",
        "    \"\"\"\n",
        "    Produces a single formatted table comparing multiple regression models.\n",
        "\n",
        "    For each predictor (the union across models, ordered by first appearance), the table shows\n",
        "    the beta estimate (with significance stars) from each model (blank if not used).\n",
        "    For a predictor, if a model's outcome (model.getLabelCol()) starts with \"log\", the cell displays\n",
        "    both the beta and its exponential (separated by \" / \"), except when the predictor's name includes \"log_\".\n",
        "    (The intercept row does not display exp(.))\n",
        "\n",
        "    Additional rows for Intercept, Observations, R², and RMSE are appended.\n",
        "\n",
        "    The header's first column is labeled \"Predictor\", and subsequent columns are\n",
        "    \"y: [outcome] ([name])\" for each model.\n",
        "\n",
        "    The table is produced in grid format (with vertical lines). A dashed line (using '-' characters)\n",
        "    is inserted at the top, immediately after the header, and at the bottom.\n",
        "    Additionally, immediately after the Intercept row, the border line is replaced with one using '='\n",
        "    (to appear as, for example, \"+==============================================+==========================+...\").\n",
        "\n",
        "    Parameters:\n",
        "        models (list): List of fitted LinearRegression models.\n",
        "        assemblers (list): List of corresponding VectorAssembler objects.\n",
        "        names (list, optional): List of model names; defaults to \"Model 1\", \"Model 2\", etc.\n",
        "\n",
        "    Returns:\n",
        "        A formatted string containing the combined regression table.\n",
        "    \"\"\"\n",
        "    # Default model names.\n",
        "    if names is None:\n",
        "        names = [f\"Model {i+1}\" for i in range(len(models))]\n",
        "\n",
        "    # For each model, get outcome and determine if that model is log-transformed.\n",
        "    outcomes = [m.getLabelCol() for m in models]\n",
        "    is_log_flags = [out.lower().startswith(\"log\") for out in outcomes]\n",
        "\n",
        "    # Build an ordered union of predictors based on first appearance.\n",
        "    ordered_predictors = []\n",
        "    for assembler in assemblers:\n",
        "        for feat in assembler.getInputCols():\n",
        "            if feat not in ordered_predictors:\n",
        "                ordered_predictors.append(feat)\n",
        "\n",
        "    # Helper for significance stars.\n",
        "    def significance_stars(p):\n",
        "        if p is None:\n",
        "            return \"\"\n",
        "        if p < 0.01:\n",
        "            return \"***\"\n",
        "        elif p < 0.05:\n",
        "            return \"**\"\n",
        "        elif p < 0.1:\n",
        "            return \"*\"\n",
        "        else:\n",
        "            return \"\"\n",
        "\n",
        "    # Build rows for each predictor.\n",
        "    rows = []\n",
        "    for feat in ordered_predictors:\n",
        "        row = [feat]\n",
        "        for m, a, is_log in zip(models, assemblers, is_log_flags):\n",
        "            feats_model = a.getInputCols()\n",
        "            if feat in feats_model:\n",
        "                idx = feats_model.index(feat)\n",
        "                beta = m.coefficients.toArray()[idx]\n",
        "                p_val = m.summary.pValues[idx] if m.summary.pValues is not None else None\n",
        "                stars = significance_stars(p_val)\n",
        "                cell = f\"{beta:.3f}{stars}\"\n",
        "                # Only add exp(beta) if model is log and predictor name does NOT include \"log_\"\n",
        "                if is_log and (\"log_\" not in feat.lower()):\n",
        "                    cell += f\" / {np.exp(beta):,.3f}\"\n",
        "                row.append(cell)\n",
        "            else:\n",
        "                row.append(\"\")\n",
        "        rows.append(row)\n",
        "\n",
        "    # Build intercept row (do NOT compute exp(intercept)).\n",
        "    intercept_row = [\"Intercept\"]\n",
        "    for m in models:\n",
        "        std_all = np.array(m.summary.coefficientStandardErrors)\n",
        "        coeffs = m.coefficients.toArray()\n",
        "        if len(std_all) == len(coeffs) + 1:\n",
        "            intercept_p = m.summary.pValues[0] if m.summary.pValues is not None else None\n",
        "        else:\n",
        "            intercept_p = None\n",
        "        sig = significance_stars(intercept_p)\n",
        "        cell = f\"{m.intercept:.3f}{sig}\"\n",
        "        intercept_row.append(cell)\n",
        "    rows.append(intercept_row)\n",
        "\n",
        "    # Add Observations row.\n",
        "    obs_row = [\"Observations\"]\n",
        "    for m in models:\n",
        "        obs = m.summary.numInstances\n",
        "        obs_row.append(f\"{int(obs):,}\")\n",
        "    rows.append(obs_row)\n",
        "\n",
        "    # Add R² row.\n",
        "    r2_row = [\"R²\"]\n",
        "    for m in models:\n",
        "        r2_row.append(f\"{m.summary.r2:.3f}\")\n",
        "    rows.append(r2_row)\n",
        "\n",
        "    # Add RMSE row.\n",
        "    rmse_row = [\"RMSE\"]\n",
        "    for m in models:\n",
        "        rmse_row.append(f\"{m.summary.rootMeanSquaredError:.3f}\")\n",
        "    rows.append(rmse_row)\n",
        "\n",
        "    # Build header: first column \"Predictor\", then for each model: \"y: [outcome] ([name])\"\n",
        "    header = [\"Predictor\"]\n",
        "    for out, name in zip(outcomes, names):\n",
        "        header.append(f\"y: {out} ({name})\")\n",
        "\n",
        "    # Create table string using grid format.\n",
        "    table_str = tabulate(rows, headers=header, tablefmt=\"grid\", colalign=(\"left\",) + (\"right\",)*len(models))\n",
        "\n",
        "    # Split into lines.\n",
        "    lines = table_str.split(\"\\n\")\n",
        "\n",
        "    # Create a dashed line spanning the full width.\n",
        "    full_width = len(lines[0])\n",
        "    dash_line = '-' * full_width\n",
        "    # Create an equals line by replacing '-' with '='.\n",
        "    eq_line = dash_line.replace('-', '=')\n",
        "\n",
        "    # Insert a dashed line after the header row.\n",
        "    lines = table_str.split(\"\\n\")\n",
        "    # In grid format, header and separator are usually the first two lines.\n",
        "    lines.insert(2, dash_line)\n",
        "\n",
        "    # Insert an equals line after the Intercept row.\n",
        "    for i, line in enumerate(lines):\n",
        "        if line.startswith(\"|\") and \"Intercept\" in line:\n",
        "            if i+1 < len(lines):\n",
        "                lines[i+1] = eq_line\n",
        "            break\n",
        "\n",
        "    # Add dashed lines at the very top and bottom.\n",
        "    final_table = dash_line + \"\\n\" + \"\\n\".join(lines) + \"\\n\" + dash_line\n",
        "\n",
        "    return final_table\n",
        "\n",
        "# Example usage:\n",
        "# print(compare_reg_models([model_1, model_2, model_3],\n",
        "#                          [assembler_1, assembler_2, assembler_3],\n",
        "#                          [\"Model 1\", \"Model 2\", \"Model 3\"]))"
      ],
      "metadata": {
        "id": "wuEQFbK9S3fT"
      },
      "execution_count": null,
      "outputs": []
    },
    {
      "cell_type": "markdown",
      "source": [
        "### compare_rmse"
      ],
      "metadata": {
        "id": "ajlu2dgjCsDG"
      }
    },
    {
      "cell_type": "code",
      "source": [
        "def compare_rmse(test_dfs, label_col, pred_col=\"prediction\", names=None):\n",
        "    \"\"\"\n",
        "    Computes and compares RMSE values for a list of test DataFrames.\n",
        "\n",
        "    For each DataFrame in test_dfs, this function calculates the RMSE between the actual outcome\n",
        "    (given by label_col) and the predicted value (given by pred_col, default \"prediction\"). It then\n",
        "    produces a formatted table where the first column header is empty and the first row's first cell is\n",
        "    \"RMSE\", with each model's RMSE in its own column.\n",
        "\n",
        "    Parameters:\n",
        "        test_dfs (list): List of test DataFrames.\n",
        "        label_col (str): The name of the outcome column.\n",
        "        pred_col (str, optional): The name of the prediction column (default \"prediction\").\n",
        "        names (list, optional): List of model names corresponding to the test DataFrames.\n",
        "                                Defaults to \"Model 1\", \"Model 2\", etc.\n",
        "\n",
        "    Returns:\n",
        "        A formatted string containing a table that compares RMSE values for each test DataFrame,\n",
        "        with one model per column.\n",
        "    \"\"\"\n",
        "    # Set default model names if none provided.\n",
        "    if names is None:\n",
        "        names = [f\"Model {i+1}\" for i in range(len(test_dfs))]\n",
        "\n",
        "    rmse_values = []\n",
        "    for df in test_dfs:\n",
        "        # Create a column for squared error.\n",
        "        df = df.withColumn(\"error_sq\", pow(col(label_col) - col(pred_col), 2))\n",
        "        # Calculate RMSE: square root of the mean squared error.\n",
        "        rmse = df.agg(sqrt(avg(\"error_sq\")).alias(\"rmse\")).collect()[0][\"rmse\"]\n",
        "        rmse_values.append(rmse)\n",
        "\n",
        "    # Build a single row table: first cell \"RMSE\", then one cell per model with the RMSE value.\n",
        "    row = [\"RMSE\"] + [f\"{rmse:.3f}\" for rmse in rmse_values]\n",
        "\n",
        "    # Build header: first column header is empty, then model names.\n",
        "    header = [\"\"] + names\n",
        "\n",
        "    table_str = tabulate([row], headers=header, tablefmt=\"grid\", colalign=(\"left\",) + (\"right\",)*len(names))\n",
        "    return table_str\n",
        "\n",
        "# Example usage:\n",
        "# print(compare_rmse([dtest_1, dtest_2, dtest_3], \"log_sales\", names=[\"Model 1\", \"Model 2\", \"Model 3\"]))"
      ],
      "metadata": {
        "id": "1z6Ka6avS-iQ"
      },
      "execution_count": null,
      "outputs": []
    },
    {
      "cell_type": "markdown",
      "source": [
        "### residual_plot"
      ],
      "metadata": {
        "id": "4mu_dQ4TDAIG"
      }
    },
    {
      "cell_type": "code",
      "source": [
        "def residual_plot(df, label_col, model_name):\n",
        "    \"\"\"\n",
        "    Generates a residual plot for a given test dataframe.\n",
        "\n",
        "    Parameters:\n",
        "        df (DataFrame): Spark DataFrame containing the test set with predictions.\n",
        "        label_col (str): The column name of the actual outcome variable.\n",
        "        title (str): The title for the residual plot.\n",
        "\n",
        "    Returns:\n",
        "        None (displays the plot)\n",
        "    \"\"\"\n",
        "    # Convert to Pandas DataFrame\n",
        "    df_pd = df.select([\"prediction\", label_col]).toPandas()\n",
        "    df_pd[\"residual\"] = df_pd[label_col] - df_pd[\"prediction\"]\n",
        "\n",
        "    # Scatter plot of residuals vs. predicted values\n",
        "    plt.scatter(df_pd[\"prediction\"], df_pd[\"residual\"], alpha=0.2, color=\"darkgray\")\n",
        "\n",
        "    # Use LOWESS smoothing for trend line\n",
        "    smoothed = sm.nonparametric.lowess(df_pd[\"residual\"], df_pd[\"prediction\"])\n",
        "    plt.plot(smoothed[:, 0], smoothed[:, 1], color=\"darkblue\")\n",
        "\n",
        "    # Add reference line at y=0\n",
        "    plt.axhline(y=0, color=\"red\", linestyle=\"--\")\n",
        "\n",
        "    # Labels and title (model_name)\n",
        "    plt.xlabel(\"Predicted Values\")\n",
        "    plt.ylabel(\"Residuals\")\n",
        "    model_name = \"Residual Plot for \" + model_name\n",
        "    plt.title(model_name)\n",
        "\n",
        "    # Show plot\n",
        "    plt.show()\n",
        "\n",
        "# Example usage:\n",
        "# residual_plot(dtest_1, \"log_sales\", \"Model 1\")"
      ],
      "metadata": {
        "id": "dhOGgohslZZ3"
      },
      "execution_count": null,
      "outputs": []
    },
    {
      "cell_type": "markdown",
      "source": [
        "## Loading DataFrame - Homes"
      ],
      "metadata": {
        "id": "XvOL23WjDVU5"
      }
    },
    {
      "cell_type": "code",
      "execution_count": null,
      "metadata": {
        "colab": {
          "base_uri": "https://localhost:8080/",
          "height": 342
        },
        "id": "pcdWHlgr_amz",
        "outputId": "92bc6181-4dc5-4e37-a38d-bd28799073a3"
      },
      "outputs": [
        {
          "output_type": "stream",
          "name": "stdout",
          "text": [
            "Warning: Total number of columns (29) exceeds max_columns (20). Falling back to pandas display.\n"
          ]
        },
        {
          "output_type": "execute_result",
          "data": {
            "text/plain": [
              "   LPRICE   VALUE STATE  METRO  ZINC2   HHGRAD  BATHS  BEDRMS  PER  ZADULT  \\\n",
              "0   85000  150000    GA  rural  15600    No HS      2       3    1       1   \n",
              "1   76500  130000    GA  rural  61001  HS Grad      2       3    5       2   \n",
              "2   93900  135000    GA  rural  38700  HS Grad      2       3    4       2   \n",
              "3  100000  140000    GA  rural  80000    No HS      3       4    2       2   \n",
              "4  100000  135000    GA  rural  61000  HS Grad      2       3    2       2   \n",
              "\n",
              "   ...  EABAN  HOWH  HOWN  ODORA  STRNA  AMMORT  INTW  MATBUY     DWNPAY  \\\n",
              "0  ...      0  good  good      0      0   50000     9       1      other   \n",
              "1  ...      0  good   bad      0      1   70000     5       1      other   \n",
              "2  ...      0  good  good      0      0  117000     6       0      other   \n",
              "3  ...      0  good  good      0      1  100000     7       1  prev home   \n",
              "4  ...      0  good  good      0      0  100000     4       1      other   \n",
              "\n",
              "   FRSTHO  \n",
              "0       0  \n",
              "1       1  \n",
              "2       1  \n",
              "3       0  \n",
              "4       1  \n",
              "\n",
              "[5 rows x 29 columns]"
            ],
            "text/html": [
              "\n",
              "  <div id=\"df-e039fded-8a71-4289-a6e4-e9b400014ab3\" class=\"colab-df-container\">\n",
              "    <div>\n",
              "<style scoped>\n",
              "    .dataframe tbody tr th:only-of-type {\n",
              "        vertical-align: middle;\n",
              "    }\n",
              "\n",
              "    .dataframe tbody tr th {\n",
              "        vertical-align: top;\n",
              "    }\n",
              "\n",
              "    .dataframe thead th {\n",
              "        text-align: right;\n",
              "    }\n",
              "</style>\n",
              "<table border=\"1\" class=\"dataframe\">\n",
              "  <thead>\n",
              "    <tr style=\"text-align: right;\">\n",
              "      <th></th>\n",
              "      <th>LPRICE</th>\n",
              "      <th>VALUE</th>\n",
              "      <th>STATE</th>\n",
              "      <th>METRO</th>\n",
              "      <th>ZINC2</th>\n",
              "      <th>HHGRAD</th>\n",
              "      <th>BATHS</th>\n",
              "      <th>BEDRMS</th>\n",
              "      <th>PER</th>\n",
              "      <th>ZADULT</th>\n",
              "      <th>...</th>\n",
              "      <th>EABAN</th>\n",
              "      <th>HOWH</th>\n",
              "      <th>HOWN</th>\n",
              "      <th>ODORA</th>\n",
              "      <th>STRNA</th>\n",
              "      <th>AMMORT</th>\n",
              "      <th>INTW</th>\n",
              "      <th>MATBUY</th>\n",
              "      <th>DWNPAY</th>\n",
              "      <th>FRSTHO</th>\n",
              "    </tr>\n",
              "  </thead>\n",
              "  <tbody>\n",
              "    <tr>\n",
              "      <th>0</th>\n",
              "      <td>85000</td>\n",
              "      <td>150000</td>\n",
              "      <td>GA</td>\n",
              "      <td>rural</td>\n",
              "      <td>15600</td>\n",
              "      <td>No HS</td>\n",
              "      <td>2</td>\n",
              "      <td>3</td>\n",
              "      <td>1</td>\n",
              "      <td>1</td>\n",
              "      <td>...</td>\n",
              "      <td>0</td>\n",
              "      <td>good</td>\n",
              "      <td>good</td>\n",
              "      <td>0</td>\n",
              "      <td>0</td>\n",
              "      <td>50000</td>\n",
              "      <td>9</td>\n",
              "      <td>1</td>\n",
              "      <td>other</td>\n",
              "      <td>0</td>\n",
              "    </tr>\n",
              "    <tr>\n",
              "      <th>1</th>\n",
              "      <td>76500</td>\n",
              "      <td>130000</td>\n",
              "      <td>GA</td>\n",
              "      <td>rural</td>\n",
              "      <td>61001</td>\n",
              "      <td>HS Grad</td>\n",
              "      <td>2</td>\n",
              "      <td>3</td>\n",
              "      <td>5</td>\n",
              "      <td>2</td>\n",
              "      <td>...</td>\n",
              "      <td>0</td>\n",
              "      <td>good</td>\n",
              "      <td>bad</td>\n",
              "      <td>0</td>\n",
              "      <td>1</td>\n",
              "      <td>70000</td>\n",
              "      <td>5</td>\n",
              "      <td>1</td>\n",
              "      <td>other</td>\n",
              "      <td>1</td>\n",
              "    </tr>\n",
              "    <tr>\n",
              "      <th>2</th>\n",
              "      <td>93900</td>\n",
              "      <td>135000</td>\n",
              "      <td>GA</td>\n",
              "      <td>rural</td>\n",
              "      <td>38700</td>\n",
              "      <td>HS Grad</td>\n",
              "      <td>2</td>\n",
              "      <td>3</td>\n",
              "      <td>4</td>\n",
              "      <td>2</td>\n",
              "      <td>...</td>\n",
              "      <td>0</td>\n",
              "      <td>good</td>\n",
              "      <td>good</td>\n",
              "      <td>0</td>\n",
              "      <td>0</td>\n",
              "      <td>117000</td>\n",
              "      <td>6</td>\n",
              "      <td>0</td>\n",
              "      <td>other</td>\n",
              "      <td>1</td>\n",
              "    </tr>\n",
              "    <tr>\n",
              "      <th>3</th>\n",
              "      <td>100000</td>\n",
              "      <td>140000</td>\n",
              "      <td>GA</td>\n",
              "      <td>rural</td>\n",
              "      <td>80000</td>\n",
              "      <td>No HS</td>\n",
              "      <td>3</td>\n",
              "      <td>4</td>\n",
              "      <td>2</td>\n",
              "      <td>2</td>\n",
              "      <td>...</td>\n",
              "      <td>0</td>\n",
              "      <td>good</td>\n",
              "      <td>good</td>\n",
              "      <td>0</td>\n",
              "      <td>1</td>\n",
              "      <td>100000</td>\n",
              "      <td>7</td>\n",
              "      <td>1</td>\n",
              "      <td>prev home</td>\n",
              "      <td>0</td>\n",
              "    </tr>\n",
              "    <tr>\n",
              "      <th>4</th>\n",
              "      <td>100000</td>\n",
              "      <td>135000</td>\n",
              "      <td>GA</td>\n",
              "      <td>rural</td>\n",
              "      <td>61000</td>\n",
              "      <td>HS Grad</td>\n",
              "      <td>2</td>\n",
              "      <td>3</td>\n",
              "      <td>2</td>\n",
              "      <td>2</td>\n",
              "      <td>...</td>\n",
              "      <td>0</td>\n",
              "      <td>good</td>\n",
              "      <td>good</td>\n",
              "      <td>0</td>\n",
              "      <td>0</td>\n",
              "      <td>100000</td>\n",
              "      <td>4</td>\n",
              "      <td>1</td>\n",
              "      <td>other</td>\n",
              "      <td>1</td>\n",
              "    </tr>\n",
              "  </tbody>\n",
              "</table>\n",
              "<p>5 rows × 29 columns</p>\n",
              "</div>\n",
              "    <div class=\"colab-df-buttons\">\n",
              "\n",
              "  <div class=\"colab-df-container\">\n",
              "    <button class=\"colab-df-convert\" onclick=\"convertToInteractive('df-e039fded-8a71-4289-a6e4-e9b400014ab3')\"\n",
              "            title=\"Convert this dataframe to an interactive table.\"\n",
              "            style=\"display:none;\">\n",
              "\n",
              "  <svg xmlns=\"http://www.w3.org/2000/svg\" height=\"24px\" viewBox=\"0 -960 960 960\">\n",
              "    <path d=\"M120-120v-720h720v720H120Zm60-500h600v-160H180v160Zm220 220h160v-160H400v160Zm0 220h160v-160H400v160ZM180-400h160v-160H180v160Zm440 0h160v-160H620v160ZM180-180h160v-160H180v160Zm440 0h160v-160H620v160Z\"/>\n",
              "  </svg>\n",
              "    </button>\n",
              "\n",
              "  <style>\n",
              "    .colab-df-container {\n",
              "      display:flex;\n",
              "      gap: 12px;\n",
              "    }\n",
              "\n",
              "    .colab-df-convert {\n",
              "      background-color: #E8F0FE;\n",
              "      border: none;\n",
              "      border-radius: 50%;\n",
              "      cursor: pointer;\n",
              "      display: none;\n",
              "      fill: #1967D2;\n",
              "      height: 32px;\n",
              "      padding: 0 0 0 0;\n",
              "      width: 32px;\n",
              "    }\n",
              "\n",
              "    .colab-df-convert:hover {\n",
              "      background-color: #E2EBFA;\n",
              "      box-shadow: 0px 1px 2px rgba(60, 64, 67, 0.3), 0px 1px 3px 1px rgba(60, 64, 67, 0.15);\n",
              "      fill: #174EA6;\n",
              "    }\n",
              "\n",
              "    .colab-df-buttons div {\n",
              "      margin-bottom: 4px;\n",
              "    }\n",
              "\n",
              "    [theme=dark] .colab-df-convert {\n",
              "      background-color: #3B4455;\n",
              "      fill: #D2E3FC;\n",
              "    }\n",
              "\n",
              "    [theme=dark] .colab-df-convert:hover {\n",
              "      background-color: #434B5C;\n",
              "      box-shadow: 0px 1px 3px 1px rgba(0, 0, 0, 0.15);\n",
              "      filter: drop-shadow(0px 1px 2px rgba(0, 0, 0, 0.3));\n",
              "      fill: #FFFFFF;\n",
              "    }\n",
              "  </style>\n",
              "\n",
              "    <script>\n",
              "      const buttonEl =\n",
              "        document.querySelector('#df-e039fded-8a71-4289-a6e4-e9b400014ab3 button.colab-df-convert');\n",
              "      buttonEl.style.display =\n",
              "        google.colab.kernel.accessAllowed ? 'block' : 'none';\n",
              "\n",
              "      async function convertToInteractive(key) {\n",
              "        const element = document.querySelector('#df-e039fded-8a71-4289-a6e4-e9b400014ab3');\n",
              "        const dataTable =\n",
              "          await google.colab.kernel.invokeFunction('convertToInteractive',\n",
              "                                                    [key], {});\n",
              "        if (!dataTable) return;\n",
              "\n",
              "        const docLinkHtml = 'Like what you see? Visit the ' +\n",
              "          '<a target=\"_blank\" href=https://colab.research.google.com/notebooks/data_table.ipynb>data table notebook</a>'\n",
              "          + ' to learn more about interactive tables.';\n",
              "        element.innerHTML = '';\n",
              "        dataTable['output_type'] = 'display_data';\n",
              "        await google.colab.output.renderOutput(dataTable, element);\n",
              "        const docLink = document.createElement('div');\n",
              "        docLink.innerHTML = docLinkHtml;\n",
              "        element.appendChild(docLink);\n",
              "      }\n",
              "    </script>\n",
              "  </div>\n",
              "\n",
              "\n",
              "<div id=\"df-3607f3ca-655e-4060-9c99-c8550e48d497\">\n",
              "  <button class=\"colab-df-quickchart\" onclick=\"quickchart('df-3607f3ca-655e-4060-9c99-c8550e48d497')\"\n",
              "            title=\"Suggest charts\"\n",
              "            style=\"display:none;\">\n",
              "\n",
              "<svg xmlns=\"http://www.w3.org/2000/svg\" height=\"24px\"viewBox=\"0 0 24 24\"\n",
              "     width=\"24px\">\n",
              "    <g>\n",
              "        <path d=\"M19 3H5c-1.1 0-2 .9-2 2v14c0 1.1.9 2 2 2h14c1.1 0 2-.9 2-2V5c0-1.1-.9-2-2-2zM9 17H7v-7h2v7zm4 0h-2V7h2v10zm4 0h-2v-4h2v4z\"/>\n",
              "    </g>\n",
              "</svg>\n",
              "  </button>\n",
              "\n",
              "<style>\n",
              "  .colab-df-quickchart {\n",
              "      --bg-color: #E8F0FE;\n",
              "      --fill-color: #1967D2;\n",
              "      --hover-bg-color: #E2EBFA;\n",
              "      --hover-fill-color: #174EA6;\n",
              "      --disabled-fill-color: #AAA;\n",
              "      --disabled-bg-color: #DDD;\n",
              "  }\n",
              "\n",
              "  [theme=dark] .colab-df-quickchart {\n",
              "      --bg-color: #3B4455;\n",
              "      --fill-color: #D2E3FC;\n",
              "      --hover-bg-color: #434B5C;\n",
              "      --hover-fill-color: #FFFFFF;\n",
              "      --disabled-bg-color: #3B4455;\n",
              "      --disabled-fill-color: #666;\n",
              "  }\n",
              "\n",
              "  .colab-df-quickchart {\n",
              "    background-color: var(--bg-color);\n",
              "    border: none;\n",
              "    border-radius: 50%;\n",
              "    cursor: pointer;\n",
              "    display: none;\n",
              "    fill: var(--fill-color);\n",
              "    height: 32px;\n",
              "    padding: 0;\n",
              "    width: 32px;\n",
              "  }\n",
              "\n",
              "  .colab-df-quickchart:hover {\n",
              "    background-color: var(--hover-bg-color);\n",
              "    box-shadow: 0 1px 2px rgba(60, 64, 67, 0.3), 0 1px 3px 1px rgba(60, 64, 67, 0.15);\n",
              "    fill: var(--button-hover-fill-color);\n",
              "  }\n",
              "\n",
              "  .colab-df-quickchart-complete:disabled,\n",
              "  .colab-df-quickchart-complete:disabled:hover {\n",
              "    background-color: var(--disabled-bg-color);\n",
              "    fill: var(--disabled-fill-color);\n",
              "    box-shadow: none;\n",
              "  }\n",
              "\n",
              "  .colab-df-spinner {\n",
              "    border: 2px solid var(--fill-color);\n",
              "    border-color: transparent;\n",
              "    border-bottom-color: var(--fill-color);\n",
              "    animation:\n",
              "      spin 1s steps(1) infinite;\n",
              "  }\n",
              "\n",
              "  @keyframes spin {\n",
              "    0% {\n",
              "      border-color: transparent;\n",
              "      border-bottom-color: var(--fill-color);\n",
              "      border-left-color: var(--fill-color);\n",
              "    }\n",
              "    20% {\n",
              "      border-color: transparent;\n",
              "      border-left-color: var(--fill-color);\n",
              "      border-top-color: var(--fill-color);\n",
              "    }\n",
              "    30% {\n",
              "      border-color: transparent;\n",
              "      border-left-color: var(--fill-color);\n",
              "      border-top-color: var(--fill-color);\n",
              "      border-right-color: var(--fill-color);\n",
              "    }\n",
              "    40% {\n",
              "      border-color: transparent;\n",
              "      border-right-color: var(--fill-color);\n",
              "      border-top-color: var(--fill-color);\n",
              "    }\n",
              "    60% {\n",
              "      border-color: transparent;\n",
              "      border-right-color: var(--fill-color);\n",
              "    }\n",
              "    80% {\n",
              "      border-color: transparent;\n",
              "      border-right-color: var(--fill-color);\n",
              "      border-bottom-color: var(--fill-color);\n",
              "    }\n",
              "    90% {\n",
              "      border-color: transparent;\n",
              "      border-bottom-color: var(--fill-color);\n",
              "    }\n",
              "  }\n",
              "</style>\n",
              "\n",
              "  <script>\n",
              "    async function quickchart(key) {\n",
              "      const quickchartButtonEl =\n",
              "        document.querySelector('#' + key + ' button');\n",
              "      quickchartButtonEl.disabled = true;  // To prevent multiple clicks.\n",
              "      quickchartButtonEl.classList.add('colab-df-spinner');\n",
              "      try {\n",
              "        const charts = await google.colab.kernel.invokeFunction(\n",
              "            'suggestCharts', [key], {});\n",
              "      } catch (error) {\n",
              "        console.error('Error during call to suggestCharts:', error);\n",
              "      }\n",
              "      quickchartButtonEl.classList.remove('colab-df-spinner');\n",
              "      quickchartButtonEl.classList.add('colab-df-quickchart-complete');\n",
              "    }\n",
              "    (() => {\n",
              "      let quickchartButtonEl =\n",
              "        document.querySelector('#df-3607f3ca-655e-4060-9c99-c8550e48d497 button');\n",
              "      quickchartButtonEl.style.display =\n",
              "        google.colab.kernel.accessAllowed ? 'block' : 'none';\n",
              "    })();\n",
              "  </script>\n",
              "</div>\n",
              "\n",
              "    </div>\n",
              "  </div>\n"
            ],
            "application/vnd.google.colaboratory.intrinsic+json": {
              "type": "dataframe",
              "variable_name": "homes"
            }
          },
          "metadata": {},
          "execution_count": 89
        }
      ],
      "source": [
        "homes = pd.read_csv(\n",
        "  'https://bcdanl.github.io/data/american_housing_survey.csv'\n",
        ")\n",
        "\n",
        "homes.head()"
      ]
    },
    {
      "cell_type": "markdown",
      "source": [
        "## Exploratory Data Analysis"
      ],
      "metadata": {
        "id": "Cc4CXc47_qB4"
      }
    },
    {
      "cell_type": "markdown",
      "source": [
        "Before applying our Logistic Regression Model, let's explore some of the relationships in this DataFrame."
      ],
      "metadata": {
        "id": "zJdSx--Fv2d6"
      }
    },
    {
      "cell_type": "markdown",
      "source": [
        "### Home Value vs Household Income"
      ],
      "metadata": {
        "id": "aDYYJUI112Yh"
      }
    },
    {
      "cell_type": "code",
      "source": [
        "homes['log_income'] = np.log(homes['ZINC2'])\n",
        "homes['log_value'] = np.log(homes['VALUE'])"
      ],
      "metadata": {
        "colab": {
          "base_uri": "https://localhost:8080/"
        },
        "id": "QR8sfRsa3uIH",
        "outputId": "b68a0865-825a-468e-b34f-511b563dec30"
      },
      "execution_count": null,
      "outputs": [
        {
          "output_type": "stream",
          "name": "stderr",
          "text": [
            "/usr/local/lib/python3.11/dist-packages/pandas/core/arraylike.py:399: RuntimeWarning: divide by zero encountered in log\n",
            "  result = getattr(ufunc, method)(*inputs, **kwargs)\n",
            "/usr/local/lib/python3.11/dist-packages/pandas/core/arraylike.py:399: RuntimeWarning: invalid value encountered in log\n",
            "  result = getattr(ufunc, method)(*inputs, **kwargs)\n"
          ]
        }
      ]
    },
    {
      "cell_type": "code",
      "source": [
        "sns.scatterplot(x=homes['log_income'], y=homes['log_value'], alpha=0.3)"
      ],
      "metadata": {
        "colab": {
          "base_uri": "https://localhost:8080/",
          "height": 467
        },
        "id": "W0xwSne6_rSd",
        "outputId": "c826d695-f9b7-4c40-c96a-ca9ddaec9dd0"
      },
      "execution_count": null,
      "outputs": [
        {
          "output_type": "execute_result",
          "data": {
            "text/plain": [
              "<Axes: xlabel='log_income', ylabel='log_value'>"
            ]
          },
          "metadata": {},
          "execution_count": 103
        },
        {
          "output_type": "display_data",
          "data": {
            "text/plain": [
              "<Figure size 640x480 with 1 Axes>"
            ],
            "image/png": "[encoded data removed]"
          },
          "metadata": {}
        }
      ]
    },
    {
      "cell_type": "markdown",
      "source": [
        "**This scatterplot shows the relationship between the log of household income and the log of home values. I took the log of each variable to reduce skewness and make it easier to see patterns in the scatterplot. Here, we can see that a higher household income is generally associated with a higher house value.**"
      ],
      "metadata": {
        "id": "A3CJzoa839im"
      }
    },
    {
      "cell_type": "markdown",
      "source": [
        "### Number of Bedrooms vs House Value"
      ],
      "metadata": {
        "id": "v2yiKMZO2ZSx"
      }
    },
    {
      "cell_type": "code",
      "source": [
        "sns.boxplot(x=homes['BEDRMS'], y=homes['VALUE'])"
      ],
      "metadata": {
        "colab": {
          "base_uri": "https://localhost:8080/",
          "height": 482
        },
        "id": "JZ9ccGWS2c5K",
        "outputId": "c4acf6c4-ab38-4b41-8587-a5ebf1507acc"
      },
      "execution_count": null,
      "outputs": [
        {
          "output_type": "execute_result",
          "data": {
            "text/plain": [
              "<Axes: xlabel='BEDRMS', ylabel='VALUE'>"
            ]
          },
          "metadata": {},
          "execution_count": 92
        },
        {
          "output_type": "display_data",
          "data": {
            "text/plain": [
              "<Figure size 640x480 with 1 Axes>"
            ],
            "image/png": "[encoded data removed]"
          },
          "metadata": {}
        }
      ]
    },
    {
      "cell_type": "markdown",
      "source": [
        "**These boxplots show the distribution of house values for different numbers of bedrooms. Houses with 6 and 8 bedrooms have the widest range in house value, whereas houses with only 1 bedroom have the least amount of variation in value. Houses with more bedrooms may have greater variation in value because they could range from older, lower value properties to newer, high value estates. Overall, as more bedrooms are added, home values tend to increase but with greater variability.**"
      ],
      "metadata": {
        "id": "rdL43H4a429_"
      }
    },
    {
      "cell_type": "markdown",
      "source": [
        "### Junk in the Streets vs House Value"
      ],
      "metadata": {
        "id": "gT2pHLYU25xM"
      }
    },
    {
      "cell_type": "code",
      "source": [
        "sns.boxplot(x=homes['EJUNK'], y=homes['VALUE'])"
      ],
      "metadata": {
        "colab": {
          "base_uri": "https://localhost:8080/",
          "height": 482
        },
        "id": "Hv9XU5Id29at",
        "outputId": "8841521a-09ef-43ed-9806-ac692c46d649"
      },
      "execution_count": null,
      "outputs": [
        {
          "output_type": "execute_result",
          "data": {
            "text/plain": [
              "<Axes: xlabel='EJUNK', ylabel='VALUE'>"
            ]
          },
          "metadata": {},
          "execution_count": 99
        },
        {
          "output_type": "display_data",
          "data": {
            "text/plain": [
              "<Figure size 640x480 with 1 Axes>"
            ],
            "image/png": "[encoded data removed]"
          },
          "metadata": {}
        }
      ]
    },
    {
      "cell_type": "markdown",
      "source": [
        "**These boxplots show the distribution of house values for the amount of junk in the streets. Houses without junk in the streets have a slightly wider range of values than houses with junk in the streets. Additionally, houses with junk in the streets tend to be slightly less expensive than houses without junk in the streets.**"
      ],
      "metadata": {
        "id": "jdWxU4Ka6WmX"
      }
    },
    {
      "cell_type": "markdown",
      "source": [
        "## Linear Regression"
      ],
      "metadata": {
        "id": "pMrICju8BGl4"
      }
    },
    {
      "cell_type": "markdown",
      "source": [
        "Next, we will build a Linear Regression Model to predict home values based on several variables and analyze the accurary of its predictions. For the predictor variables, we will use all of the variables in the DataFrame, excluding home value, the amount of the first mortgage payment, and the purchase price of the unit and land. The outcome variable will be the log value of the home."
      ],
      "metadata": {
        "id": "rwqJft8RS9ip"
      }
    },
    {
      "cell_type": "markdown",
      "source": [
        "### Log Transformation"
      ],
      "metadata": {
        "id": "LtPopMfWDjr3"
      }
    },
    {
      "cell_type": "code",
      "source": [
        "df = spark.createDataFrame(homes)\n",
        "df = (\n",
        "    df\n",
        "    .withColumn(\"LOG_VALUE\",\n",
        "                log(df['VALUE']) )\n",
        ")"
      ],
      "metadata": {
        "id": "6Vieee_tBIDQ"
      },
      "execution_count": null,
      "outputs": []
    },
    {
      "cell_type": "markdown",
      "source": [
        "### Training-Test Split"
      ],
      "metadata": {
        "id": "v9gjVKhSEVbe"
      }
    },
    {
      "cell_type": "code",
      "source": [
        "dtrain, dtest = df.randomSplit([0.6, 0.4], seed = 1234)"
      ],
      "metadata": {
        "id": "7DVbOHlOEXFR"
      },
      "execution_count": null,
      "outputs": []
    },
    {
      "cell_type": "markdown",
      "source": [
        "### Assigning Dummy Variables"
      ],
      "metadata": {
        "id": "-gsMpVLpHkXY"
      }
    },
    {
      "cell_type": "markdown",
      "source": [
        "Before we begin training our models, we must add dummy variables for our categorical variables. To do this, we will apply our UDF for adding dummy variables. All observations must be numerical in order to train the Linear Regression Model.\n",
        "\n"
      ],
      "metadata": {
        "id": "v-wH90r-VdSK"
      }
    },
    {
      "cell_type": "code",
      "source": [
        "dummy_cols_STATE, ref_category_STATE = add_dummy_variables('STATE', 0)\n",
        "dummy_cols_METRO, ref_category_METRO = add_dummy_variables('METRO', 0)\n",
        "dummy_cols_HHGRAD, ref_category_HHGRAD = add_dummy_variables('HHGRAD', 1)\n",
        "dummy_cols_HOWH, ref_category_HOWH = add_dummy_variables('HOWH', 0)\n",
        "dummy_cols_HOWN, ref_category_HOWN = add_dummy_variables('HOWN', 0)\n",
        "dummy_cols_DWNPAY, ref_category_DWNPAY = add_dummy_variables('DWNPAY', 0)"
      ],
      "metadata": {
        "colab": {
          "base_uri": "https://localhost:8080/"
        },
        "id": "J2p-KSxKHpL7",
        "outputId": "f6cedfa9-91b9-4af5-8235-133f11a2e871"
      },
      "execution_count": null,
      "outputs": [
        {
          "output_type": "stream",
          "name": "stdout",
          "text": [
            "Reference category (dummy omitted): CA\n",
            "Reference category (dummy omitted): rural\n",
            "Reference category (dummy omitted): Bach\n",
            "Reference category (dummy omitted): bad\n",
            "Reference category (dummy omitted): bad\n",
            "Reference category (dummy omitted): other\n"
          ]
        }
      ]
    },
    {
      "cell_type": "markdown",
      "source": [
        "### Linear Regression (Model 1)"
      ],
      "metadata": {
        "id": "LIKL9o0XJ9VF"
      }
    },
    {
      "cell_type": "code",
      "source": [
        "# assembling predictors\n",
        "conti_cols = ['ZINC2', 'BATHS', 'BEDRMS', 'PER', 'ZADULT', 'NUNITS', 'EAPTBL', 'ECOM1', 'ECOM2', 'EGREEN', 'EJUNK', 'ELOW1',\n",
        "              'ESFD', 'ETRANS', 'EABAN', 'ODORA', 'STRNA', 'INTW', 'MATBUY', 'FRSTHO']\n",
        "\n",
        "dummy_cols = dummy_cols_STATE + dummy_cols_METRO + dummy_cols_HHGRAD + dummy_cols_HOWH + dummy_cols_HOWN + dummy_cols_DWNPAY\n",
        "\n",
        "assembler_predictors_1 = (\n",
        "    conti_cols +\n",
        "    dummy_cols\n",
        ")\n",
        "\n",
        "assembler_1 = VectorAssembler(\n",
        "    inputCols = assembler_predictors_1,\n",
        "    outputCol = \"predictors\"\n",
        ")\n",
        "\n",
        "dtrain_1 = assembler_1.transform(dtrain)\n",
        "dtest_1  = assembler_1.transform(dtest)\n",
        "\n",
        "# training model\n",
        "model_1 = (\n",
        "    LinearRegression(featuresCol=\"predictors\",\n",
        "                     labelCol=\"LOG_VALUE\")\n",
        "    .fit(dtrain_1)\n",
        ")\n",
        "\n",
        "# making prediction\n",
        "dtest_1 = model_1.transform(dtest_1)\n",
        "\n",
        "# makting regression table\n",
        "print( regression_table(model_1, assembler_1) )"
      ],
      "metadata": {
        "colab": {
          "base_uri": "https://localhost:8080/"
        },
        "id": "uab0p7qCJ_KX",
        "outputId": "233c294f-18a1-40da-c4ff-bdde4d5ac5e6"
      },
      "execution_count": null,
      "outputs": [
        {
          "output_type": "stream",
          "name": "stdout",
          "text": [
            "+------------------+--------+-----------+------+------------+---------+--------------+--------------+-------------------+-------------------+\n",
            "| y: LOG_VALUE     |   Beta | Exp(Beta) | Sig. | Std. Error | p-value | 95% CI Lower | 95% CI Upper | Exp(95% CI Lower) | Exp(95% CI Upper) |\n",
            "+------------------+--------+-----------+------+------------+---------+--------------+--------------+-------------------+-------------------+\n",
            "| ZINC2            |  0.000 |     1.000 | ***  |      0.014 |   0.000 |       -0.028 |        0.028 |             0.972 |             1.029 |\n",
            "| BATHS            |  0.211 |     1.235 | ***  |      0.013 |   0.000 |        0.186 |        0.236 |             1.205 |             1.266 |\n",
            "| BEDRMS           |  0.089 |     1.093 | ***  |      0.008 |   0.000 |        0.074 |        0.105 |             1.077 |             1.110 |\n",
            "| PER              |  0.005 |     1.005 |      |      0.014 |   0.533 |       -0.022 |        0.032 |             0.978 |             1.032 |\n",
            "| ZADULT           | -0.022 |     0.978 |      |      0.001 |   0.106 |       -0.023 |       -0.021 |             0.977 |             0.979 |\n",
            "| NUNITS           | -0.001 |     0.999 |  **  |      0.030 |   0.016 |       -0.060 |        0.057 |             0.942 |             1.058 |\n",
            "| EAPTBL           | -0.020 |     0.980 |      |      0.024 |   0.491 |       -0.068 |        0.027 |             0.934 |             1.028 |\n",
            "| ECOM1            | -0.006 |     0.994 |      |      0.062 |   0.818 |       -0.126 |        0.115 |             0.881 |             1.122 |\n",
            "| ECOM2            | -0.067 |     0.935 |      |      0.018 |   0.274 |       -0.102 |       -0.033 |             0.903 |             0.968 |\n",
            "| EGREEN           |  0.006 |     1.006 |      |      0.065 |   0.717 |       -0.121 |        0.134 |             0.886 |             1.143 |\n",
            "| EJUNK            | -0.215 |     0.807 | ***  |      0.029 |   0.001 |       -0.272 |       -0.158 |             0.762 |             0.854 |\n",
            "| ELOW1            |  0.022 |     1.022 |      |      0.037 |   0.445 |       -0.050 |        0.094 |             0.951 |             1.099 |\n",
            "| ESFD             |  0.279 |     1.322 | ***  |      0.033 |   0.000 |        0.215 |        0.343 |             1.240 |             1.409 |\n",
            "| ETRANS           | -0.075 |     0.928 |  **  |      0.046 |   0.022 |       -0.165 |        0.015 |             0.848 |             1.015 |\n",
            "| EABAN            | -0.178 |     0.837 | ***  |      0.041 |   0.000 |       -0.260 |       -0.097 |             0.771 |             0.907 |\n",
            "| ODORA            | -0.010 |     0.990 |      |      0.020 |   0.811 |       -0.049 |        0.030 |             0.952 |             1.030 |\n",
            "| STRNA            | -0.028 |     0.972 |      |      0.006 |   0.162 |       -0.039 |       -0.017 |             0.962 |             0.983 |\n",
            "| INTW             | -0.048 |     0.953 | ***  |      0.017 |   0.000 |       -0.082 |       -0.014 |             0.922 |             0.986 |\n",
            "| MATBUY           | -0.017 |     0.983 |      |      0.022 |   0.319 |       -0.060 |        0.025 |             0.942 |             1.026 |\n",
            "| FRSTHO           | -0.083 |     0.920 | ***  |      0.037 |   0.000 |       -0.155 |       -0.011 |             0.856 |             0.989 |\n",
            "| STATE_CO         | -0.294 |     0.745 | ***  |      0.039 |   0.000 |       -0.371 |       -0.218 |             0.690 |             0.804 |\n",
            "| STATE_CT         | -0.327 |     0.721 | ***  |      0.039 |   0.000 |       -0.403 |       -0.251 |             0.668 |             0.778 |\n",
            "| STATE_GA         | -0.615 |     0.540 | ***  |      0.071 |   0.000 |       -0.754 |       -0.477 |             0.470 |             0.621 |\n",
            "| STATE_IL         | -0.862 |     0.422 | ***  |      0.038 |   0.000 |       -0.937 |       -0.787 |             0.392 |             0.455 |\n",
            "| STATE_IN         | -0.736 |     0.479 | ***  |      0.046 |   0.000 |       -0.828 |       -0.645 |             0.437 |             0.524 |\n",
            "| STATE_LA         | -0.712 |     0.490 | ***  |      0.043 |   0.000 |       -0.796 |       -0.629 |             0.451 |             0.533 |\n",
            "| STATE_MO         | -0.645 |     0.525 | ***  |      0.041 |   0.000 |       -0.725 |       -0.565 |             0.484 |             0.569 |\n",
            "| STATE_OH         | -0.636 |     0.529 | ***  |      0.041 |   0.000 |       -0.717 |       -0.556 |             0.488 |             0.573 |\n",
            "| STATE_OK         | -0.996 |     0.369 | ***  |      0.043 |   0.000 |       -1.080 |       -0.913 |             0.340 |             0.401 |\n",
            "| STATE_PA         | -0.891 |     0.410 | ***  |      0.043 |   0.000 |       -0.975 |       -0.806 |             0.377 |             0.447 |\n",
            "| STATE_TX         | -1.045 |     0.352 | ***  |      0.039 |   0.000 |       -1.120 |       -0.969 |             0.326 |             0.379 |\n",
            "| STATE_WA         | -0.089 |     0.915 |  **  |      0.023 |   0.022 |       -0.133 |       -0.044 |             0.875 |             0.957 |\n",
            "| METRO_urban      |  0.092 |     1.096 | ***  |      0.029 |   0.000 |        0.034 |        0.149 |             1.035 |             1.160 |\n",
            "| HHGRAD_Assoc     | -0.153 |     0.858 | ***  |      0.026 |   0.000 |       -0.205 |       -0.102 |             0.815 |             0.903 |\n",
            "| HHGRAD_Grad      |  0.079 |     1.083 | ***  |      0.021 |   0.003 |        0.038 |        0.121 |             1.039 |             1.128 |\n",
            "| HHGRAD_HS_Grad   | -0.178 |     0.837 | ***  |      0.037 |   0.000 |       -0.251 |       -0.106 |             0.778 |             0.899 |\n",
            "| HHGRAD_No_HS     | -0.321 |     0.725 | ***  |      0.033 |   0.000 |       -0.386 |       -0.257 |             0.680 |             0.774 |\n",
            "| HOWH_good        |  0.180 |     1.197 | ***  |      0.027 |   0.000 |        0.126 |        0.233 |             1.134 |             1.263 |\n",
            "| HOWN_good        |  0.111 |     1.118 | ***  |      0.022 |   0.000 |        0.067 |        0.155 |             1.070 |             1.168 |\n",
            "| DWNPAY_prev_home |  0.133 |     1.142 | ***  |      0.076 |   0.000 |       -0.017 |        0.283 |             0.983 |             1.326 |\n",
            "| Intercept        | 11.708 |           | ***  |      0.000 |         |       11.708 |              |            11.708 |                   |\n",
            "---------------------------------------------------------------------------------------------------------------------------------------------\n",
            "| Observations     |  9,351 |           |      |            |         |              |              |                   |                   |\n",
            "| R²               |  0.318 |           |      |            |         |              |              |                   |                   |\n",
            "| RMSE             |  0.793 |           |      |            |         |              |              |                   |                   |\n",
            "+------------------+--------+-----------+------+------------+---------+--------------+--------------+-------------------+-------------------+\n"
          ]
        }
      ]
    },
    {
      "cell_type": "markdown",
      "source": [
        "Each predictor variable's statistical significance is rated by stars under the column \"Sig.\". Predictors that are not statisically significant do not have any stars. We can see in the regression table that not all of the predictor variables are statistically significant. In our next Linear Regression Model, we will only include variables that are statistically significant. We can then compare the two models and decide whether or not removing non-statistically significant variables impacts the accuracy of the model and functionality of the model."
      ],
      "metadata": {
        "id": "qk3hKKCJVi5J"
      }
    },
    {
      "cell_type": "markdown",
      "source": [
        "### New Linear Regression (Model 2)\n",
        "\n"
      ],
      "metadata": {
        "id": "pfcZQKwqQeAk"
      }
    },
    {
      "cell_type": "code",
      "source": [
        "# assembling predictors\n",
        "conti_cols_2 = ['ZINC2', 'BATHS', 'BEDRMS', 'NUNITS', 'EJUNK',\n",
        "              'ESFD', 'ETRANS', 'EABAN', 'INTW', 'FRSTHO']\n",
        "\n",
        "dummy_cols = dummy_cols_STATE + dummy_cols_METRO + dummy_cols_HHGRAD + dummy_cols_HOWH + dummy_cols_HOWN + dummy_cols_DWNPAY\n",
        "\n",
        "assembler_predictors_2 = (\n",
        "    conti_cols_2 +\n",
        "    dummy_cols\n",
        ")\n",
        "\n",
        "assembler_2 = VectorAssembler(\n",
        "    inputCols = assembler_predictors_2,\n",
        "    outputCol = \"predictors\"\n",
        ")\n",
        "\n",
        "dtrain_2 = assembler_2.transform(dtrain)\n",
        "dtest_2  = assembler_2.transform(dtest)\n",
        "\n",
        "# training model\n",
        "model_2 = (\n",
        "    LinearRegression(featuresCol=\"predictors\",\n",
        "                     labelCol=\"LOG_VALUE\")\n",
        "    .fit(dtrain_2)\n",
        ")\n",
        "\n",
        "# making prediction\n",
        "dtest_2 = model_2.transform(dtest_2)\n",
        "\n",
        "# makting regression table\n",
        "print( regression_table(model_2, assembler_2) )"
      ],
      "metadata": {
        "colab": {
          "base_uri": "https://localhost:8080/"
        },
        "id": "ILXL45lyQauK",
        "outputId": "b74dd75e-c4f2-41f0-e015-e11bb69f1801"
      },
      "execution_count": null,
      "outputs": [
        {
          "output_type": "stream",
          "name": "stdout",
          "text": [
            "+------------------+--------+-----------+------+------------+---------+--------------+--------------+-------------------+-------------------+\n",
            "| y: LOG_VALUE     |   Beta | Exp(Beta) | Sig. | Std. Error | p-value | 95% CI Lower | 95% CI Upper | Exp(95% CI Lower) | Exp(95% CI Upper) |\n",
            "+------------------+--------+-----------+------+------------+---------+--------------+--------------+-------------------+-------------------+\n",
            "| ZINC2            |  0.000 |     1.000 | ***  |      0.014 |   0.000 |       -0.028 |        0.028 |             0.972 |             1.028 |\n",
            "| BATHS            |  0.213 |     1.238 | ***  |      0.012 |   0.000 |        0.190 |        0.236 |             1.210 |             1.267 |\n",
            "| BEDRMS           |  0.087 |     1.091 | ***  |      0.001 |   0.000 |        0.086 |        0.088 |             1.089 |             1.092 |\n",
            "| NUNITS           | -0.002 |     0.998 |  **  |      0.065 |   0.011 |       -0.129 |        0.126 |             0.879 |             1.134 |\n",
            "| EJUNK            | -0.219 |     0.803 | ***  |      0.036 |   0.001 |       -0.290 |       -0.148 |             0.748 |             0.862 |\n",
            "| ESFD             |  0.273 |     1.315 | ***  |      0.032 |   0.000 |        0.211 |        0.336 |             1.235 |             1.399 |\n",
            "| ETRANS           | -0.088 |     0.916 | ***  |      0.045 |   0.006 |       -0.177 |        0.001 |             0.838 |             1.001 |\n",
            "| EABAN            | -0.188 |     0.829 | ***  |      0.005 |   0.000 |       -0.198 |       -0.177 |             0.820 |             0.838 |\n",
            "| INTW             | -0.049 |     0.952 | ***  |      0.022 |   0.000 |       -0.092 |       -0.007 |             0.912 |             0.993 |\n",
            "| FRSTHO           | -0.084 |     0.919 | ***  |      0.037 |   0.000 |       -0.156 |       -0.013 |             0.856 |             0.988 |\n",
            "| STATE_CO         | -0.290 |     0.748 | ***  |      0.039 |   0.000 |       -0.366 |       -0.213 |             0.693 |             0.808 |\n",
            "| STATE_CT         | -0.328 |     0.720 | ***  |      0.038 |   0.000 |       -0.403 |       -0.253 |             0.668 |             0.777 |\n",
            "| STATE_GA         | -0.615 |     0.541 | ***  |      0.071 |   0.000 |       -0.754 |       -0.477 |             0.471 |             0.621 |\n",
            "| STATE_IL         | -0.867 |     0.420 | ***  |      0.038 |   0.000 |       -0.942 |       -0.793 |             0.390 |             0.453 |\n",
            "| STATE_IN         | -0.736 |     0.479 | ***  |      0.046 |   0.000 |       -0.826 |       -0.645 |             0.438 |             0.525 |\n",
            "| STATE_LA         | -0.716 |     0.489 | ***  |      0.043 |   0.000 |       -0.799 |       -0.633 |             0.450 |             0.531 |\n",
            "| STATE_MO         | -0.645 |     0.525 | ***  |      0.041 |   0.000 |       -0.724 |       -0.565 |             0.485 |             0.568 |\n",
            "| STATE_OH         | -0.640 |     0.527 | ***  |      0.041 |   0.000 |       -0.720 |       -0.561 |             0.487 |             0.571 |\n",
            "| STATE_OK         | -0.997 |     0.369 | ***  |      0.042 |   0.000 |       -1.081 |       -0.914 |             0.339 |             0.401 |\n",
            "| STATE_PA         | -0.892 |     0.410 | ***  |      0.043 |   0.000 |       -0.976 |       -0.808 |             0.377 |             0.446 |\n",
            "| STATE_TX         | -1.047 |     0.351 | ***  |      0.039 |   0.000 |       -1.122 |       -0.971 |             0.326 |             0.379 |\n",
            "| STATE_WA         | -0.089 |     0.915 |  **  |      0.022 |   0.021 |       -0.133 |       -0.045 |             0.876 |             0.956 |\n",
            "| METRO_urban      |  0.087 |     1.090 | ***  |      0.029 |   0.000 |        0.030 |        0.144 |             1.030 |             1.154 |\n",
            "| HHGRAD_Assoc     | -0.157 |     0.855 | ***  |      0.026 |   0.000 |       -0.208 |       -0.105 |             0.812 |             0.900 |\n",
            "| HHGRAD_Grad      |  0.080 |     1.083 | ***  |      0.021 |   0.003 |        0.039 |        0.121 |             1.039 |             1.128 |\n",
            "| HHGRAD_HS_Grad   | -0.183 |     0.833 | ***  |      0.037 |   0.000 |       -0.255 |       -0.111 |             0.775 |             0.895 |\n",
            "| HHGRAD_No_HS     | -0.329 |     0.719 | ***  |      0.033 |   0.000 |       -0.394 |       -0.265 |             0.675 |             0.767 |\n",
            "| HOWH_good        |  0.180 |     1.197 | ***  |      0.027 |   0.000 |        0.127 |        0.233 |             1.136 |             1.262 |\n",
            "| HOWN_good        |  0.119 |     1.126 | ***  |      0.022 |   0.000 |        0.075 |        0.163 |             1.078 |             1.177 |\n",
            "| DWNPAY_prev_home |  0.133 |     1.143 | ***  |      0.073 |   0.000 |       -0.009 |        0.276 |             0.991 |             1.318 |\n",
            "| Intercept        | 11.677 |           | ***  |      0.000 |         |       11.677 |              |            11.677 |                   |\n",
            "---------------------------------------------------------------------------------------------------------------------------------------------\n",
            "| Observations     |  9,351 |           |      |            |         |              |              |                   |                   |\n",
            "| R²               |  0.318 |           |      |            |         |              |              |                   |                   |\n",
            "| RMSE             |  0.794 |           |      |            |         |              |              |                   |                   |\n",
            "+------------------+--------+-----------+------+------------+---------+--------------+--------------+-------------------+-------------------+\n"
          ]
        }
      ]
    },
    {
      "cell_type": "markdown",
      "source": [
        "### Model Comparison"
      ],
      "metadata": {
        "id": "mjZ539K4UY-U"
      }
    },
    {
      "cell_type": "markdown",
      "source": [
        "We can compare the models by looking for differences in their beta, $R^2$, and RMSE values, as well as their residual plots."
      ],
      "metadata": {
        "id": "ThiFC4gMfX0R"
      }
    },
    {
      "cell_type": "markdown",
      "source": [
        "#### Beta and $R^2$ values"
      ],
      "metadata": {
        "id": "yjvh9IFiVGtV"
      }
    },
    {
      "cell_type": "code",
      "source": [
        "print(compare_reg_models([model_1, model_2],\n",
        "                        [assembler_1, assembler_2],\n",
        "                        [\"Model 1\", \"Model 2\"]))"
      ],
      "metadata": {
        "colab": {
          "base_uri": "https://localhost:8080/"
        },
        "id": "Bgu1Qz3pUbIZ",
        "outputId": "b4cda7f3-6928-4505-962b-8f3cb6c3336f"
      },
      "execution_count": null,
      "outputs": [
        {
          "output_type": "stream",
          "name": "stdout",
          "text": [
            "--------------------------------------------------------------------------\n",
            "+------------------+--------------------------+--------------------------+\n",
            "| Predictor        |   y: LOG_VALUE (Model 1) |   y: LOG_VALUE (Model 2) |\n",
            "--------------------------------------------------------------------------\n",
            "+==================+==========================+==========================+\n",
            "| ZINC2            |         0.000*** / 1.000 |         0.000*** / 1.000 |\n",
            "+------------------+--------------------------+--------------------------+\n",
            "| BATHS            |         0.211*** / 1.235 |         0.213*** / 1.238 |\n",
            "+------------------+--------------------------+--------------------------+\n",
            "| BEDRMS           |         0.089*** / 1.093 |         0.087*** / 1.091 |\n",
            "+------------------+--------------------------+--------------------------+\n",
            "| PER              |            0.005 / 1.005 |                          |\n",
            "+------------------+--------------------------+--------------------------+\n",
            "| ZADULT           |           -0.022 / 0.978 |                          |\n",
            "+------------------+--------------------------+--------------------------+\n",
            "| NUNITS           |         -0.001** / 0.999 |         -0.002** / 0.998 |\n",
            "+------------------+--------------------------+--------------------------+\n",
            "| EAPTBL           |           -0.020 / 0.980 |                          |\n",
            "+------------------+--------------------------+--------------------------+\n",
            "| ECOM1            |           -0.006 / 0.994 |                          |\n",
            "+------------------+--------------------------+--------------------------+\n",
            "| ECOM2            |           -0.067 / 0.935 |                          |\n",
            "+------------------+--------------------------+--------------------------+\n",
            "| EGREEN           |            0.006 / 1.006 |                          |\n",
            "+------------------+--------------------------+--------------------------+\n",
            "| EJUNK            |        -0.215*** / 0.807 |        -0.219*** / 0.803 |\n",
            "+------------------+--------------------------+--------------------------+\n",
            "| ELOW1            |            0.022 / 1.022 |                          |\n",
            "+------------------+--------------------------+--------------------------+\n",
            "| ESFD             |         0.279*** / 1.322 |         0.273*** / 1.315 |\n",
            "+------------------+--------------------------+--------------------------+\n",
            "| ETRANS           |         -0.075** / 0.928 |        -0.088*** / 0.916 |\n",
            "+------------------+--------------------------+--------------------------+\n",
            "| EABAN            |        -0.178*** / 0.837 |        -0.188*** / 0.829 |\n",
            "+------------------+--------------------------+--------------------------+\n",
            "| ODORA            |           -0.010 / 0.990 |                          |\n",
            "+------------------+--------------------------+--------------------------+\n",
            "| STRNA            |           -0.028 / 0.972 |                          |\n",
            "+------------------+--------------------------+--------------------------+\n",
            "| INTW             |        -0.048*** / 0.953 |        -0.049*** / 0.952 |\n",
            "+------------------+--------------------------+--------------------------+\n",
            "| MATBUY           |           -0.017 / 0.983 |                          |\n",
            "+------------------+--------------------------+--------------------------+\n",
            "| FRSTHO           |        -0.083*** / 0.920 |        -0.084*** / 0.919 |\n",
            "+------------------+--------------------------+--------------------------+\n",
            "| STATE_CO         |        -0.294*** / 0.745 |        -0.290*** / 0.748 |\n",
            "+------------------+--------------------------+--------------------------+\n",
            "| STATE_CT         |        -0.327*** / 0.721 |        -0.328*** / 0.720 |\n",
            "+------------------+--------------------------+--------------------------+\n",
            "| STATE_GA         |        -0.615*** / 0.540 |        -0.615*** / 0.541 |\n",
            "+------------------+--------------------------+--------------------------+\n",
            "| STATE_IL         |        -0.862*** / 0.422 |        -0.867*** / 0.420 |\n",
            "+------------------+--------------------------+--------------------------+\n",
            "| STATE_IN         |        -0.736*** / 0.479 |        -0.736*** / 0.479 |\n",
            "+------------------+--------------------------+--------------------------+\n",
            "| STATE_LA         |        -0.712*** / 0.490 |        -0.716*** / 0.489 |\n",
            "+------------------+--------------------------+--------------------------+\n",
            "| STATE_MO         |        -0.645*** / 0.525 |        -0.645*** / 0.525 |\n",
            "+------------------+--------------------------+--------------------------+\n",
            "| STATE_OH         |        -0.636*** / 0.529 |        -0.640*** / 0.527 |\n",
            "+------------------+--------------------------+--------------------------+\n",
            "| STATE_OK         |        -0.996*** / 0.369 |        -0.997*** / 0.369 |\n",
            "+------------------+--------------------------+--------------------------+\n",
            "| STATE_PA         |        -0.891*** / 0.410 |        -0.892*** / 0.410 |\n",
            "+------------------+--------------------------+--------------------------+\n",
            "| STATE_TX         |        -1.045*** / 0.352 |        -1.047*** / 0.351 |\n",
            "+------------------+--------------------------+--------------------------+\n",
            "| STATE_WA         |         -0.089** / 0.915 |         -0.089** / 0.915 |\n",
            "+------------------+--------------------------+--------------------------+\n",
            "| METRO_urban      |         0.092*** / 1.096 |         0.087*** / 1.090 |\n",
            "+------------------+--------------------------+--------------------------+\n",
            "| HHGRAD_Assoc     |        -0.153*** / 0.858 |        -0.157*** / 0.855 |\n",
            "+------------------+--------------------------+--------------------------+\n",
            "| HHGRAD_Grad      |         0.079*** / 1.083 |         0.080*** / 1.083 |\n",
            "+------------------+--------------------------+--------------------------+\n",
            "| HHGRAD_HS_Grad   |        -0.178*** / 0.837 |        -0.183*** / 0.833 |\n",
            "+------------------+--------------------------+--------------------------+\n",
            "| HHGRAD_No_HS     |        -0.321*** / 0.725 |        -0.329*** / 0.719 |\n",
            "+------------------+--------------------------+--------------------------+\n",
            "| HOWH_good        |         0.180*** / 1.197 |         0.180*** / 1.197 |\n",
            "+------------------+--------------------------+--------------------------+\n",
            "| HOWN_good        |         0.111*** / 1.118 |         0.119*** / 1.126 |\n",
            "+------------------+--------------------------+--------------------------+\n",
            "| DWNPAY_prev_home |         0.133*** / 1.142 |         0.133*** / 1.143 |\n",
            "+------------------+--------------------------+--------------------------+\n",
            "| Intercept        |                11.708*** |                11.677*** |\n",
            "==========================================================================\n",
            "| Observations     |                    9,351 |                    9,351 |\n",
            "+------------------+--------------------------+--------------------------+\n",
            "| R²               |                    0.318 |                    0.318 |\n",
            "+------------------+--------------------------+--------------------------+\n",
            "| RMSE             |                    0.793 |                    0.794 |\n",
            "+------------------+--------------------------+--------------------------+\n",
            "--------------------------------------------------------------------------\n"
          ]
        }
      ]
    },
    {
      "cell_type": "markdown",
      "source": [
        "**The two models generally have similar or the same beta values for each predictor. They also have the same $R^2$ values. This suggests that one of the models may not be more accurate in predicting house value than the other and that the two are functionally equivalent.**"
      ],
      "metadata": {
        "id": "nPIfd_d768J0"
      }
    },
    {
      "cell_type": "markdown",
      "source": [
        "#### RMSE"
      ],
      "metadata": {
        "id": "EaBBUeK0VJUn"
      }
    },
    {
      "cell_type": "code",
      "source": [
        "print(compare_rmse([dtest_1, dtest_2], \"LOG_VALUE\"))"
      ],
      "metadata": {
        "colab": {
          "base_uri": "https://localhost:8080/"
        },
        "id": "XtAFqso7VFRn",
        "outputId": "19760a8d-5318-4ace-adc0-8b4abe045353"
      },
      "execution_count": null,
      "outputs": [
        {
          "output_type": "stream",
          "name": "stdout",
          "text": [
            "+------+-----------+-----------+\n",
            "|      |   Model 1 |   Model 2 |\n",
            "+======+===========+===========+\n",
            "| RMSE |     0.851 |     0.852 |\n",
            "+------+-----------+-----------+\n"
          ]
        }
      ]
    },
    {
      "cell_type": "markdown",
      "source": [
        "**The RMSE values for the two models are relatively the same, with Model 1 having a slightly lower value. This suggests that Model 1 may be a slightly better fit for the data.**"
      ],
      "metadata": {
        "id": "wmbX1tB57nnn"
      }
    },
    {
      "cell_type": "markdown",
      "source": [
        "#### Residual Plots"
      ],
      "metadata": {
        "id": "dohIRar9V-ma"
      }
    },
    {
      "cell_type": "code",
      "source": [
        "residual_plot(dtest_1, \"LOG_VALUE\", \"Model 1\")"
      ],
      "metadata": {
        "colab": {
          "base_uri": "https://localhost:8080/",
          "height": 472
        },
        "id": "Dx5_e1yyWB8e",
        "outputId": "12c61621-1d53-4c9e-c870-108ad7fe8705"
      },
      "execution_count": null,
      "outputs": [
        {
          "output_type": "display_data",
          "data": {
            "text/plain": [
              "<Figure size 640x480 with 1 Axes>"
            ],
            "image/png": "[encoded data removed]"
          },
          "metadata": {}
        }
      ]
    },
    {
      "cell_type": "code",
      "source": [
        "residual_plot(dtest_2, \"LOG_VALUE\", \"Model 2\")"
      ],
      "metadata": {
        "colab": {
          "base_uri": "https://localhost:8080/",
          "height": 472
        },
        "id": "gu5xCyuGWJnh",
        "outputId": "1b330cda-ff7a-4a9f-cbe5-5396ec4402a0"
      },
      "execution_count": null,
      "outputs": [
        {
          "output_type": "display_data",
          "data": {
            "text/plain": [
              "<Figure size 640x480 with 1 Axes>"
            ],
            "image/png": "[encoded data removed]"
          },
          "metadata": {}
        }
      ]
    },
    {
      "cell_type": "markdown",
      "source": [
        "**The residual plots for Model 1 and Model 2 look relatively the same. This shows us that the models are able to predict the home value with the same or similar accuracy.**\n",
        "\n",
        "**Overall, the residual plots, beta values, $R^2$ values, and RMSE values were relatively the same for both models. This proves that the variables removed in Model 2 were in fact not statistically significant. Their removal did not have a major impact on the Linear Regression model.**"
      ],
      "metadata": {
        "id": "J3STwOs_8VLQ"
      }
    },
    {
      "cell_type": "markdown",
      "source": [
        "## Logistic Regression"
      ],
      "metadata": {
        "id": "l0T2m5w0ZaBt"
      }
    },
    {
      "cell_type": "markdown",
      "source": [
        "Next, we will build a Logistic Regression Model using the same DataFrame, ```homes```. However, this time we will have the model predict whether the buyer made a down payment of 20% or more. This outcome variable will be a new variable named \"GT20DOWN\". Our predictor variables will once again be all available variables, excluding the amount of the first mortgage and the purchase price of the unit and land.\n",
        "\n"
      ],
      "metadata": {
        "id": "9AXn3-Ahf78r"
      }
    },
    {
      "cell_type": "markdown",
      "source": [
        "### Outcome Variable"
      ],
      "metadata": {
        "id": "3pujxZj0PKOz"
      }
    },
    {
      "cell_type": "code",
      "source": [
        "df = df.withColumn(\"GT20DOWN\", when((col(\"LPRICE\") - col(\"AMMORT\")) / col(\"LPRICE\") > 0, 1).otherwise(0))"
      ],
      "metadata": {
        "id": "r9Vk1_gCZbh5"
      },
      "execution_count": null,
      "outputs": []
    },
    {
      "cell_type": "markdown",
      "source": [
        "### Split into Training/Testing"
      ],
      "metadata": {
        "id": "r0zGQjKRPM5M"
      }
    },
    {
      "cell_type": "code",
      "source": [
        "dtrain, dtest = df.randomSplit([0.6, 0.4], seed=1234)"
      ],
      "metadata": {
        "id": "HUn6wRurOgkp"
      },
      "execution_count": null,
      "outputs": []
    },
    {
      "cell_type": "markdown",
      "source": [
        "### Dummy Variables"
      ],
      "metadata": {
        "id": "B2GFbPAuPPaQ"
      }
    },
    {
      "cell_type": "code",
      "source": [
        "dummy_cols_STATE, ref_category_STATE = add_dummy_variables('STATE', 0)\n",
        "dummy_cols_METRO, ref_category_METRO = add_dummy_variables('METRO', 0)\n",
        "dummy_cols_HHGRAD, ref_category_HHGRAD = add_dummy_variables('HHGRAD', 1)\n",
        "dummy_cols_HOWH, ref_category_HOWH = add_dummy_variables('HOWH', 0)\n",
        "dummy_cols_HOWN, ref_category_HOWN = add_dummy_variables('HOWN', 0)\n",
        "dummy_cols_DWNPAY, ref_category_DWNPAY = add_dummy_variables('DWNPAY', 0)"
      ],
      "metadata": {
        "colab": {
          "base_uri": "https://localhost:8080/"
        },
        "id": "dCt2L3QYO7mF",
        "outputId": "2175164b-3e4e-4cb4-a118-065a5843574b"
      },
      "execution_count": null,
      "outputs": [
        {
          "output_type": "stream",
          "name": "stdout",
          "text": [
            "Reference category (dummy omitted): CA\n",
            "Reference category (dummy omitted): rural\n",
            "Reference category (dummy omitted): Bach\n",
            "Reference category (dummy omitted): bad\n",
            "Reference category (dummy omitted): bad\n",
            "Reference category (dummy omitted): other\n"
          ]
        }
      ]
    },
    {
      "cell_type": "code",
      "source": [
        "\n",
        "# Keep the name assembler_predictors unchanged,\n",
        "#   as it will be used as a global variable in the marginal_effects UDF.\n",
        "assembler_predictors = (\n",
        "    conti_cols_2 +\n",
        "    dummy_cols\n",
        ")\n",
        "\n",
        "assembler_3 = VectorAssembler(\n",
        "    inputCols = assembler_predictors,\n",
        "    outputCol = \"predictors\"\n",
        ")\n",
        "\n",
        "dtrain_3 = assembler_3.transform(dtrain)\n",
        "dtest_3  = assembler_3.transform(dtest)"
      ],
      "metadata": {
        "id": "s0VUN5jLfTq_"
      },
      "execution_count": null,
      "outputs": []
    },
    {
      "cell_type": "code",
      "source": [
        "# training the model\n",
        "model_3 = (\n",
        "    GeneralizedLinearRegression(featuresCol=\"predictors\",\n",
        "                                labelCol=\"GT20DOWN\",\n",
        "                                family=\"binomial\",\n",
        "                                link=\"logit\")\n",
        "    .fit(dtrain_3)\n",
        ")"
      ],
      "metadata": {
        "id": "DSRmvutDfyVn"
      },
      "execution_count": null,
      "outputs": []
    },
    {
      "cell_type": "code",
      "source": [
        "dtrain_3 = model_3.transform(dtrain_3)\n",
        "dtest_3 = model_3.transform(dtest_3)"
      ],
      "metadata": {
        "id": "_uefsSiSf25X"
      },
      "execution_count": null,
      "outputs": []
    },
    {
      "cell_type": "code",
      "source": [
        "model_3.summary"
      ],
      "metadata": {
        "colab": {
          "base_uri": "https://localhost:8080/"
        },
        "id": "_o7LLxqFf8YT",
        "outputId": "a709be69-856d-4557-ab25-f9cc4172359d"
      },
      "execution_count": null,
      "outputs": [
        {
          "output_type": "execute_result",
          "data": {
            "text/plain": [
              "Coefficients:\n",
              "         Feature Estimate Std Error  T Value P Value\n",
              "     (Intercept)   0.7348    0.1998   3.6781  0.0002\n",
              "           ZINC2   0.0000    0.0000   0.8766  0.3807\n",
              "           BATHS   0.2872    0.0407   7.0522  0.0000\n",
              "          BEDRMS  -0.0784    0.0323  -2.4263  0.0153\n",
              "          NUNITS   0.0129    0.0061   2.1077  0.0351\n",
              "           EJUNK  -0.2353    0.1723  -1.3658  0.1720\n",
              "            ESFD  -0.2221    0.0997  -2.2287  0.0258\n",
              "          ETRANS  -0.1349    0.0844  -1.5981  0.1100\n",
              "           EABAN  -0.3862    0.1205  -3.2045  0.0014\n",
              "            INTW  -0.0686    0.0148  -4.6394  0.0000\n",
              "          FRSTHO  -0.3151    0.0568  -5.5470  0.0000\n",
              "        STATE_CO  -0.1912    0.0984  -1.9438  0.0519\n",
              "        STATE_CT   0.7224    0.1092   6.6139  0.0000\n",
              "        STATE_GA   0.0132    0.1038   0.1277  0.8984\n",
              "        STATE_IL   0.3506    0.1939   1.8087  0.0705\n",
              "        STATE_IN   0.2030    0.1031   1.9687  0.0490\n",
              "        STATE_LA   0.4599    0.1255   3.6651  0.0002\n",
              "        STATE_MO   0.2093    0.1154   1.8130  0.0698\n",
              "        STATE_OH   0.5330    0.1115   4.7800  0.0000\n",
              "        STATE_OK   0.0986    0.1092   0.9034  0.3663\n",
              "        STATE_PA   0.2630    0.1146   2.2937  0.0218\n",
              "        STATE_TX   0.1307    0.1147   1.1400  0.2543\n",
              "        STATE_WA   0.1071    0.1041   1.0287  0.3036\n",
              "     METRO_urban   0.0673    0.0603   1.1174  0.2638\n",
              "    HHGRAD_Assoc  -0.6806    0.0783  -8.6891  0.0000\n",
              "     HHGRAD_Grad  -0.0532    0.0764  -0.6958  0.4865\n",
              "  HHGRAD_HS_Grad  -0.6810    0.0579 -11.7598  0.0000\n",
              "    HHGRAD_No_HS  -0.8795    0.0977  -9.0009  0.0000\n",
              "       HOWH_good   0.0314    0.0871   0.3603  0.7186\n",
              "       HOWN_good   0.2052    0.0715   2.8701  0.0041\n",
              "DWNPAY_prev_home   0.6042    0.0620   9.7496  0.0000\n",
              "\n",
              "(Dispersion parameter for binomial family taken to be 1.0000)\n",
              "    Null deviance: 12511.4865 on 9320 degrees of freedom\n",
              "Residual deviance: 11489.7938 on 9320 degrees of freedom\n",
              "AIC: 11551.7938"
            ]
          },
          "metadata": {},
          "execution_count": 37
        }
      ]
    },
    {
      "cell_type": "markdown",
      "source": [
        "### Marginal Effects"
      ],
      "metadata": {
        "id": "ZPDwc9faPxcp"
      }
    },
    {
      "cell_type": "markdown",
      "source": [
        "We can use the marginal effect of a predictor variable to analyze the relationship or association between the predictor and outcome variable. In this case, we will interpret the association between first-time homeownership and the probability of making a 20%+ down payment. Additionally, we will be able to interpret the association between number of bedrooms in the home and the probability of making a 20%+ down payment."
      ],
      "metadata": {
        "id": "bC6dyyhgiPgM"
      }
    },
    {
      "cell_type": "code",
      "source": [
        "# Compute means\n",
        "means_df = dtrain_3.select([mean(col).alias(col) for col in assembler_predictors])\n",
        "\n",
        "# Collect the results as a list\n",
        "means = means_df.collect()[0]\n",
        "means_list = [means[col] for col in assembler_predictors]"
      ],
      "metadata": {
        "id": "0nu3YjQVPzN_"
      },
      "execution_count": null,
      "outputs": []
    },
    {
      "cell_type": "code",
      "source": [
        "table_output, df_ME = marginal_effects(model_3, means_list)\n",
        "print(table_output)"
      ],
      "metadata": {
        "colab": {
          "base_uri": "https://localhost:8080/"
        },
        "id": "EZtZHM_lP5Vt",
        "outputId": "2607f369-13bf-4cce-ec21-2b115e636560"
      },
      "execution_count": null,
      "outputs": [
        {
          "output_type": "stream",
          "name": "stdout",
          "text": [
            "+------------------+-----------------+--------------+------------+--------------+--------------+\n",
            "| Variable         | Marginal Effect | Significance | Std. Error | 95% CI Lower | 95% CI Upper |\n",
            "+------------------+-----------------+--------------+------------+--------------+--------------+\n",
            "| ZINC2            |          0.0000 |              |     0.0000 |      -0.0000 |       0.0000 |\n",
            "| BATHS            |          0.0674 | ***          |     0.0096 |       0.0487 |       0.0861 |\n",
            "| BEDRMS           |         -0.0184 | **           |     0.0076 |      -0.0333 |      -0.0035 |\n",
            "| NUNITS           |          0.0030 | **           |     0.0014 |       0.0002 |       0.0058 |\n",
            "| EJUNK            |         -0.0552 |              |     0.0404 |      -0.1345 |       0.0240 |\n",
            "| ESFD             |         -0.0521 | **           |     0.0234 |      -0.0980 |      -0.0063 |\n",
            "| ETRANS           |         -0.0316 |              |     0.0198 |      -0.0705 |       0.0072 |\n",
            "| EABAN            |         -0.0906 | ***          |     0.0283 |      -0.1461 |      -0.0352 |\n",
            "| INTW             |         -0.0161 | ***          |     0.0035 |      -0.0229 |      -0.0093 |\n",
            "| FRSTHO           |         -0.0739 | ***          |     0.0133 |      -0.1001 |      -0.0478 |\n",
            "| STATE_CO         |         -0.0449 | *            |     0.0231 |      -0.0901 |       0.0004 |\n",
            "| STATE_CT         |          0.1695 | ***          |     0.0256 |       0.1193 |       0.2198 |\n",
            "| STATE_GA         |          0.0031 |              |     0.0244 |      -0.0446 |       0.0508 |\n",
            "| STATE_IL         |          0.0823 | *            |     0.0455 |      -0.0069 |       0.1714 |\n",
            "| STATE_IN         |          0.0476 | **           |     0.0242 |       0.0002 |       0.0951 |\n",
            "| STATE_LA         |          0.1079 | ***          |     0.0294 |       0.0502 |       0.1656 |\n",
            "| STATE_MO         |          0.0491 | *            |     0.0271 |      -0.0040 |       0.1022 |\n",
            "| STATE_OH         |          0.1251 | ***          |     0.0262 |       0.0738 |       0.1764 |\n",
            "| STATE_OK         |          0.0231 |              |     0.0256 |      -0.0271 |       0.0734 |\n",
            "| STATE_PA         |          0.0617 | **           |     0.0269 |       0.0090 |       0.1144 |\n",
            "| STATE_TX         |          0.0307 |              |     0.0269 |      -0.0221 |       0.0834 |\n",
            "| STATE_WA         |          0.0251 |              |     0.0244 |      -0.0228 |       0.0730 |\n",
            "| METRO_urban      |          0.0158 |              |     0.0141 |      -0.0119 |       0.0435 |\n",
            "| HHGRAD_Assoc     |         -0.1597 | ***          |     0.0184 |      -0.1957 |      -0.1237 |\n",
            "| HHGRAD_Grad      |         -0.0125 |              |     0.0179 |      -0.0476 |       0.0227 |\n",
            "| HHGRAD_HS_Grad   |         -0.1598 | ***          |     0.0136 |      -0.1864 |      -0.1332 |\n",
            "| HHGRAD_No_HS     |         -0.2064 | ***          |     0.0229 |      -0.2513 |      -0.1614 |\n",
            "| HOWH_good        |          0.0074 |              |     0.0204 |      -0.0327 |       0.0474 |\n",
            "| HOWN_good        |          0.0482 | ***          |     0.0168 |       0.0153 |       0.0810 |\n",
            "| DWNPAY_prev_home |          0.1418 | ***          |     0.0145 |       0.1133 |       0.1703 |\n",
            "+------------------+-----------------+--------------+------------+--------------+--------------+\n"
          ]
        }
      ]
    },
    {
      "cell_type": "markdown",
      "source": [
        "**The marginal effect of first time homebuyers (FRSTHO) is $-0.0739$. This shows that first time home buyers are 7.39% less likely to make a 20% down payment.**\n",
        "\n",
        "**The marginal effect of the number of bedrooms (BEDRMS) is $-0.0184$. This shows that an additional bedroom is associated with a 1.84% lower probability of making a 20% down payment.**"
      ],
      "metadata": {
        "id": "zKDXzMfMQFep"
      }
    },
    {
      "cell_type": "markdown",
      "source": [
        "## Adding Interaction Terms"
      ],
      "metadata": {
        "id": "TPLUDsaJQF1A"
      }
    },
    {
      "cell_type": "markdown",
      "source": [
        "Let's take a closer look at the relationship between number of bedrooms, first-time homebuyers, and the probability of making a 20%+ down payment. To do this, we will fit a new Logistic Regression Model using all the previously included predictors, plus the interaction between first-time homebuyers, ```FRSTHO```, and number of bedrooms, ```BEDRMS```. This will allow us to interpret how the relationship between the number of bedrooms and the probability of making a 20%+ down payment varies depending on whether the buyer is a first-time homebuyer."
      ],
      "metadata": {
        "id": "amVy3QoMlAMp"
      }
    },
    {
      "cell_type": "markdown",
      "source": [
        "### Interaction Between ```FRSTHO``` and ```BEDRMS```"
      ],
      "metadata": {
        "id": "_6D6OFTiTv1J"
      }
    },
    {
      "cell_type": "code",
      "source": [
        "interaction_cols_FRSTHO_BEDRMS = add_interaction_terms(['FRSTHO'], ['BEDRMS'])"
      ],
      "metadata": {
        "id": "8rVq6blDSwXU"
      },
      "execution_count": null,
      "outputs": []
    },
    {
      "cell_type": "markdown",
      "source": [
        "### New Logistic Regression (with Interaction Terms)"
      ],
      "metadata": {
        "id": "ToLFzYH6T0di"
      }
    },
    {
      "cell_type": "code",
      "source": [
        "assembler_predictors = (\n",
        "    conti_cols_2 +\n",
        "    dummy_cols +\n",
        "    interaction_cols_FRSTHO_BEDRMS\n",
        ")\n",
        "\n",
        "assembler_4 = VectorAssembler(\n",
        "    inputCols = assembler_predictors,\n",
        "    outputCol = \"predictors\"\n",
        ")\n",
        "\n",
        "dtrain_4 = assembler_4.transform(dtrain)\n",
        "dtest_4  = assembler_4.transform(dtest)"
      ],
      "metadata": {
        "id": "oLO3BQWpTNSJ"
      },
      "execution_count": null,
      "outputs": []
    },
    {
      "cell_type": "code",
      "source": [
        "# training the model\n",
        "model_4 = (\n",
        "    GeneralizedLinearRegression(featuresCol=\"predictors\",\n",
        "                                labelCol=\"GT20DOWN\",\n",
        "                                family=\"binomial\",\n",
        "                                link=\"logit\")\n",
        "    .fit(dtrain_4)\n",
        ")"
      ],
      "metadata": {
        "id": "LuYvjP7HTf1_"
      },
      "execution_count": null,
      "outputs": []
    },
    {
      "cell_type": "code",
      "source": [
        "dtrain_4 = model_4.transform(dtrain_4)\n",
        "dtest_4 = model_4.transform(dtest_4)"
      ],
      "metadata": {
        "id": "ulwuPCVMTmAy"
      },
      "execution_count": null,
      "outputs": []
    },
    {
      "cell_type": "code",
      "source": [
        "model_4.summary"
      ],
      "metadata": {
        "colab": {
          "base_uri": "https://localhost:8080/"
        },
        "id": "cz7c5ANcTp_s",
        "outputId": "27510067-6383-4f65-c6b7-291830edacdc"
      },
      "execution_count": null,
      "outputs": [
        {
          "output_type": "execute_result",
          "data": {
            "text/plain": [
              "Coefficients:\n",
              "         Feature Estimate Std Error  T Value P Value\n",
              "     (Intercept)   0.5973    0.2126   2.8099  0.0050\n",
              "           ZINC2   0.0000    0.0000   0.8195  0.4125\n",
              "           BATHS   0.2829    0.0408   6.9307  0.0000\n",
              "          BEDRMS  -0.0322    0.0406  -0.7929  0.4278\n",
              "          NUNITS   0.0126    0.0060   2.0798  0.0375\n",
              "           EJUNK  -0.2374    0.1721  -1.3793  0.1678\n",
              "            ESFD  -0.2240    0.0995  -2.2500  0.0244\n",
              "          ETRANS  -0.1363    0.0844  -1.6158  0.1061\n",
              "           EABAN  -0.3890    0.1205  -3.2279  0.0012\n",
              "            INTW  -0.0684    0.0148  -4.6252  0.0000\n",
              "          FRSTHO   0.0198    0.1860   0.1066  0.9151\n",
              "        STATE_CO  -0.1957    0.0984  -1.9878  0.0468\n",
              "        STATE_CT   0.7175    0.1092   6.5688  0.0000\n",
              "        STATE_GA   0.0121    0.1039   0.1167  0.9071\n",
              "        STATE_IL   0.3454    0.1938   1.7820  0.0748\n",
              "        STATE_IN   0.2013    0.1031   1.9519  0.0509\n",
              "        STATE_LA   0.4578    0.1255   3.6480  0.0003\n",
              "        STATE_MO   0.2041    0.1155   1.7673  0.0772\n",
              "        STATE_OH   0.5293    0.1116   4.7445  0.0000\n",
              "        STATE_OK   0.0965    0.1092   0.8835  0.3770\n",
              "        STATE_PA   0.2544    0.1147   2.2174  0.0266\n",
              "        STATE_TX   0.1285    0.1147   1.1201  0.2627\n",
              "        STATE_WA   0.1046    0.1042   1.0044  0.3152\n",
              "     METRO_urban   0.0646    0.0603   1.0714  0.2840\n",
              "    HHGRAD_Assoc  -0.6796    0.0783  -8.6746  0.0000\n",
              "     HHGRAD_Grad  -0.0526    0.0764  -0.6876  0.4917\n",
              "  HHGRAD_HS_Grad  -0.6788    0.0579 -11.7180  0.0000\n",
              "    HHGRAD_No_HS  -0.8770    0.0977  -8.9786  0.0000\n",
              "       HOWH_good   0.0339    0.0871   0.3892  0.6971\n",
              "       HOWN_good   0.2036    0.0715   2.8474  0.0044\n",
              "DWNPAY_prev_home   0.5951    0.0622   9.5746  0.0000\n",
              " FRSTHO_*_BEDRMS  -0.1076    0.0569  -1.8905  0.0587\n",
              "\n",
              "(Dispersion parameter for binomial family taken to be 1.0000)\n",
              "    Null deviance: 12511.4865 on 9319 degrees of freedom\n",
              "Residual deviance: 11486.2166 on 9319 degrees of freedom\n",
              "AIC: 11550.2166"
            ]
          },
          "metadata": {},
          "execution_count": 45
        }
      ]
    },
    {
      "cell_type": "markdown",
      "source": [
        "**The coefficient of the interaction term between first time homebuyers (FRSTHO) and number of bedrooms (BEDRMS) is $-0.1076$. This means that for first time homebuyers, each additional bedroom decreases the chance that the homebuyer will make a 20% down payment by 0.1076 units.**"
      ],
      "metadata": {
        "id": "_73Trtq_WXWB"
      }
    },
    {
      "cell_type": "markdown",
      "source": [
        "### Marginal Effects"
      ],
      "metadata": {
        "id": "R0Sgyf9IUdWL"
      }
    },
    {
      "cell_type": "code",
      "source": [
        "# Compute means\n",
        "means_df = dtrain_4.select([mean(col).alias(col) for col in assembler_predictors])\n",
        "\n",
        "# Collect the results as a list\n",
        "means = means_df.collect()[0]\n",
        "means_list = [means[col] for col in assembler_predictors]"
      ],
      "metadata": {
        "id": "r0N0EHz0Ue4X"
      },
      "execution_count": null,
      "outputs": []
    },
    {
      "cell_type": "code",
      "source": [
        "table_output, df_ME = marginal_effects(model_4, means_list) # Instead of mean values, some other representative values can also be chosen.\n",
        "print(table_output)"
      ],
      "metadata": {
        "colab": {
          "base_uri": "https://localhost:8080/"
        },
        "id": "aO2Zk1ZSUq3x",
        "outputId": "89ed257b-3016-46bc-a8bc-5c7d0dc65876"
      },
      "execution_count": null,
      "outputs": [
        {
          "output_type": "stream",
          "name": "stdout",
          "text": [
            "+------------------+-----------------+--------------+------------+--------------+--------------+\n",
            "| Variable         | Marginal Effect | Significance | Std. Error | 95% CI Lower | 95% CI Upper |\n",
            "+------------------+-----------------+--------------+------------+--------------+--------------+\n",
            "| ZINC2            |          0.0000 |              |     0.0000 |      -0.0000 |       0.0000 |\n",
            "| BATHS            |          0.0664 | ***          |     0.0096 |       0.0476 |       0.0852 |\n",
            "| BEDRMS           |         -0.0076 |              |     0.0095 |      -0.0262 |       0.0111 |\n",
            "| NUNITS           |          0.0029 | **           |     0.0014 |       0.0002 |       0.0057 |\n",
            "| EJUNK            |         -0.0557 |              |     0.0404 |      -0.1349 |       0.0235 |\n",
            "| ESFD             |         -0.0526 | **           |     0.0234 |      -0.0983 |      -0.0068 |\n",
            "| ETRANS           |         -0.0320 |              |     0.0198 |      -0.0708 |       0.0068 |\n",
            "| EABAN            |         -0.0913 | ***          |     0.0283 |      -0.1467 |      -0.0358 |\n",
            "| INTW             |         -0.0160 | ***          |     0.0035 |      -0.0228 |      -0.0092 |\n",
            "| FRSTHO           |          0.0047 |              |     0.0436 |      -0.0809 |       0.0902 |\n",
            "| STATE_CO         |         -0.0459 | **           |     0.0231 |      -0.0912 |      -0.0006 |\n",
            "| STATE_CT         |          0.1684 | ***          |     0.0256 |       0.1181 |       0.2186 |\n",
            "| STATE_GA         |          0.0028 |              |     0.0244 |      -0.0449 |       0.0506 |\n",
            "| STATE_IL         |          0.0810 | *            |     0.0455 |      -0.0081 |       0.1702 |\n",
            "| STATE_IN         |          0.0472 | *            |     0.0242 |      -0.0002 |       0.0947 |\n",
            "| STATE_LA         |          0.1074 | ***          |     0.0294 |       0.0497 |       0.1651 |\n",
            "| STATE_MO         |          0.0479 | *            |     0.0271 |      -0.0052 |       0.1010 |\n",
            "| STATE_OH         |          0.1242 | ***          |     0.0262 |       0.0729 |       0.1755 |\n",
            "| STATE_OK         |          0.0226 |              |     0.0256 |      -0.0276 |       0.0729 |\n",
            "| STATE_PA         |          0.0597 | **           |     0.0269 |       0.0069 |       0.1125 |\n",
            "| STATE_TX         |          0.0301 |              |     0.0269 |      -0.0226 |       0.0829 |\n",
            "| STATE_WA         |          0.0245 |              |     0.0244 |      -0.0234 |       0.0724 |\n",
            "| METRO_urban      |          0.0151 |              |     0.0141 |      -0.0126 |       0.0429 |\n",
            "| HHGRAD_Assoc     |         -0.1595 | ***          |     0.0184 |      -0.1955 |      -0.1234 |\n",
            "| HHGRAD_Grad      |         -0.0123 |              |     0.0179 |      -0.0475 |       0.0228 |\n",
            "| HHGRAD_HS_Grad   |         -0.1593 | ***          |     0.0136 |      -0.1859 |      -0.1326 |\n",
            "| HHGRAD_No_HS     |         -0.2058 | ***          |     0.0229 |      -0.2507 |      -0.1609 |\n",
            "| HOWH_good        |          0.0080 |              |     0.0204 |      -0.0321 |       0.0480 |\n",
            "| HOWN_good        |          0.0478 | ***          |     0.0168 |       0.0149 |       0.0807 |\n",
            "| DWNPAY_prev_home |          0.1396 | ***          |     0.0146 |       0.1110 |       0.1682 |\n",
            "| FRSTHO_*_BEDRMS  |         -0.0253 | *            |     0.0134 |      -0.0514 |       0.0009 |\n",
            "+------------------+-----------------+--------------+------------+--------------+--------------+\n"
          ]
        }
      ]
    },
    {
      "cell_type": "markdown",
      "source": [
        "**The marginal effect of the interaction term between first time homebuyers (FRSTHO) and number of bedrooms (BEDRMS) is $-0.0253$. This means that for each additional bedroom, first time homebuyers are 2.53% less likely to make a 20% down payment compared to non-first time homebuyers.**"
      ],
      "metadata": {
        "id": "PM19p5sCXHOW"
      }
    },
    {
      "cell_type": "markdown",
      "source": [
        "## Two More Logistic Regression Models"
      ],
      "metadata": {
        "id": "R_fX_zGHU4pa"
      }
    },
    {
      "cell_type": "markdown",
      "source": [
        "Finally, we will fit two more Logistic Regression Models in order to predict home value for two subsets of home data. One subset and model will feature only homes worth greater than or equal to 175k. The other subset will feature homes worth less than 175k. We can compare the models' residual deviance, $RMSE$, and classification performance to evaluate whether or not performance changes for different home value levels."
      ],
      "metadata": {
        "id": "UaFmdceOn8jr"
      }
    },
    {
      "cell_type": "markdown",
      "source": [
        "### Split DataFrame"
      ],
      "metadata": {
        "id": "rBDxpys2bqPZ"
      }
    },
    {
      "cell_type": "code",
      "source": [
        "greater_than_equal_175000 = df[df['VALUE'] >= 175000]\n",
        "less_than_175000 = df[df['VALUE'] < 175000]"
      ],
      "metadata": {
        "id": "6WAkFpc7U6x4"
      },
      "execution_count": null,
      "outputs": []
    },
    {
      "cell_type": "markdown",
      "source": [
        "### Homes worth VALUE ≥ 175k"
      ],
      "metadata": {
        "id": "q_xWmDisb7Rm"
      }
    },
    {
      "cell_type": "markdown",
      "source": [
        "#### Split into Training/Testing"
      ],
      "metadata": {
        "id": "Sh7WlI_ycyS1"
      }
    },
    {
      "cell_type": "code",
      "source": [
        "dtrain, dtest = greater_than_equal_175000.randomSplit([0.6, 0.4], seed=1234)"
      ],
      "metadata": {
        "id": "BA737mqcb6Yd"
      },
      "execution_count": null,
      "outputs": []
    },
    {
      "cell_type": "markdown",
      "source": [
        "#### Dummy Variables"
      ],
      "metadata": {
        "id": "12MyFdjdc2Fw"
      }
    },
    {
      "cell_type": "code",
      "source": [
        "dummy_cols_STATE, ref_category_STATE = add_dummy_variables('STATE', 0)\n",
        "dummy_cols_METRO, ref_category_METRO = add_dummy_variables('METRO', 0)\n",
        "dummy_cols_HHGRAD, ref_category_HHGRAD = add_dummy_variables('HHGRAD', 1)\n",
        "dummy_cols_HOWH, ref_category_HOWH = add_dummy_variables('HOWH', 0)\n",
        "dummy_cols_HOWN, ref_category_HOWN = add_dummy_variables('HOWN', 0)\n",
        "dummy_cols_DWNPAY, ref_category_DWNPAY = add_dummy_variables('DWNPAY', 0)"
      ],
      "metadata": {
        "colab": {
          "base_uri": "https://localhost:8080/"
        },
        "id": "udJCQnJ0chNe",
        "outputId": "e25673e5-05e5-418b-a3e3-bc0ef1b31125"
      },
      "execution_count": null,
      "outputs": [
        {
          "output_type": "stream",
          "name": "stdout",
          "text": [
            "Reference category (dummy omitted): CA\n",
            "Reference category (dummy omitted): rural\n",
            "Reference category (dummy omitted): Bach\n",
            "Reference category (dummy omitted): bad\n",
            "Reference category (dummy omitted): bad\n",
            "Reference category (dummy omitted): other\n"
          ]
        }
      ]
    },
    {
      "cell_type": "markdown",
      "source": [
        "#### Logistic Regression Model"
      ],
      "metadata": {
        "id": "Mc1nl2_Ec36M"
      }
    },
    {
      "cell_type": "code",
      "source": [
        "assembler_predictors = (\n",
        "    conti_cols_2 +\n",
        "    dummy_cols\n",
        ")\n",
        "\n",
        "assembler_5 = VectorAssembler(\n",
        "    inputCols = assembler_predictors,\n",
        "    outputCol = \"predictors\"\n",
        ")\n",
        "\n",
        "dtrain_5 = assembler_5.transform(dtrain)\n",
        "dtest_5  = assembler_5.transform(dtest)"
      ],
      "metadata": {
        "id": "CxpQgkRBclfD"
      },
      "execution_count": null,
      "outputs": []
    },
    {
      "cell_type": "code",
      "source": [
        "# training the model\n",
        "model_5 = (\n",
        "    GeneralizedLinearRegression(featuresCol=\"predictors\",\n",
        "                                labelCol=\"GT20DOWN\",\n",
        "                                family=\"binomial\",\n",
        "                                link=\"logit\")\n",
        "    .fit(dtrain_5)\n",
        ")"
      ],
      "metadata": {
        "id": "1QgzlEK1cmS2"
      },
      "execution_count": null,
      "outputs": []
    },
    {
      "cell_type": "code",
      "source": [
        "dtrain_5 = model_5.transform(dtrain_5)\n",
        "dtest_5 = model_5.transform(dtest_5)"
      ],
      "metadata": {
        "id": "ruaStKOgctbh"
      },
      "execution_count": null,
      "outputs": []
    },
    {
      "cell_type": "code",
      "source": [
        "model_5.summary"
      ],
      "metadata": {
        "colab": {
          "base_uri": "https://localhost:8080/"
        },
        "id": "ez0Ryfbuct2y",
        "outputId": "3851d995-d466-4b24-e78f-0e88dcb45f5d"
      },
      "execution_count": null,
      "outputs": [
        {
          "output_type": "execute_result",
          "data": {
            "text/plain": [
              "Coefficients:\n",
              "         Feature Estimate Std Error T Value P Value\n",
              "     (Intercept)   0.6684    0.3251  2.0562  0.0398\n",
              "           ZINC2   0.0000    0.0000 -0.0764  0.9391\n",
              "           BATHS   0.3301    0.0567  5.8208  0.0000\n",
              "          BEDRMS  -0.1040    0.0465 -2.2361  0.0253\n",
              "          NUNITS   0.0234    0.0134  1.7432  0.0813\n",
              "           EJUNK  -0.5695    0.3093 -1.8415  0.0656\n",
              "            ESFD  -0.3985    0.1853 -2.1513  0.0315\n",
              "          ETRANS  -0.1742    0.1410 -1.2356  0.2166\n",
              "           EABAN  -0.6480    0.2510 -2.5822  0.0098\n",
              "            INTW  -0.0567    0.0275 -2.0606  0.0393\n",
              "          FRSTHO  -0.3161    0.0888 -3.5608  0.0004\n",
              "        STATE_CO  -0.0415    0.1061 -0.3908  0.6959\n",
              "        STATE_CT   0.8530    0.1275  6.6922  0.0000\n",
              "        STATE_GA   0.2964    0.1367  2.1676  0.0302\n",
              "        STATE_IL   0.4020    0.4308  0.9331  0.3508\n",
              "        STATE_IN   0.7344    0.1791  4.1011  0.0000\n",
              "        STATE_LA   0.7326    0.2326  3.1494  0.0016\n",
              "        STATE_MO   0.8763    0.1818  4.8199  0.0000\n",
              "        STATE_OH   0.7728    0.1790  4.3168  0.0000\n",
              "        STATE_OK   1.0786    0.2655  4.0626  0.0000\n",
              "        STATE_PA   0.7274    0.2256  3.2237  0.0013\n",
              "        STATE_TX   0.6446    0.2659  2.4241  0.0153\n",
              "        STATE_WA   0.2529    0.1120  2.2579  0.0240\n",
              "     METRO_urban  -0.0364    0.0961 -0.3785  0.7051\n",
              "    HHGRAD_Assoc  -0.6786    0.1142 -5.9400  0.0000\n",
              "     HHGRAD_Grad   0.0146    0.0994  0.1471  0.8830\n",
              "  HHGRAD_HS_Grad  -0.5142    0.0840 -6.1181  0.0000\n",
              "    HHGRAD_No_HS  -0.8903    0.1717 -5.1846  0.0000\n",
              "       HOWH_good  -0.1540    0.1552 -0.9925  0.3209\n",
              "       HOWN_good   0.4110    0.1202  3.4188  0.0006\n",
              "DWNPAY_prev_home   0.5943    0.0853  6.9678  0.0000\n",
              "\n",
              "(Dispersion parameter for binomial family taken to be 1.0000)\n",
              "    Null deviance: 5908.5931 on 4680 degrees of freedom\n",
              "Residual deviance: 5328.8668 on 4680 degrees of freedom\n",
              "AIC: 5390.8668"
            ]
          },
          "metadata": {},
          "execution_count": 86
        }
      ]
    },
    {
      "cell_type": "code",
      "source": [
        "# Compute confusion matrix\n",
        "dtest_5 = dtest_5.withColumn(\"predicted_class\", when(col(\"prediction\") > .02, 1).otherwise(0))\n",
        "conf_matrix = dtest_5.groupBy(\"GT20DOWN\", \"predicted_class\").count().orderBy(\"GT20DOWN\", \"predicted_class\")\n",
        "\n",
        "TP = dtest_5.filter((col(\"GT20DOWN\") == 1) & (col(\"predicted_class\") == 1)).count()\n",
        "FP = dtest_5.filter((col(\"GT20DOWN\") == 0) & (col(\"predicted_class\") == 1)).count()\n",
        "FN = dtest_5.filter((col(\"GT20DOWN\") == 1) & (col(\"predicted_class\") == 0)).count()\n",
        "TN = dtest_5.filter((col(\"GT20DOWN\") == 0) & (col(\"predicted_class\") == 0)).count()\n",
        "\n",
        "accuracy = (TP + TN) / (TP + FP + FN + TN)\n",
        "precision = TP / (TP + FP)\n",
        "recall = TP / (TP + FN)\n",
        "specificity = TN / (TN + FP)\n",
        "average_rate = (TP + FN) / (TP + TN + FP + FN)  # Proportion of actual at-risk babies\n",
        "enrichment = precision / average_rate\n",
        "\n",
        "\n",
        "# Print formatted confusion matrix with labels\n",
        "print(\"\\n Confusion Matrix:\\n\")\n",
        "print(\"                     Predicted\")\n",
        "print(\"            |  Negative  |  Positive  \")\n",
        "print(\"------------+------------+------------\")\n",
        "print(f\"Actual Neg. |    {TN:5}   |    {FP:5}  |\")\n",
        "print(\"------------+------------+------------\")\n",
        "print(f\"Actual Pos. |    {FN:5}   |    {TP:5}  |\")\n",
        "print(\"------------+------------+------------\")\n",
        "\n",
        "\n",
        "print(f\"Accuracy:  {accuracy:.4f}\")\n",
        "print(f\"Precision: {precision:.4f}\")\n",
        "print(f\"Recall (Sensitivity): {recall:.4f}\")\n",
        "print(f\"Specificity:  {specificity:.4f}\")\n",
        "print(f\"Average Rate: {average_rate:.4f}\")\n",
        "print(f\"Enrichment:   {enrichment:.4f} (Relative Precision)\")\n"
      ],
      "metadata": {
        "colab": {
          "base_uri": "https://localhost:8080/"
        },
        "id": "AnQIVugXfP4I",
        "outputId": "7ae28614-a53b-4ac1-8902-bd4abf4bfeb3"
      },
      "execution_count": null,
      "outputs": [
        {
          "output_type": "stream",
          "name": "stdout",
          "text": [
            "\n",
            " Confusion Matrix:\n",
            "\n",
            "                     Predicted\n",
            "            |  Negative  |  Positive  \n",
            "------------+------------+------------\n",
            "Actual Neg. |        0   |      960  |\n",
            "------------+------------+------------\n",
            "Actual Pos. |        0   |     2160  |\n",
            "------------+------------+------------\n",
            "Accuracy:  0.6923\n",
            "Precision: 0.6923\n",
            "Recall (Sensitivity): 1.0000\n",
            "Specificity:  0.0000\n",
            "Average Rate: 0.6923\n",
            "Enrichment:   1.0000 (Relative Precision)\n"
          ]
        }
      ]
    },
    {
      "cell_type": "markdown",
      "source": [
        "#### AUC and ROC"
      ],
      "metadata": {
        "id": "HZeSwL4gl4f9"
      }
    },
    {
      "cell_type": "code",
      "source": [
        "# Use probability of the positive class (y=1)\n",
        "evaluator = BinaryClassificationEvaluator(labelCol=\"GT20DOWN\", rawPredictionCol=\"prediction\", metricName=\"areaUnderROC\")\n",
        "\n",
        "# Evaluate AUC\n",
        "auc = evaluator.evaluate(dtest_5)\n",
        "\n",
        "print(f\"AUC: {auc:.4f}\")  # Higher is better (closer to 1)\n",
        "\n",
        "# Convert to Pandas\n",
        "pdf = dtest_5.select(\"prediction\", \"GT20DOWN\").toPandas()\n",
        "\n",
        "# Compute ROC curve\n",
        "fpr, tpr, _ = roc_curve(pdf[\"GT20DOWN\"], pdf[\"prediction\"])\n",
        "\n",
        "# Plot ROC curve\n",
        "plt.figure(figsize=(8,6))\n",
        "plt.plot(fpr, tpr, label=f\"ROC Curve (AUC = {auc:.4f})\")\n",
        "plt.plot([0, 1], [0, 1], 'k--', label=\"Random Guess\")\n",
        "plt.xlabel(\"False Positive Rate\")\n",
        "plt.ylabel(\"True Positive Rate\")\n",
        "plt.title(\"ROC Curve\")\n",
        "plt.legend()\n",
        "plt.show()"
      ],
      "metadata": {
        "colab": {
          "base_uri": "https://localhost:8080/",
          "height": 581
        },
        "id": "1sXoSkcfl9za",
        "outputId": "bca21adf-4755-49cd-9c97-76f2e2a9270c"
      },
      "execution_count": null,
      "outputs": [
        {
          "output_type": "stream",
          "name": "stdout",
          "text": [
            "AUC: 0.6741\n"
          ]
        },
        {
          "output_type": "display_data",
          "data": {
            "text/plain": [
              "<Figure size 800x600 with 1 Axes>"
            ],
            "image/png": "[encoded data removed]"
          },
          "metadata": {}
        }
      ]
    },
    {
      "cell_type": "markdown",
      "source": [
        "### Homes worth VALUE < 175k"
      ],
      "metadata": {
        "id": "HaIWEzeef87f"
      }
    },
    {
      "cell_type": "code",
      "source": [
        "dtrain, dtest = less_than_175000.randomSplit([0.6, 0.4], seed=1234)"
      ],
      "metadata": {
        "id": "dS_M6NMfgAma"
      },
      "execution_count": null,
      "outputs": []
    },
    {
      "cell_type": "code",
      "source": [
        "dummy_cols_STATE, ref_category_STATE = add_dummy_variables('STATE', 0)\n",
        "dummy_cols_METRO, ref_category_METRO = add_dummy_variables('METRO', 0)\n",
        "dummy_cols_HHGRAD, ref_category_HHGRAD = add_dummy_variables('HHGRAD', 1)\n",
        "dummy_cols_HOWH, ref_category_HOWH = add_dummy_variables('HOWH', 0)\n",
        "dummy_cols_HOWN, ref_category_HOWN = add_dummy_variables('HOWN', 0)\n",
        "dummy_cols_DWNPAY, ref_category_DWNPAY = add_dummy_variables('DWNPAY', 0)"
      ],
      "metadata": {
        "colab": {
          "base_uri": "https://localhost:8080/"
        },
        "id": "ooVMzwC0gLPj",
        "outputId": "94686d22-60e7-4b6e-9f6e-294fa21eee0d"
      },
      "execution_count": null,
      "outputs": [
        {
          "output_type": "stream",
          "name": "stdout",
          "text": [
            "Reference category (dummy omitted): CA\n",
            "Reference category (dummy omitted): rural\n",
            "Reference category (dummy omitted): Bach\n",
            "Reference category (dummy omitted): bad\n",
            "Reference category (dummy omitted): bad\n",
            "Reference category (dummy omitted): other\n"
          ]
        }
      ]
    },
    {
      "cell_type": "code",
      "source": [
        "assembler_predictors = (\n",
        "    conti_cols_2 +\n",
        "    dummy_cols\n",
        ")\n",
        "\n",
        "assembler_6 = VectorAssembler(\n",
        "    inputCols = assembler_predictors,\n",
        "    outputCol = \"predictors\"\n",
        ")\n",
        "\n",
        "dtrain_6 = assembler_6.transform(dtrain)\n",
        "dtest_6  = assembler_6.transform(dtest)"
      ],
      "metadata": {
        "id": "ye70o6KxgOuD"
      },
      "execution_count": null,
      "outputs": []
    },
    {
      "cell_type": "code",
      "source": [
        "# training the model\n",
        "model_6 = (\n",
        "    GeneralizedLinearRegression(featuresCol=\"predictors\",\n",
        "                                labelCol=\"GT20DOWN\",\n",
        "                                family=\"binomial\",\n",
        "                                link=\"logit\")\n",
        "    .fit(dtrain_6)\n",
        ")"
      ],
      "metadata": {
        "id": "4xjcCR5sgVwD"
      },
      "execution_count": null,
      "outputs": []
    },
    {
      "cell_type": "code",
      "source": [
        "dtrain_6 = model_6.transform(dtrain_6)\n",
        "dtest_6 = model_6.transform(dtest_6)"
      ],
      "metadata": {
        "id": "0DUgASmqgbN3"
      },
      "execution_count": null,
      "outputs": []
    },
    {
      "cell_type": "code",
      "source": [
        "model_6.summary"
      ],
      "metadata": {
        "colab": {
          "base_uri": "https://localhost:8080/"
        },
        "id": "WCHzD0hBgnkp",
        "outputId": "d97fb76e-b01a-4fb8-d62d-6d02e5db13ce"
      },
      "execution_count": null,
      "outputs": [
        {
          "output_type": "execute_result",
          "data": {
            "text/plain": [
              "Coefficients:\n",
              "         Feature Estimate Std Error T Value P Value\n",
              "     (Intercept)   1.0004    0.3609  2.7724  0.0056\n",
              "           ZINC2   0.0000    0.0000  2.4733  0.0134\n",
              "           BATHS   0.2564    0.0641  4.0021  0.0001\n",
              "          BEDRMS  -0.1801    0.0469 -3.8381  0.0001\n",
              "          NUNITS   0.0288    0.0117  2.4521  0.0142\n",
              "           EJUNK  -0.4302    0.2098 -2.0506  0.0403\n",
              "            ESFD  -0.1264    0.1233 -1.0256  0.3051\n",
              "          ETRANS  -0.0607    0.1006 -0.6037  0.5461\n",
              "           EABAN  -0.2049    0.1320 -1.5520  0.1207\n",
              "            INTW  -0.0681    0.0177 -3.8552  0.0001\n",
              "          FRSTHO  -0.2598    0.0747 -3.4807  0.0005\n",
              "        STATE_CO  -0.1942    0.3192 -0.6083  0.5430\n",
              "        STATE_CT   0.5233    0.3094  1.6911  0.0908\n",
              "        STATE_GA  -0.4573    0.2993 -1.5280  0.1265\n",
              "        STATE_IL   0.2285    0.3448  0.6625  0.5076\n",
              "        STATE_IN  -0.1152    0.2925 -0.3939  0.6936\n",
              "        STATE_LA   0.1373    0.3037  0.4520  0.6513\n",
              "        STATE_MO  -0.2127    0.3007 -0.7074  0.4793\n",
              "        STATE_OH   0.3449    0.2978  1.1583  0.2468\n",
              "        STATE_OK  -0.1493    0.2936 -0.5086  0.6110\n",
              "        STATE_PA   0.0185    0.2978  0.0621  0.9505\n",
              "        STATE_TX   0.0126    0.2965  0.0425  0.9661\n",
              "        STATE_WA   0.2563    0.3452  0.7425  0.4578\n",
              "     METRO_urban  -0.0106    0.0778 -0.1367  0.8913\n",
              "    HHGRAD_Assoc  -0.5577    0.1074 -5.1936  0.0000\n",
              "     HHGRAD_Grad   0.0209    0.1275  0.1640  0.8697\n",
              "  HHGRAD_HS_Grad  -0.5503    0.0821 -6.7068  0.0000\n",
              "    HHGRAD_No_HS  -0.7198    0.1241 -5.7995  0.0000\n",
              "       HOWH_good   0.1855    0.1070  1.7341  0.0829\n",
              "       HOWN_good  -0.0093    0.0888 -0.1051  0.9163\n",
              "DWNPAY_prev_home   0.4973    0.0946  5.2586  0.0000\n",
              "\n",
              "(Dispersion parameter for binomial family taken to be 1.0000)\n",
              "    Null deviance: 6427.1456 on 4622 degrees of freedom\n",
              "Residual deviance: 6060.5538 on 4622 degrees of freedom\n",
              "AIC: 6122.5538"
            ]
          },
          "metadata": {},
          "execution_count": 77
        }
      ]
    },
    {
      "cell_type": "code",
      "source": [
        "# Compute confusion matrix\n",
        "dtest_6 = dtest_6.withColumn(\"predicted_class\", when(col(\"prediction\") > .02, 1).otherwise(0))\n",
        "conf_matrix = dtest_6.groupBy(\"GT20DOWN\", \"predicted_class\").count().orderBy(\"GT20DOWN\", \"predicted_class\")\n",
        "\n",
        "TP = dtest_6.filter((col(\"GT20DOWN\") == 1) & (col(\"predicted_class\") == 1)).count()\n",
        "FP = dtest_6.filter((col(\"GT20DOWN\") == 0) & (col(\"predicted_class\") == 1)).count()\n",
        "FN = dtest_6.filter((col(\"GT20DOWN\") == 1) & (col(\"predicted_class\") == 0)).count()\n",
        "TN = dtest_6.filter((col(\"GT20DOWN\") == 0) & (col(\"predicted_class\") == 0)).count()\n",
        "\n",
        "accuracy = (TP + TN) / (TP + FP + FN + TN)\n",
        "precision = TP / (TP + FP)\n",
        "recall = TP / (TP + FN)\n",
        "specificity = TN / (TN + FP)\n",
        "average_rate = (TP + FN) / (TP + TN + FP + FN)  # Proportion of actual at-risk babies\n",
        "enrichment = precision / average_rate\n",
        "\n",
        "\n",
        "# Print formatted confusion matrix with labels\n",
        "print(\"\\n Confusion Matrix:\\n\")\n",
        "print(\"                     Predicted\")\n",
        "print(\"            |  Negative  |  Positive  \")\n",
        "print(\"------------+------------+------------\")\n",
        "print(f\"Actual Neg. |    {TN:5}   |    {FP:5}  |\")\n",
        "print(\"------------+------------+------------\")\n",
        "print(f\"Actual Pos. |    {FN:5}   |    {TP:5}  |\")\n",
        "print(\"------------+------------+------------\")\n",
        "\n",
        "\n",
        "print(f\"Accuracy:  {accuracy:.4f}\")\n",
        "print(f\"Precision: {precision:.4f}\")\n",
        "print(f\"Recall (Sensitivity): {recall:.4f}\")\n",
        "print(f\"Specificity:  {specificity:.4f}\")\n",
        "print(f\"Average Rate: {average_rate:.4f}\")\n",
        "print(f\"Enrichment:   {enrichment:.4f} (Relative Precision)\")\n"
      ],
      "metadata": {
        "colab": {
          "base_uri": "https://localhost:8080/"
        },
        "outputId": "74fdda0d-e1e8-4e44-f6a0-3632cedaf802",
        "id": "R7GSZbB2gx7h"
      },
      "execution_count": null,
      "outputs": [
        {
          "output_type": "stream",
          "name": "stdout",
          "text": [
            "\n",
            " Confusion Matrix:\n",
            "\n",
            "                     Predicted\n",
            "            |  Negative  |  Positive  \n",
            "------------+------------+------------\n",
            "Actual Neg. |        0   |     1422  |\n",
            "------------+------------+------------\n",
            "Actual Pos. |        0   |     1659  |\n",
            "------------+------------+------------\n",
            "Accuracy:  0.5385\n",
            "Precision: 0.5385\n",
            "Recall (Sensitivity): 1.0000\n",
            "Specificity:  0.0000\n",
            "Average Rate: 0.5385\n",
            "Enrichment:   1.0000 (Relative Precision)\n"
          ]
        }
      ]
    },
    {
      "cell_type": "markdown",
      "source": [
        "#### AUC and ROC"
      ],
      "metadata": {
        "id": "QdhibmNVynr2"
      }
    },
    {
      "cell_type": "code",
      "source": [
        "# Use probability of the positive class (y=1)\n",
        "evaluator = BinaryClassificationEvaluator(labelCol=\"GT20DOWN\", rawPredictionCol=\"prediction\", metricName=\"areaUnderROC\")\n",
        "\n",
        "# Evaluate AUC\n",
        "auc = evaluator.evaluate(dtest_6)\n",
        "\n",
        "print(f\"AUC: {auc:.4f}\")  # Higher is better (closer to 1)\n",
        "\n",
        "# Convert to Pandas\n",
        "pdf = dtest_6.select(\"prediction\", \"GT20DOWN\").toPandas()\n",
        "\n",
        "# Compute ROC curve\n",
        "fpr, tpr, _ = roc_curve(pdf[\"GT20DOWN\"], pdf[\"prediction\"])\n",
        "\n",
        "# Plot ROC curve\n",
        "plt.figure(figsize=(8,6))\n",
        "plt.plot(fpr, tpr, label=f\"ROC Curve (AUC = {auc:.4f})\")\n",
        "plt.plot([0, 1], [0, 1], 'k--', label=\"Random Guess\")\n",
        "plt.xlabel(\"False Positive Rate\")\n",
        "plt.ylabel(\"True Positive Rate\")\n",
        "plt.title(\"ROC Curve\")\n",
        "plt.legend()\n",
        "plt.show()"
      ],
      "metadata": {
        "colab": {
          "base_uri": "https://localhost:8080/",
          "height": 581
        },
        "id": "5UcTBerfypgj",
        "outputId": "79324d51-2c81-49ac-c71f-df7a5e5ce28f"
      },
      "execution_count": null,
      "outputs": [
        {
          "output_type": "stream",
          "name": "stdout",
          "text": [
            "AUC: 0.6519\n"
          ]
        },
        {
          "output_type": "display_data",
          "data": {
            "text/plain": [
              "<Figure size 800x600 with 1 Axes>"
            ],
            "image/png": "[encoded data removed]"
          },
          "metadata": {}
        }
      ]
    },
    {
      "cell_type": "markdown",
      "source": [
        "### Interpretation"
      ],
      "metadata": {
        "id": "MkBfeBhQDShv"
      }
    },
    {
      "cell_type": "markdown",
      "source": [
        "**The logistic regression model for houses with a value of 175k or greater has a residual deviance of $5328.8668$. The model for houses with a value of less than 175k has a residual deviance of $6060.5538$. This shows that the model for houses with a value of 175k or greater fits the data better because it has a lower residual deviance. In other words, the predictors more accurately predict if the homebuyer makes a 20% down payment for houses with a value of 175k or greater.**\n",
        "\n",
        "**The model for houses with a value of 175k or higher has an accuracy of $0.6923$, whereas the model for houses with a value of less than 175k has an accuracy of $0.5385$. Once again, the model for higher value houses makes more accurate predictions because of its higher accuracy.**\n",
        "\n",
        "**The AUC of the model for houses with greater value is $0.6741$. The AUC of the model for lower value houses is $0.6519$. The AUC for the model with higher value houses is slightly closer to 1 than the model with lower value houses. This supports the previous two claims that the model with higher value houses more accurately predicts if the homebuyer makes a 20% down payment.**\n"
      ],
      "metadata": {
        "id": "lC0kDtQSi3Yx"
      }
    }
  ]
}