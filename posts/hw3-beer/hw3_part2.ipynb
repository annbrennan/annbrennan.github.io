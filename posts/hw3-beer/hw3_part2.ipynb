{
  "nbformat": 4,
  "nbformat_minor": 0,
  "metadata": {
    "colab": {
      "provenance": []
    },
    "kernelspec": {
      "name": "python3",
      "display_name": "Python 3"
    },
    "language_info": {
      "name": "python"
    }
  },
  "cells": [
    {
      "cell_type": "markdown",
      "source": [
        "# HW 3 - Beer Markets"
      ],
      "metadata": {
        "id": "Pg_dTtDH-q1C"
      }
    },
    {
      "cell_type": "markdown",
      "source": [
        "In this post, we will be exploring beer pricing by analyzing the DataFrame \"Beer Markets\". This DataFrame contains information about beer purchase details and household characteristics. We will analyze how these factors, such as household size, type of beer container, and household income impact the price of beer (per fluid ounce)."
      ],
      "metadata": {
        "id": "zdBpd9-8F4ne"
      }
    },
    {
      "cell_type": "markdown",
      "source": [
        "## Loading Packages and Settings"
      ],
      "metadata": {
        "id": "8QH-LTPK-s0x"
      }
    },
    {
      "cell_type": "code",
      "execution_count": 1,
      "metadata": {
        "id": "zVtjK_KT-lBC"
      },
      "outputs": [],
      "source": [
        "import pandas as pd\n",
        "import numpy as np\n",
        "from tabulate import tabulate  # for table summary\n",
        "import scipy.stats as stats\n",
        "from scipy.stats import norm\n",
        "import matplotlib.pyplot as plt\n",
        "import seaborn as sns\n",
        "import statsmodels.api as sm  # for lowess smoothing\n",
        "\n",
        "from pyspark.sql import SparkSession\n",
        "from pyspark.sql.functions import rand, col, pow, mean, avg, when, log, sqrt, exp\n",
        "from pyspark.ml.feature import VectorAssembler\n",
        "from pyspark.ml.regression import LinearRegression, GeneralizedLinearRegression\n",
        "from pyspark.ml.evaluation import BinaryClassificationEvaluator\n",
        "\n",
        "spark = SparkSession.builder.master(\"local[*]\").getOrCreate()"
      ]
    },
    {
      "cell_type": "markdown",
      "source": [
        "## UDFs"
      ],
      "metadata": {
        "id": "D7xYjjXcBWiQ"
      }
    },
    {
      "cell_type": "markdown",
      "source": [
        "We will be using a variety of User Defined Functions (UDFs) in order to perform functions necessary for our Linear Regression Models. We will define our UDFs before we begin."
      ],
      "metadata": {
        "id": "4Tl1k_LKHjno"
      }
    },
    {
      "cell_type": "code",
      "source": [
        "def add_dummy_variables(var_name, reference_level, category_order=None):\n",
        "    \"\"\"\n",
        "    Creates dummy variables for the specified column in the global DataFrames dtrain and dtest.\n",
        "    Allows manual setting of category order.\n",
        "\n",
        "    Parameters:\n",
        "        var_name (str): The name of the categorical column (e.g., \"borough_name\").\n",
        "        reference_level (int): Index of the category to be used as the reference (dummy omitted).\n",
        "        category_order (list, optional): List of categories in the desired order. If None, categories are sorted.\n",
        "\n",
        "    Returns:\n",
        "        dummy_cols (list): List of dummy column names excluding the reference category.\n",
        "        ref_category (str): The category chosen as the reference.\n",
        "    \"\"\"\n",
        "    global dtrain, dtest\n",
        "\n",
        "    # Get distinct categories from the training set.\n",
        "    categories = dtrain.select(var_name).distinct().rdd.flatMap(lambda x: x).collect()\n",
        "\n",
        "    # Convert booleans to strings if present.\n",
        "    categories = [str(c) if isinstance(c, bool) else c for c in categories]\n",
        "\n",
        "    # Use manual category order if provided; otherwise, sort categories.\n",
        "    if category_order:\n",
        "        # Ensure all categories are present in the user-defined order\n",
        "        missing = set(categories) - set(category_order)\n",
        "        if missing:\n",
        "            raise ValueError(f\"These categories are missing from your custom order: {missing}\")\n",
        "        categories = category_order\n",
        "    else:\n",
        "        categories = sorted(categories)\n",
        "\n",
        "    # Validate reference_level\n",
        "    if reference_level < 0 or reference_level >= len(categories):\n",
        "        raise ValueError(f\"reference_level must be between 0 and {len(categories) - 1}\")\n",
        "\n",
        "    # Define the reference category\n",
        "    ref_category = categories[reference_level]\n",
        "    print(\"Reference category (dummy omitted):\", ref_category)\n",
        "\n",
        "    # Create dummy variables for all categories\n",
        "    for cat in categories:\n",
        "        dummy_col_name = var_name + \"_\" + str(cat).replace(\" \", \"_\")\n",
        "        dtrain = dtrain.withColumn(dummy_col_name, when(col(var_name) == cat, 1).otherwise(0))\n",
        "        dtest = dtest.withColumn(dummy_col_name, when(col(var_name) == cat, 1).otherwise(0))\n",
        "\n",
        "    # List of dummy columns, excluding the reference category\n",
        "    dummy_cols = [var_name + \"_\" + str(cat).replace(\" \", \"_\") for cat in categories if cat != ref_category]\n",
        "\n",
        "    return dummy_cols, ref_category\n",
        "\n",
        "\n",
        "# Example usage without category_order:\n",
        "# dummy_cols_year, ref_category_year = add_dummy_variables('year', 0)\n",
        "\n",
        "# Example usage with category_order:\n",
        "# custom_order_wkday = ['sunday', 'monday', 'tuesday', 'wednesday', 'thursday', 'friday', 'saturday']\n",
        "# dummy_cols_wkday, ref_category_wkday = add_dummy_variables('wkday', reference_level=0, category_order = custom_order_wkday)\n"
      ],
      "metadata": {
        "id": "KTuWQILf_AQl"
      },
      "execution_count": 10,
      "outputs": []
    },
    {
      "cell_type": "code",
      "source": [
        "def regression_table(model, assembler):\n",
        "    \"\"\"\n",
        "    Creates a formatted regression table from a fitted LinearRegression model and its VectorAssembler,\n",
        "    and inserts a dashed horizontal line after the Intercept row. The table includes separate columns\n",
        "    for the 95% confidence interval lower and upper bounds for each coefficient (computed at the 5% significance level)\n",
        "    and an \"Observations\" row (using model.summary.numInstances) above the R² row.\n",
        "    The RMSE row is placed as the last row.\n",
        "\n",
        "    The columns are ordered as:\n",
        "        Metric | Value | Significance | Std. Error | p-value | 95% CI Lower | 95% CI Upper\n",
        "\n",
        "    For the \"Value\", \"Std. Error\", \"95% CI Lower\", and \"95% CI Upper\" columns, commas are inserted every three digits,\n",
        "    with 3 decimal places (except for Observations which is formatted as an integer with commas).\n",
        "\n",
        "    Parameters:\n",
        "        model: A fitted LinearRegression model (with a .summary attribute).\n",
        "        assembler: The VectorAssembler used to assemble the features for the model.\n",
        "\n",
        "    Returns:\n",
        "        A formatted string containing the regression table.\n",
        "    \"\"\"\n",
        "    # Extract coefficients and standard errors as NumPy arrays\n",
        "    coeffs = model.coefficients.toArray()\n",
        "\n",
        "    std_errors_all = np.array(model.summary.coefficientStandardErrors)\n",
        "\n",
        "    # Check if the intercept's standard error is included (one extra element)\n",
        "    if len(std_errors_all) == len(coeffs) + 1:\n",
        "        intercept_se = std_errors_all[0]\n",
        "        std_errors = std_errors_all[1:]\n",
        "    else:\n",
        "        intercept_se = None\n",
        "        std_errors = std_errors_all\n",
        "\n",
        "    # Compute t-statistics for feature coefficients (t = beta / SE(beta))\n",
        "    # t_stats = coeffs / std_errors\n",
        "    t_stats = model.summary.tValues\n",
        "\n",
        "    # Degrees of freedom: number of instances minus number of predictors minus 1 (for intercept)\n",
        "    df = model.summary.numInstances - len(coeffs) - 1\n",
        "\n",
        "    # Compute the t-critical value for a 95% confidence interval (two-tailed, 5% significance)\n",
        "    t_critical = stats.t.ppf(0.975, df)\n",
        "\n",
        "    # Compute two-tailed p-values for each feature coefficient\n",
        "    # p_values = [2 * (1 - stats.t.cdf(np.abs(t), df)) for t in t_stats]\n",
        "    p_values = model.summary.pValues\n",
        "\n",
        "    # Function to assign significance stars based on p-value\n",
        "    def significance_stars(p):\n",
        "        if p < 0.01:\n",
        "            return \"***\"\n",
        "        elif p < 0.05:\n",
        "            return \"**\"\n",
        "        elif p < 0.1:\n",
        "            return \"*\"\n",
        "        else:\n",
        "            return \"\"\n",
        "\n",
        "    # Build the table rows.\n",
        "    # Order: Metric, Value, Significance, Std. Error, p-value, 95% CI Lower, 95% CI Upper.\n",
        "    table = []\n",
        "    for feature, beta, se, p in zip(assembler.getInputCols(), coeffs, std_errors, p_values):\n",
        "        ci_lower = beta - t_critical * se\n",
        "        ci_upper = beta + t_critical * se\n",
        "        table.append([\n",
        "            \"Beta: \" + feature,       # Metric name\n",
        "            beta,                     # Beta estimate (Value)\n",
        "            significance_stars(p),    # Significance stars\n",
        "            se,                       # Standard error\n",
        "            p,                        # p-value\n",
        "            ci_lower,                 # 95% CI lower bound\n",
        "            ci_upper                  # 95% CI upper bound\n",
        "        ])\n",
        "\n",
        "    # Compute and add the intercept row with its SE, p-value, significance, and CI (if available)\n",
        "    if intercept_se is not None:\n",
        "        intercept_t = model.intercept / intercept_se\n",
        "        intercept_p = 2 * (1 - stats.t.cdf(np.abs(intercept_t), df))\n",
        "        intercept_sig = significance_stars(intercept_p)\n",
        "        ci_intercept_lower = model.intercept - t_critical * intercept_se\n",
        "        ci_intercept_upper = model.intercept + t_critical * intercept_se\n",
        "    else:\n",
        "        intercept_se = \"\"\n",
        "        intercept_p = \"\"\n",
        "        intercept_sig = \"\"\n",
        "        ci_intercept_lower = \"\"\n",
        "        ci_intercept_upper = \"\"\n",
        "\n",
        "    table.append([\n",
        "        \"Intercept\",\n",
        "        model.intercept,\n",
        "        intercept_sig,\n",
        "        intercept_se,\n",
        "        intercept_p,\n",
        "        ci_intercept_lower,\n",
        "        ci_intercept_upper\n",
        "    ])\n",
        "\n",
        "    # Append overall model metrics:\n",
        "    # Insert an Observations row using model.summary.numInstances,\n",
        "    # then an R² row, and finally the RMSE row as the last row.\n",
        "    table.append([\"Observations\", model.summary.numInstances, \"\", \"\", \"\", \"\", \"\"])\n",
        "    table.append([\"R²\", model.summary.r2, \"\", \"\", \"\", \"\", \"\"])\n",
        "    table.append([\"RMSE\", model.summary.rootMeanSquaredError, \"\", \"\", \"\", \"\", \"\"])\n",
        "\n",
        "    # Format the table.\n",
        "    # For the \"Value\" (index 1), \"Std. Error\" (index 3), \"95% CI Lower\" (index 5), and \"95% CI Upper\" (index 6) columns,\n",
        "    # format with commas and 3 decimal places, except for Observations which should be an integer with commas.\n",
        "    # For the p-value (index 4), format to 3 decimal places.\n",
        "    formatted_table = []\n",
        "    for row in table:\n",
        "        formatted_row = []\n",
        "        for i, item in enumerate(row):\n",
        "            if row[0] == \"Observations\" and i == 1 and isinstance(item, (int, float, np.floating)) and item != \"\":\n",
        "                # Format Observations as integer with commas, no decimals.\n",
        "                formatted_row.append(f\"{int(item):,}\")\n",
        "            elif isinstance(item, (int, float, np.floating)) and item != \"\":\n",
        "                if i in [1, 3, 5, 6]:\n",
        "                    formatted_row.append(f\"{item:,.3f}\")\n",
        "                elif i == 4:\n",
        "                    formatted_row.append(f\"{item:.3f}\")\n",
        "                else:\n",
        "                    formatted_row.append(f\"{item:.3f}\")\n",
        "            else:\n",
        "                formatted_row.append(item)\n",
        "        formatted_table.append(formatted_row)\n",
        "\n",
        "    # Generate the table string using tabulate.\n",
        "    table_str = tabulate(\n",
        "        formatted_table,\n",
        "        headers=[\"Metric\", \"Value\", \"Sig.\", \"Std. Error\", \"p-value\", \"95% CI Lower\", \"95% CI Upper\"],\n",
        "        tablefmt=\"pretty\",\n",
        "        colalign=(\"left\", \"right\", \"center\", \"right\", \"right\", \"right\", \"right\")\n",
        "    )\n",
        "\n",
        "    # Insert a dashed line after the Intercept row for clarity.\n",
        "    lines = table_str.split(\"\\n\")\n",
        "    dash_line = '-' * len(lines[0])\n",
        "    for i, line in enumerate(lines):\n",
        "        if \"Intercept\" in line and not line.strip().startswith('+'):\n",
        "            lines.insert(i+1, dash_line)\n",
        "            break\n",
        "\n",
        "    return \"\\n\".join(lines)"
      ],
      "metadata": {
        "id": "7DE-sxLatiB2"
      },
      "execution_count": 9,
      "outputs": []
    },
    {
      "cell_type": "code",
      "source": [
        "def add_interaction_terms(var_list1, var_list2, var_list3=None):\n",
        "    \"\"\"\n",
        "    Creates interaction term columns in the global DataFrames dtrain and dtest.\n",
        "\n",
        "    For two sets of variable names (which may represent categorical (dummy) or continuous variables),\n",
        "    this function creates two-way interactions by multiplying each variable in var_list1 with each\n",
        "    variable in var_list2.\n",
        "\n",
        "    Optionally, if a third list of variable names (var_list3) is provided, the function also creates\n",
        "    three-way interactions among each variable in var_list1, each variable in var_list2, and each variable\n",
        "    in var_list3.\n",
        "\n",
        "    Parameters:\n",
        "        var_list1 (list): List of column names for the first set of variables.\n",
        "        var_list2 (list): List of column names for the second set of variables.\n",
        "        var_list3 (list, optional): List of column names for the third set of variables for three-way interactions.\n",
        "\n",
        "    Returns:\n",
        "        A flat list of new interaction column names.\n",
        "    \"\"\"\n",
        "    global dtrain, dtest\n",
        "\n",
        "    interaction_cols = []\n",
        "\n",
        "    # Create two-way interactions between var_list1 and var_list2.\n",
        "    for var1 in var_list1:\n",
        "        for var2 in var_list2:\n",
        "            col_name = f\"{var1}_*_{var2}\"\n",
        "            dtrain = dtrain.withColumn(col_name, col(var1).cast(\"double\") * col(var2).cast(\"double\"))\n",
        "            dtest = dtest.withColumn(col_name, col(var1).cast(\"double\") * col(var2).cast(\"double\"))\n",
        "            interaction_cols.append(col_name)\n",
        "\n",
        "    # Create two-way interactions between var_list1 and var_list3.\n",
        "    if var_list3 is not None:\n",
        "      for var1 in var_list1:\n",
        "          for var3 in var_list3:\n",
        "              col_name = f\"{var1}_*_{var3}\"\n",
        "              dtrain = dtrain.withColumn(col_name, col(var1).cast(\"double\") * col(var3).cast(\"double\"))\n",
        "              dtest = dtest.withColumn(col_name, col(var1).cast(\"double\") * col(var3).cast(\"double\"))\n",
        "              interaction_cols.append(col_name)\n",
        "\n",
        "    # Create two-way interactions between var_list2 and var_list3.\n",
        "    if var_list3 is not None:\n",
        "      for var2 in var_list2:\n",
        "          for var3 in var_list3:\n",
        "              col_name = f\"{var2}_*_{var3}\"\n",
        "              dtrain = dtrain.withColumn(col_name, col(var2).cast(\"double\") * col(var3).cast(\"double\"))\n",
        "              dtest = dtest.withColumn(col_name, col(var2).cast(\"double\") * col(var3).cast(\"double\"))\n",
        "              interaction_cols.append(col_name)\n",
        "\n",
        "    # If a third list is provided, create three-way interactions.\n",
        "    if var_list3 is not None:\n",
        "        for var1 in var_list1:\n",
        "            for var2 in var_list2:\n",
        "                for var3 in var_list3:\n",
        "                    col_name = f\"{var1}_*_{var2}_*_{var3}\"\n",
        "                    dtrain = dtrain.withColumn(col_name, col(var1).cast(\"double\") * col(var2).cast(\"double\") * col(var3).cast(\"double\"))\n",
        "                    dtest = dtest.withColumn(col_name, col(var1).cast(\"double\") * col(var2).cast(\"double\") * col(var3).cast(\"double\"))\n",
        "                    interaction_cols.append(col_name)\n",
        "\n",
        "    return interaction_cols\n",
        "\n",
        " # Example\n",
        " # interaction_cols_brand_price = add_interaction_terms(dummy_cols_brand, ['log_price'])\n",
        " # interaction_cols_brand_ad_price = add_interaction_terms(dummy_cols_brand, dummy_cols_ad, ['log_price'])"
      ],
      "metadata": {
        "id": "uB7EqGBmMAuB"
      },
      "execution_count": 16,
      "outputs": []
    },
    {
      "cell_type": "markdown",
      "source": [
        "## Loading DataFrame - Beer Markets"
      ],
      "metadata": {
        "id": "VfB8zXlb-4Cm"
      }
    },
    {
      "cell_type": "code",
      "source": [
        "beer_markets = pd.read_csv(\n",
        "  'https://bcdanl.github.io/data/beer_markets_all_cleaned.csv'\n",
        ")"
      ],
      "metadata": {
        "id": "xu2EXlF_-62X"
      },
      "execution_count": 3,
      "outputs": []
    },
    {
      "cell_type": "markdown",
      "source": [
        "## Filtering DataFrame"
      ],
      "metadata": {
        "id": "n3oyljmn-92L"
      }
    },
    {
      "cell_type": "markdown",
      "source": [
        "We will be focusing on observations that are either a can or non-refillable bottle in the beer_markets DataFrame. Additionally, we will be using the log of beer volume as one of our predictors."
      ],
      "metadata": {
        "id": "iw6f68KP_PIf"
      }
    },
    {
      "cell_type": "code",
      "source": [
        "beer_df = beer_markets.loc[\n",
        "  (beer_markets['container'] == 'CAN') | (beer_markets['container'] == 'NON REFILLABLE BOTTLE')\n",
        "]\n",
        "\n",
        "beer_df"
      ],
      "metadata": {
        "colab": {
          "base_uri": "https://localhost:8080/",
          "height": 617
        },
        "id": "u7Qa9w90_gz0",
        "outputId": "c328d441-13d9-4df7-94f2-0519b209dc5d"
      },
      "execution_count": 4,
      "outputs": [
        {
          "output_type": "execute_result",
          "data": {
            "text/plain": [
              "       household       X_purchase_desc  quantity          brand  dollar_spent  \\\n",
              "0        2000946      BUD LT BR CN 12P         1      BUD_LIGHT          8.14   \n",
              "1        2003036      BUD LT BR CN 24P         1      BUD_LIGHT         17.48   \n",
              "2        2003036      BUD LT BR CN 24P         2      BUD_LIGHT         33.92   \n",
              "3        2003036      BUD LT BR CN 30P         2      BUD_LIGHT         34.74   \n",
              "4        2003036      BUD LT BR CN 36P         2      BUD_LIGHT         40.48   \n",
              "...          ...                   ...       ...            ...           ...   \n",
              "73110    9158319  NATURAL LT BR CN 24P         1  NATURAL_LIGHT         11.49   \n",
              "73111    9158319  NATURAL LT BR CN 24P         1  NATURAL_LIGHT          9.97   \n",
              "73112    9158319  NATURAL LT BR CN 24P         1  NATURAL_LIGHT          9.98   \n",
              "73113    9164033  NATURAL LT BR CN 30P         1  NATURAL_LIGHT         12.98   \n",
              "73114    9164155  NATURAL LT BR CN 24P         1  NATURAL_LIGHT         13.49   \n",
              "\n",
              "       beer_floz  price_floz container  promo   region  ...  age employment  \\\n",
              "0          144.0    0.056528       CAN  False  CENTRAL  ...  50+       none   \n",
              "1          288.0    0.060694       CAN  False    SOUTH  ...  50+       full   \n",
              "2          576.0    0.058889       CAN  False    SOUTH  ...  50+       full   \n",
              "3          720.0    0.048250       CAN  False    SOUTH  ...  50+       full   \n",
              "4          864.0    0.046852       CAN  False    SOUTH  ...  50+       full   \n",
              "...          ...         ...       ...    ...      ...  ...  ...        ...   \n",
              "73110      288.0    0.039896       CAN   True    SOUTH  ...  50+       none   \n",
              "73111      288.0    0.034618       CAN  False    SOUTH  ...  50+       none   \n",
              "73112      288.0    0.034653       CAN  False    SOUTH  ...  50+       none   \n",
              "73113      360.0    0.036056       CAN  False     WEST  ...  50+       full   \n",
              "73114      288.0    0.046840       CAN  False    SOUTH  ...  50+       full   \n",
              "\n",
              "        degree                 occupation    ethnic  microwave dishwasher  \\\n",
              "0         Grad       none/retired/student     white       True       True   \n",
              "1      College     clerical/sales/service     white       True       True   \n",
              "2      College     clerical/sales/service     white       True       True   \n",
              "3      College     clerical/sales/service     white       True       True   \n",
              "4      College     clerical/sales/service     white       True       True   \n",
              "...        ...                        ...       ...        ...        ...   \n",
              "73110       HS       none/retired/student     black       True       True   \n",
              "73111       HS       none/retired/student     black       True       True   \n",
              "73112       HS       none/retired/student     black       True       True   \n",
              "73113  College                       prof  hispanic       True       True   \n",
              "73114       HS  labor/craft/military/farm     white       True       True   \n",
              "\n",
              "       tvcable singlefamilyhome npeople  \n",
              "0      premium            False       1  \n",
              "1        basic             True       2  \n",
              "2        basic             True       2  \n",
              "3        basic             True       2  \n",
              "4        basic             True       2  \n",
              "...        ...              ...     ...  \n",
              "73110  premium             True       2  \n",
              "73111  premium             True       2  \n",
              "73112  premium             True       2  \n",
              "73113    basic             True   5plus  \n",
              "73114     none             True       2  \n",
              "\n",
              "[53015 rows x 26 columns]"
            ],
            "text/html": [
              "\n",
              "  <div id=\"df-387a278f-cc8f-4f70-9f75-460e7a0c3253\" class=\"colab-df-container\">\n",
              "    <div>\n",
              "<style scoped>\n",
              "    .dataframe tbody tr th:only-of-type {\n",
              "        vertical-align: middle;\n",
              "    }\n",
              "\n",
              "    .dataframe tbody tr th {\n",
              "        vertical-align: top;\n",
              "    }\n",
              "\n",
              "    .dataframe thead th {\n",
              "        text-align: right;\n",
              "    }\n",
              "</style>\n",
              "<table border=\"1\" class=\"dataframe\">\n",
              "  <thead>\n",
              "    <tr style=\"text-align: right;\">\n",
              "      <th></th>\n",
              "      <th>household</th>\n",
              "      <th>X_purchase_desc</th>\n",
              "      <th>quantity</th>\n",
              "      <th>brand</th>\n",
              "      <th>dollar_spent</th>\n",
              "      <th>beer_floz</th>\n",
              "      <th>price_floz</th>\n",
              "      <th>container</th>\n",
              "      <th>promo</th>\n",
              "      <th>region</th>\n",
              "      <th>...</th>\n",
              "      <th>age</th>\n",
              "      <th>employment</th>\n",
              "      <th>degree</th>\n",
              "      <th>occupation</th>\n",
              "      <th>ethnic</th>\n",
              "      <th>microwave</th>\n",
              "      <th>dishwasher</th>\n",
              "      <th>tvcable</th>\n",
              "      <th>singlefamilyhome</th>\n",
              "      <th>npeople</th>\n",
              "    </tr>\n",
              "  </thead>\n",
              "  <tbody>\n",
              "    <tr>\n",
              "      <th>0</th>\n",
              "      <td>2000946</td>\n",
              "      <td>BUD LT BR CN 12P</td>\n",
              "      <td>1</td>\n",
              "      <td>BUD_LIGHT</td>\n",
              "      <td>8.14</td>\n",
              "      <td>144.0</td>\n",
              "      <td>0.056528</td>\n",
              "      <td>CAN</td>\n",
              "      <td>False</td>\n",
              "      <td>CENTRAL</td>\n",
              "      <td>...</td>\n",
              "      <td>50+</td>\n",
              "      <td>none</td>\n",
              "      <td>Grad</td>\n",
              "      <td>none/retired/student</td>\n",
              "      <td>white</td>\n",
              "      <td>True</td>\n",
              "      <td>True</td>\n",
              "      <td>premium</td>\n",
              "      <td>False</td>\n",
              "      <td>1</td>\n",
              "    </tr>\n",
              "    <tr>\n",
              "      <th>1</th>\n",
              "      <td>2003036</td>\n",
              "      <td>BUD LT BR CN 24P</td>\n",
              "      <td>1</td>\n",
              "      <td>BUD_LIGHT</td>\n",
              "      <td>17.48</td>\n",
              "      <td>288.0</td>\n",
              "      <td>0.060694</td>\n",
              "      <td>CAN</td>\n",
              "      <td>False</td>\n",
              "      <td>SOUTH</td>\n",
              "      <td>...</td>\n",
              "      <td>50+</td>\n",
              "      <td>full</td>\n",
              "      <td>College</td>\n",
              "      <td>clerical/sales/service</td>\n",
              "      <td>white</td>\n",
              "      <td>True</td>\n",
              "      <td>True</td>\n",
              "      <td>basic</td>\n",
              "      <td>True</td>\n",
              "      <td>2</td>\n",
              "    </tr>\n",
              "    <tr>\n",
              "      <th>2</th>\n",
              "      <td>2003036</td>\n",
              "      <td>BUD LT BR CN 24P</td>\n",
              "      <td>2</td>\n",
              "      <td>BUD_LIGHT</td>\n",
              "      <td>33.92</td>\n",
              "      <td>576.0</td>\n",
              "      <td>0.058889</td>\n",
              "      <td>CAN</td>\n",
              "      <td>False</td>\n",
              "      <td>SOUTH</td>\n",
              "      <td>...</td>\n",
              "      <td>50+</td>\n",
              "      <td>full</td>\n",
              "      <td>College</td>\n",
              "      <td>clerical/sales/service</td>\n",
              "      <td>white</td>\n",
              "      <td>True</td>\n",
              "      <td>True</td>\n",
              "      <td>basic</td>\n",
              "      <td>True</td>\n",
              "      <td>2</td>\n",
              "    </tr>\n",
              "    <tr>\n",
              "      <th>3</th>\n",
              "      <td>2003036</td>\n",
              "      <td>BUD LT BR CN 30P</td>\n",
              "      <td>2</td>\n",
              "      <td>BUD_LIGHT</td>\n",
              "      <td>34.74</td>\n",
              "      <td>720.0</td>\n",
              "      <td>0.048250</td>\n",
              "      <td>CAN</td>\n",
              "      <td>False</td>\n",
              "      <td>SOUTH</td>\n",
              "      <td>...</td>\n",
              "      <td>50+</td>\n",
              "      <td>full</td>\n",
              "      <td>College</td>\n",
              "      <td>clerical/sales/service</td>\n",
              "      <td>white</td>\n",
              "      <td>True</td>\n",
              "      <td>True</td>\n",
              "      <td>basic</td>\n",
              "      <td>True</td>\n",
              "      <td>2</td>\n",
              "    </tr>\n",
              "    <tr>\n",
              "      <th>4</th>\n",
              "      <td>2003036</td>\n",
              "      <td>BUD LT BR CN 36P</td>\n",
              "      <td>2</td>\n",
              "      <td>BUD_LIGHT</td>\n",
              "      <td>40.48</td>\n",
              "      <td>864.0</td>\n",
              "      <td>0.046852</td>\n",
              "      <td>CAN</td>\n",
              "      <td>False</td>\n",
              "      <td>SOUTH</td>\n",
              "      <td>...</td>\n",
              "      <td>50+</td>\n",
              "      <td>full</td>\n",
              "      <td>College</td>\n",
              "      <td>clerical/sales/service</td>\n",
              "      <td>white</td>\n",
              "      <td>True</td>\n",
              "      <td>True</td>\n",
              "      <td>basic</td>\n",
              "      <td>True</td>\n",
              "      <td>2</td>\n",
              "    </tr>\n",
              "    <tr>\n",
              "      <th>...</th>\n",
              "      <td>...</td>\n",
              "      <td>...</td>\n",
              "      <td>...</td>\n",
              "      <td>...</td>\n",
              "      <td>...</td>\n",
              "      <td>...</td>\n",
              "      <td>...</td>\n",
              "      <td>...</td>\n",
              "      <td>...</td>\n",
              "      <td>...</td>\n",
              "      <td>...</td>\n",
              "      <td>...</td>\n",
              "      <td>...</td>\n",
              "      <td>...</td>\n",
              "      <td>...</td>\n",
              "      <td>...</td>\n",
              "      <td>...</td>\n",
              "      <td>...</td>\n",
              "      <td>...</td>\n",
              "      <td>...</td>\n",
              "      <td>...</td>\n",
              "    </tr>\n",
              "    <tr>\n",
              "      <th>73110</th>\n",
              "      <td>9158319</td>\n",
              "      <td>NATURAL LT BR CN 24P</td>\n",
              "      <td>1</td>\n",
              "      <td>NATURAL_LIGHT</td>\n",
              "      <td>11.49</td>\n",
              "      <td>288.0</td>\n",
              "      <td>0.039896</td>\n",
              "      <td>CAN</td>\n",
              "      <td>True</td>\n",
              "      <td>SOUTH</td>\n",
              "      <td>...</td>\n",
              "      <td>50+</td>\n",
              "      <td>none</td>\n",
              "      <td>HS</td>\n",
              "      <td>none/retired/student</td>\n",
              "      <td>black</td>\n",
              "      <td>True</td>\n",
              "      <td>True</td>\n",
              "      <td>premium</td>\n",
              "      <td>True</td>\n",
              "      <td>2</td>\n",
              "    </tr>\n",
              "    <tr>\n",
              "      <th>73111</th>\n",
              "      <td>9158319</td>\n",
              "      <td>NATURAL LT BR CN 24P</td>\n",
              "      <td>1</td>\n",
              "      <td>NATURAL_LIGHT</td>\n",
              "      <td>9.97</td>\n",
              "      <td>288.0</td>\n",
              "      <td>0.034618</td>\n",
              "      <td>CAN</td>\n",
              "      <td>False</td>\n",
              "      <td>SOUTH</td>\n",
              "      <td>...</td>\n",
              "      <td>50+</td>\n",
              "      <td>none</td>\n",
              "      <td>HS</td>\n",
              "      <td>none/retired/student</td>\n",
              "      <td>black</td>\n",
              "      <td>True</td>\n",
              "      <td>True</td>\n",
              "      <td>premium</td>\n",
              "      <td>True</td>\n",
              "      <td>2</td>\n",
              "    </tr>\n",
              "    <tr>\n",
              "      <th>73112</th>\n",
              "      <td>9158319</td>\n",
              "      <td>NATURAL LT BR CN 24P</td>\n",
              "      <td>1</td>\n",
              "      <td>NATURAL_LIGHT</td>\n",
              "      <td>9.98</td>\n",
              "      <td>288.0</td>\n",
              "      <td>0.034653</td>\n",
              "      <td>CAN</td>\n",
              "      <td>False</td>\n",
              "      <td>SOUTH</td>\n",
              "      <td>...</td>\n",
              "      <td>50+</td>\n",
              "      <td>none</td>\n",
              "      <td>HS</td>\n",
              "      <td>none/retired/student</td>\n",
              "      <td>black</td>\n",
              "      <td>True</td>\n",
              "      <td>True</td>\n",
              "      <td>premium</td>\n",
              "      <td>True</td>\n",
              "      <td>2</td>\n",
              "    </tr>\n",
              "    <tr>\n",
              "      <th>73113</th>\n",
              "      <td>9164033</td>\n",
              "      <td>NATURAL LT BR CN 30P</td>\n",
              "      <td>1</td>\n",
              "      <td>NATURAL_LIGHT</td>\n",
              "      <td>12.98</td>\n",
              "      <td>360.0</td>\n",
              "      <td>0.036056</td>\n",
              "      <td>CAN</td>\n",
              "      <td>False</td>\n",
              "      <td>WEST</td>\n",
              "      <td>...</td>\n",
              "      <td>50+</td>\n",
              "      <td>full</td>\n",
              "      <td>College</td>\n",
              "      <td>prof</td>\n",
              "      <td>hispanic</td>\n",
              "      <td>True</td>\n",
              "      <td>True</td>\n",
              "      <td>basic</td>\n",
              "      <td>True</td>\n",
              "      <td>5plus</td>\n",
              "    </tr>\n",
              "    <tr>\n",
              "      <th>73114</th>\n",
              "      <td>9164155</td>\n",
              "      <td>NATURAL LT BR CN 24P</td>\n",
              "      <td>1</td>\n",
              "      <td>NATURAL_LIGHT</td>\n",
              "      <td>13.49</td>\n",
              "      <td>288.0</td>\n",
              "      <td>0.046840</td>\n",
              "      <td>CAN</td>\n",
              "      <td>False</td>\n",
              "      <td>SOUTH</td>\n",
              "      <td>...</td>\n",
              "      <td>50+</td>\n",
              "      <td>full</td>\n",
              "      <td>HS</td>\n",
              "      <td>labor/craft/military/farm</td>\n",
              "      <td>white</td>\n",
              "      <td>True</td>\n",
              "      <td>True</td>\n",
              "      <td>none</td>\n",
              "      <td>True</td>\n",
              "      <td>2</td>\n",
              "    </tr>\n",
              "  </tbody>\n",
              "</table>\n",
              "<p>53015 rows × 26 columns</p>\n",
              "</div>\n",
              "    <div class=\"colab-df-buttons\">\n",
              "\n",
              "  <div class=\"colab-df-container\">\n",
              "    <button class=\"colab-df-convert\" onclick=\"convertToInteractive('df-387a278f-cc8f-4f70-9f75-460e7a0c3253')\"\n",
              "            title=\"Convert this dataframe to an interactive table.\"\n",
              "            style=\"display:none;\">\n",
              "\n",
              "  <svg xmlns=\"http://www.w3.org/2000/svg\" height=\"24px\" viewBox=\"0 -960 960 960\">\n",
              "    <path d=\"M120-120v-720h720v720H120Zm60-500h600v-160H180v160Zm220 220h160v-160H400v160Zm0 220h160v-160H400v160ZM180-400h160v-160H180v160Zm440 0h160v-160H620v160ZM180-180h160v-160H180v160Zm440 0h160v-160H620v160Z\"/>\n",
              "  </svg>\n",
              "    </button>\n",
              "\n",
              "  <style>\n",
              "    .colab-df-container {\n",
              "      display:flex;\n",
              "      gap: 12px;\n",
              "    }\n",
              "\n",
              "    .colab-df-convert {\n",
              "      background-color: #E8F0FE;\n",
              "      border: none;\n",
              "      border-radius: 50%;\n",
              "      cursor: pointer;\n",
              "      display: none;\n",
              "      fill: #1967D2;\n",
              "      height: 32px;\n",
              "      padding: 0 0 0 0;\n",
              "      width: 32px;\n",
              "    }\n",
              "\n",
              "    .colab-df-convert:hover {\n",
              "      background-color: #E2EBFA;\n",
              "      box-shadow: 0px 1px 2px rgba(60, 64, 67, 0.3), 0px 1px 3px 1px rgba(60, 64, 67, 0.15);\n",
              "      fill: #174EA6;\n",
              "    }\n",
              "\n",
              "    .colab-df-buttons div {\n",
              "      margin-bottom: 4px;\n",
              "    }\n",
              "\n",
              "    [theme=dark] .colab-df-convert {\n",
              "      background-color: #3B4455;\n",
              "      fill: #D2E3FC;\n",
              "    }\n",
              "\n",
              "    [theme=dark] .colab-df-convert:hover {\n",
              "      background-color: #434B5C;\n",
              "      box-shadow: 0px 1px 3px 1px rgba(0, 0, 0, 0.15);\n",
              "      filter: drop-shadow(0px 1px 2px rgba(0, 0, 0, 0.3));\n",
              "      fill: #FFFFFF;\n",
              "    }\n",
              "  </style>\n",
              "\n",
              "    <script>\n",
              "      const buttonEl =\n",
              "        document.querySelector('#df-387a278f-cc8f-4f70-9f75-460e7a0c3253 button.colab-df-convert');\n",
              "      buttonEl.style.display =\n",
              "        google.colab.kernel.accessAllowed ? 'block' : 'none';\n",
              "\n",
              "      async function convertToInteractive(key) {\n",
              "        const element = document.querySelector('#df-387a278f-cc8f-4f70-9f75-460e7a0c3253');\n",
              "        const dataTable =\n",
              "          await google.colab.kernel.invokeFunction('convertToInteractive',\n",
              "                                                    [key], {});\n",
              "        if (!dataTable) return;\n",
              "\n",
              "        const docLinkHtml = 'Like what you see? Visit the ' +\n",
              "          '<a target=\"_blank\" href=https://colab.research.google.com/notebooks/data_table.ipynb>data table notebook</a>'\n",
              "          + ' to learn more about interactive tables.';\n",
              "        element.innerHTML = '';\n",
              "        dataTable['output_type'] = 'display_data';\n",
              "        await google.colab.output.renderOutput(dataTable, element);\n",
              "        const docLink = document.createElement('div');\n",
              "        docLink.innerHTML = docLinkHtml;\n",
              "        element.appendChild(docLink);\n",
              "      }\n",
              "    </script>\n",
              "  </div>\n",
              "\n",
              "\n",
              "<div id=\"df-289b0547-e87a-46e9-9da9-e298ef67b24d\">\n",
              "  <button class=\"colab-df-quickchart\" onclick=\"quickchart('df-289b0547-e87a-46e9-9da9-e298ef67b24d')\"\n",
              "            title=\"Suggest charts\"\n",
              "            style=\"display:none;\">\n",
              "\n",
              "<svg xmlns=\"http://www.w3.org/2000/svg\" height=\"24px\"viewBox=\"0 0 24 24\"\n",
              "     width=\"24px\">\n",
              "    <g>\n",
              "        <path d=\"M19 3H5c-1.1 0-2 .9-2 2v14c0 1.1.9 2 2 2h14c1.1 0 2-.9 2-2V5c0-1.1-.9-2-2-2zM9 17H7v-7h2v7zm4 0h-2V7h2v10zm4 0h-2v-4h2v4z\"/>\n",
              "    </g>\n",
              "</svg>\n",
              "  </button>\n",
              "\n",
              "<style>\n",
              "  .colab-df-quickchart {\n",
              "      --bg-color: #E8F0FE;\n",
              "      --fill-color: #1967D2;\n",
              "      --hover-bg-color: #E2EBFA;\n",
              "      --hover-fill-color: #174EA6;\n",
              "      --disabled-fill-color: #AAA;\n",
              "      --disabled-bg-color: #DDD;\n",
              "  }\n",
              "\n",
              "  [theme=dark] .colab-df-quickchart {\n",
              "      --bg-color: #3B4455;\n",
              "      --fill-color: #D2E3FC;\n",
              "      --hover-bg-color: #434B5C;\n",
              "      --hover-fill-color: #FFFFFF;\n",
              "      --disabled-bg-color: #3B4455;\n",
              "      --disabled-fill-color: #666;\n",
              "  }\n",
              "\n",
              "  .colab-df-quickchart {\n",
              "    background-color: var(--bg-color);\n",
              "    border: none;\n",
              "    border-radius: 50%;\n",
              "    cursor: pointer;\n",
              "    display: none;\n",
              "    fill: var(--fill-color);\n",
              "    height: 32px;\n",
              "    padding: 0;\n",
              "    width: 32px;\n",
              "  }\n",
              "\n",
              "  .colab-df-quickchart:hover {\n",
              "    background-color: var(--hover-bg-color);\n",
              "    box-shadow: 0 1px 2px rgba(60, 64, 67, 0.3), 0 1px 3px 1px rgba(60, 64, 67, 0.15);\n",
              "    fill: var(--button-hover-fill-color);\n",
              "  }\n",
              "\n",
              "  .colab-df-quickchart-complete:disabled,\n",
              "  .colab-df-quickchart-complete:disabled:hover {\n",
              "    background-color: var(--disabled-bg-color);\n",
              "    fill: var(--disabled-fill-color);\n",
              "    box-shadow: none;\n",
              "  }\n",
              "\n",
              "  .colab-df-spinner {\n",
              "    border: 2px solid var(--fill-color);\n",
              "    border-color: transparent;\n",
              "    border-bottom-color: var(--fill-color);\n",
              "    animation:\n",
              "      spin 1s steps(1) infinite;\n",
              "  }\n",
              "\n",
              "  @keyframes spin {\n",
              "    0% {\n",
              "      border-color: transparent;\n",
              "      border-bottom-color: var(--fill-color);\n",
              "      border-left-color: var(--fill-color);\n",
              "    }\n",
              "    20% {\n",
              "      border-color: transparent;\n",
              "      border-left-color: var(--fill-color);\n",
              "      border-top-color: var(--fill-color);\n",
              "    }\n",
              "    30% {\n",
              "      border-color: transparent;\n",
              "      border-left-color: var(--fill-color);\n",
              "      border-top-color: var(--fill-color);\n",
              "      border-right-color: var(--fill-color);\n",
              "    }\n",
              "    40% {\n",
              "      border-color: transparent;\n",
              "      border-right-color: var(--fill-color);\n",
              "      border-top-color: var(--fill-color);\n",
              "    }\n",
              "    60% {\n",
              "      border-color: transparent;\n",
              "      border-right-color: var(--fill-color);\n",
              "    }\n",
              "    80% {\n",
              "      border-color: transparent;\n",
              "      border-right-color: var(--fill-color);\n",
              "      border-bottom-color: var(--fill-color);\n",
              "    }\n",
              "    90% {\n",
              "      border-color: transparent;\n",
              "      border-bottom-color: var(--fill-color);\n",
              "    }\n",
              "  }\n",
              "</style>\n",
              "\n",
              "  <script>\n",
              "    async function quickchart(key) {\n",
              "      const quickchartButtonEl =\n",
              "        document.querySelector('#' + key + ' button');\n",
              "      quickchartButtonEl.disabled = true;  // To prevent multiple clicks.\n",
              "      quickchartButtonEl.classList.add('colab-df-spinner');\n",
              "      try {\n",
              "        const charts = await google.colab.kernel.invokeFunction(\n",
              "            'suggestCharts', [key], {});\n",
              "      } catch (error) {\n",
              "        console.error('Error during call to suggestCharts:', error);\n",
              "      }\n",
              "      quickchartButtonEl.classList.remove('colab-df-spinner');\n",
              "      quickchartButtonEl.classList.add('colab-df-quickchart-complete');\n",
              "    }\n",
              "    (() => {\n",
              "      let quickchartButtonEl =\n",
              "        document.querySelector('#df-289b0547-e87a-46e9-9da9-e298ef67b24d button');\n",
              "      quickchartButtonEl.style.display =\n",
              "        google.colab.kernel.accessAllowed ? 'block' : 'none';\n",
              "    })();\n",
              "  </script>\n",
              "</div>\n",
              "\n",
              "  <div id=\"id_d1a26783-98ad-4854-98ba-f28d717f9a18\">\n",
              "    <style>\n",
              "      .colab-df-generate {\n",
              "        background-color: #E8F0FE;\n",
              "        border: none;\n",
              "        border-radius: 50%;\n",
              "        cursor: pointer;\n",
              "        display: none;\n",
              "        fill: #1967D2;\n",
              "        height: 32px;\n",
              "        padding: 0 0 0 0;\n",
              "        width: 32px;\n",
              "      }\n",
              "\n",
              "      .colab-df-generate:hover {\n",
              "        background-color: #E2EBFA;\n",
              "        box-shadow: 0px 1px 2px rgba(60, 64, 67, 0.3), 0px 1px 3px 1px rgba(60, 64, 67, 0.15);\n",
              "        fill: #174EA6;\n",
              "      }\n",
              "\n",
              "      [theme=dark] .colab-df-generate {\n",
              "        background-color: #3B4455;\n",
              "        fill: #D2E3FC;\n",
              "      }\n",
              "\n",
              "      [theme=dark] .colab-df-generate:hover {\n",
              "        background-color: #434B5C;\n",
              "        box-shadow: 0px 1px 3px 1px rgba(0, 0, 0, 0.15);\n",
              "        filter: drop-shadow(0px 1px 2px rgba(0, 0, 0, 0.3));\n",
              "        fill: #FFFFFF;\n",
              "      }\n",
              "    </style>\n",
              "    <button class=\"colab-df-generate\" onclick=\"generateWithVariable('beer_df')\"\n",
              "            title=\"Generate code using this dataframe.\"\n",
              "            style=\"display:none;\">\n",
              "\n",
              "  <svg xmlns=\"http://www.w3.org/2000/svg\" height=\"24px\"viewBox=\"0 0 24 24\"\n",
              "       width=\"24px\">\n",
              "    <path d=\"M7,19H8.4L18.45,9,17,7.55,7,17.6ZM5,21V16.75L18.45,3.32a2,2,0,0,1,2.83,0l1.4,1.43a1.91,1.91,0,0,1,.58,1.4,1.91,1.91,0,0,1-.58,1.4L9.25,21ZM18.45,9,17,7.55Zm-12,3A5.31,5.31,0,0,0,4.9,8.1,5.31,5.31,0,0,0,1,6.5,5.31,5.31,0,0,0,4.9,4.9,5.31,5.31,0,0,0,6.5,1,5.31,5.31,0,0,0,8.1,4.9,5.31,5.31,0,0,0,12,6.5,5.46,5.46,0,0,0,6.5,12Z\"/>\n",
              "  </svg>\n",
              "    </button>\n",
              "    <script>\n",
              "      (() => {\n",
              "      const buttonEl =\n",
              "        document.querySelector('#id_d1a26783-98ad-4854-98ba-f28d717f9a18 button.colab-df-generate');\n",
              "      buttonEl.style.display =\n",
              "        google.colab.kernel.accessAllowed ? 'block' : 'none';\n",
              "\n",
              "      buttonEl.onclick = () => {\n",
              "        google.colab.notebook.generateWithVariable('beer_df');\n",
              "      }\n",
              "      })();\n",
              "    </script>\n",
              "  </div>\n",
              "\n",
              "    </div>\n",
              "  </div>\n"
            ],
            "application/vnd.google.colaboratory.intrinsic+json": {
              "type": "dataframe",
              "variable_name": "beer_df"
            }
          },
          "metadata": {},
          "execution_count": 4
        }
      ]
    },
    {
      "cell_type": "code",
      "source": [
        "df = spark.createDataFrame(beer_df)"
      ],
      "metadata": {
        "id": "vOzwaRj5_v5y"
      },
      "execution_count": 5,
      "outputs": []
    },
    {
      "cell_type": "code",
      "source": [
        "df = df.withColumn('log_beer_floz', log('beer_floz'))"
      ],
      "metadata": {
        "id": "nnlaHAa7_853"
      },
      "execution_count": 6,
      "outputs": []
    },
    {
      "cell_type": "code",
      "source": [
        "df = df.withColumn('log_price_floz', log('price_floz'))"
      ],
      "metadata": {
        "id": "88k-jop5_9UN"
      },
      "execution_count": 7,
      "outputs": []
    },
    {
      "cell_type": "markdown",
      "source": [
        "## Split into Training and Test DataFrames"
      ],
      "metadata": {
        "id": "TvQbAX-D_oNz"
      }
    },
    {
      "cell_type": "markdown",
      "source": [
        "First, we will split our data into training and test DataFrames. 67% of observations will belong to the training DataFrame and the remaining 33% will go to the test DataFrame."
      ],
      "metadata": {
        "id": "PncrIunRAD2X"
      }
    },
    {
      "cell_type": "code",
      "source": [
        "dtrain, dtest = df.randomSplit([.67, .33], seed = 1234)"
      ],
      "metadata": {
        "id": "UEsNOwe6_5eP"
      },
      "execution_count": 8,
      "outputs": []
    },
    {
      "cell_type": "markdown",
      "source": [
        "## Overview of Linear Regression Models"
      ],
      "metadata": {
        "id": "G0jrnQqSAdS4"
      }
    },
    {
      "cell_type": "markdown",
      "source": [
        "For the beer_markets DataFrame, we will consider and compare three different Linear Regression models. In Model 1, there are three independent or predictor variables: dummy variables for different beer markets, a dummy variable for whether or not the container is a can, and the log of the volume of beer in fluid ounces. Model 2 has the same independent variables as Model 1 in addition to the interaction term between different beer brands and the log of beer volume. Model 3 has the same independent variables as Model 2 in addition to three more interaction terms: whether or not promotion was used and the log of beer volume, brand and promotion usage, and brand, promotion usage, and the log of beer volume. For Models 2 and 3, the interaction terms show us how the relationship between one predictor and the outcome variable changes as the value of another predictor changes. For all three models, the dependent or outcome variable is the log of price per fluid ounce of beer. Using linear regression, we can predict the log price per fluid ounce based on the independent variables given in the model."
      ],
      "metadata": {
        "id": "-U50MIi5AsFe"
      }
    },
    {
      "cell_type": "markdown",
      "source": [
        "## Training the Models"
      ],
      "metadata": {
        "id": "0Q5fl7CaBBq6"
      }
    },
    {
      "cell_type": "markdown",
      "source": [
        "Before we begin training our models, we must add dummy variables for our categorical variables. To do this, we will apply our UDF for adding dummy variables. All observations must be numerical in order to train the Linear Regression Model."
      ],
      "metadata": {
        "id": "KP88fyh2BwRq"
      }
    },
    {
      "cell_type": "code",
      "source": [
        "dummy_cols_brand, ref_category_brand = add_dummy_variables('brand', 0, category_order=None)\n",
        "dummy_cols_market, ref_category_market = add_dummy_variables('market', 5, category_order=None)\n",
        "dummy_cols_container, ref_category_container = add_dummy_variables('container', 0, category_order=None)"
      ],
      "metadata": {
        "colab": {
          "base_uri": "https://localhost:8080/"
        },
        "id": "dmksaGeWCM0Y",
        "outputId": "23edf986-fbf8-4b10-ff51-713027c9e953"
      },
      "execution_count": 11,
      "outputs": [
        {
          "output_type": "stream",
          "name": "stdout",
          "text": [
            "Reference category (dummy omitted): BUD_LIGHT\n",
            "Reference category (dummy omitted): BUFFALO-ROCHESTER\n",
            "Reference category (dummy omitted): CAN\n"
          ]
        }
      ]
    },
    {
      "cell_type": "markdown",
      "source": [
        "### Model 1"
      ],
      "metadata": {
        "id": "wloOATNYBTpk"
      }
    },
    {
      "cell_type": "code",
      "source": [
        "x_cols_1 = ['log_beer_floz']\n",
        "\n",
        "assembler_predictors_1 = (\n",
        "    x_cols_1 +\n",
        "    dummy_cols_brand + dummy_cols_market + dummy_cols_container\n",
        ")"
      ],
      "metadata": {
        "id": "iO3nDllKAqUX"
      },
      "execution_count": 12,
      "outputs": []
    },
    {
      "cell_type": "code",
      "source": [
        "assembler_1 = VectorAssembler(\n",
        "    inputCols = assembler_predictors_1,\n",
        "    outputCol = \"predictors\"\n",
        ")\n",
        "\n",
        "dtrain_1 = assembler_1.transform(dtrain)\n",
        "dtest_1  = assembler_1.transform(dtest)\n",
        "\n",
        "# training model\n",
        "model_1 = (\n",
        "        LinearRegression(featuresCol=\"predictors\",\n",
        "                                labelCol=\"log_price_floz\")\n",
        "    .fit(dtrain_1)\n",
        ")\n",
        "\n",
        "# making prediction\n",
        "dtrain_1 = model_1.transform(dtrain_1)\n",
        "dtest_1 = model_1.transform(dtest_1)"
      ],
      "metadata": {
        "id": "6X8zvBSVCnvW"
      },
      "execution_count": 13,
      "outputs": []
    },
    {
      "cell_type": "markdown",
      "source": [
        "#### Summary"
      ],
      "metadata": {
        "id": "anzg7Mo4IgxG"
      }
    },
    {
      "cell_type": "code",
      "source": [
        "print(dtest_1.select([\"prediction\", \"price_floz\"]).show())"
      ],
      "metadata": {
        "colab": {
          "base_uri": "https://localhost:8080/"
        },
        "id": "3sJzZ23gCtbf",
        "outputId": "bf5f8247-a631-4225-c821-5ce129a6b161"
      },
      "execution_count": 14,
      "outputs": [
        {
          "output_type": "stream",
          "name": "stdout",
          "text": [
            "+-------------------+------------------+\n",
            "|         prediction|        price_floz|\n",
            "+-------------------+------------------+\n",
            "| -2.792350778968452|0.0659027777777777|\n",
            "| -2.864445041558655|0.0565277777777777|\n",
            "|-2.8788697218373027|           0.06375|\n",
            "|  -3.27220818906385|0.0392222222222222|\n",
            "| -3.327091138288483|0.0388611111111111|\n",
            "| -3.327091138288483|0.0388611111111111|\n",
            "| -3.327091138288483|0.0415833333333333|\n",
            "|-3.1275589685986342|0.0406944444444444|\n",
            "| -2.766643192389631|0.0620833333333333|\n",
            "|-2.7807239771704384|0.0740277777777777|\n",
            "| -2.958268062960834|0.0485763888888888|\n",
            "|-2.8454523724376664|0.0554861111111111|\n",
            "|-2.8454523724376664|0.0763194444444444|\n",
            "|-2.9003353216622996|           0.04625|\n",
            "|-2.9003353216622996|           0.04625|\n",
            "| -2.969479660376425|0.0444166666666666|\n",
            "| -2.969479660376425|0.0471944444444444|\n",
            "| -2.969479660376425|0.0471944444444444|\n",
            "| -2.969479660376425|           0.05275|\n",
            "| -2.890809854407121|0.0588888888888888|\n",
            "+-------------------+------------------+\n",
            "only showing top 20 rows\n",
            "\n",
            "None\n"
          ]
        }
      ]
    },
    {
      "cell_type": "code",
      "source": [
        "print(regression_table(model_1, assembler_1))"
      ],
      "metadata": {
        "colab": {
          "base_uri": "https://localhost:8080/"
        },
        "id": "lZVmscnmC0gV",
        "outputId": "819ede49-0fe1-47a2-d683-79e1cca7b066"
      },
      "execution_count": 15,
      "outputs": [
        {
          "output_type": "stream",
          "name": "stdout",
          "text": [
            "+-----------------------------------+--------+------+------------+---------+--------------+--------------+\n",
            "| Metric                            |  Value | Sig. | Std. Error | p-value | 95% CI Lower | 95% CI Upper |\n",
            "+-----------------------------------+--------+------+------------+---------+--------------+--------------+\n",
            "| Beta: log_beer_floz               | -0.135 | ***  |      0.003 |   0.000 |       -0.142 |       -0.129 |\n",
            "| Beta: brand_BUSCH_LIGHT           | -0.265 | ***  |      0.003 |   0.000 |       -0.271 |       -0.259 |\n",
            "| Beta: brand_COORS_LIGHT           | -0.004 |      |      0.003 |   0.224 |       -0.009 |        0.002 |\n",
            "| Beta: brand_MILLER_LITE           | -0.017 | ***  |      0.003 |   0.000 |       -0.022 |       -0.011 |\n",
            "| Beta: brand_NATURAL_LIGHT         | -0.320 | ***  |      0.014 |   0.000 |       -0.348 |       -0.293 |\n",
            "| Beta: market_ALBANY               |  0.031 |  **  |      0.012 |   0.025 |        0.008 |        0.055 |\n",
            "| Beta: market_ATLANTA              |  0.083 | ***  |      0.015 |   0.000 |        0.054 |        0.112 |\n",
            "| Beta: market_BALTIMORE            |  0.098 | ***  |      0.012 |   0.000 |        0.075 |        0.122 |\n",
            "| Beta: market_BIRMINGHAM           |  0.129 | ***  |      0.013 |   0.000 |        0.104 |        0.154 |\n",
            "| Beta: market_BOSTON               |  0.122 | ***  |      0.012 |   0.000 |        0.099 |        0.145 |\n",
            "| Beta: market_CHARLOTTE            |  0.016 |      |      0.011 |   0.173 |       -0.007 |        0.038 |\n",
            "| Beta: market_CHICAGO              | -0.002 |      |      0.012 |   0.852 |       -0.025 |        0.021 |\n",
            "| Beta: market_CINCINNATI           |  0.092 | ***  |      0.012 |   0.000 |        0.068 |        0.115 |\n",
            "| Beta: market_CLEVELAND            |  0.061 | ***  |      0.011 |   0.000 |        0.039 |        0.083 |\n",
            "| Beta: market_COLUMBUS             |  0.081 | ***  |      0.011 |   0.000 |        0.059 |        0.102 |\n",
            "| Beta: market_DALLAS               |  0.208 | ***  |      0.013 |   0.000 |        0.182 |        0.234 |\n",
            "| Beta: market_DENVER               |  0.116 | ***  |      0.013 |   0.000 |        0.091 |        0.142 |\n",
            "| Beta: market_DES_MOINES           |  0.148 | ***  |      0.011 |   0.000 |        0.126 |        0.171 |\n",
            "| Beta: market_DETROIT              |  0.098 | ***  |      0.031 |   0.000 |        0.037 |        0.159 |\n",
            "| Beta: market_EXURBAN_NJ           |  0.141 | ***  |      0.029 |   0.000 |        0.085 |        0.198 |\n",
            "| Beta: market_EXURBAN_NY           |  0.077 | ***  |      0.013 |   0.007 |        0.051 |        0.103 |\n",
            "| Beta: market_GRAND_RAPIDS         |  0.088 | ***  |      0.017 |   0.000 |        0.055 |        0.120 |\n",
            "| Beta: market_HARTFORD-NEW_HAVEN   |  0.129 | ***  |      0.011 |   0.000 |        0.106 |        0.151 |\n",
            "| Beta: market_HOUSTON              |  0.115 | ***  |      0.012 |   0.000 |        0.091 |        0.139 |\n",
            "| Beta: market_INDIANAPOLIS         |  0.095 | ***  |      0.016 |   0.000 |        0.064 |        0.127 |\n",
            "| Beta: market_JACKSONVILLE         |  0.135 | ***  |      0.014 |   0.000 |        0.107 |        0.162 |\n",
            "| Beta: market_KANSAS_CITY          |  0.071 | ***  |      0.015 |   0.000 |        0.041 |        0.101 |\n",
            "| Beta: market_LITTLE_ROCK          |  0.101 | ***  |      0.011 |   0.000 |        0.079 |        0.123 |\n",
            "| Beta: market_LOS_ANGELES          |  0.019 |      |      0.013 |   0.100 |       -0.008 |        0.045 |\n",
            "| Beta: market_LOUISVILLE           |  0.075 | ***  |      0.015 |   0.000 |        0.045 |        0.105 |\n",
            "| Beta: market_MEMPHIS              |  0.160 | ***  |      0.011 |   0.000 |        0.138 |        0.181 |\n",
            "| Beta: market_MIAMI                |  0.107 | ***  |      0.013 |   0.000 |        0.082 |        0.132 |\n",
            "| Beta: market_MILWAUKEE            |  0.038 | ***  |      0.013 |   0.003 |        0.013 |        0.063 |\n",
            "| Beta: market_MINNEAPOLIS          |  0.131 | ***  |      0.013 |   0.000 |        0.106 |        0.156 |\n",
            "| Beta: market_NASHVILLE            |  0.173 | ***  |      0.013 |   0.000 |        0.147 |        0.198 |\n",
            "| Beta: market_NEW_ORLEANS-MOBILE   |  0.143 | ***  |      0.013 |   0.000 |        0.118 |        0.168 |\n",
            "| Beta: market_OKLAHOMA_CITY-TULSA  |  0.159 | ***  |      0.012 |   0.000 |        0.135 |        0.183 |\n",
            "| Beta: market_OMAHA                |  0.141 | ***  |      0.012 |   0.000 |        0.117 |        0.165 |\n",
            "| Beta: market_ORLANDO              |  0.132 | ***  |      0.015 |   0.000 |        0.103 |        0.161 |\n",
            "| Beta: market_PHILADELPHIA         |  0.096 | ***  |      0.011 |   0.000 |        0.074 |        0.118 |\n",
            "| Beta: market_PHOENIX              |  0.154 | ***  |      0.016 |   0.000 |        0.122 |        0.186 |\n",
            "| Beta: market_PITTSBURGH           |  0.088 | ***  |      0.014 |   0.000 |        0.061 |        0.116 |\n",
            "| Beta: market_PORTLAND             |  0.104 | ***  |      0.012 |   0.000 |        0.080 |        0.128 |\n",
            "| Beta: market_RALEIGH-DURHAM       |  0.094 | ***  |      0.012 |   0.000 |        0.070 |        0.119 |\n",
            "| Beta: market_RICHMOND             |  0.029 |  **  |      0.017 |   0.018 |       -0.004 |        0.062 |\n",
            "| Beta: market_RURAL_ALABAMA        |  0.165 | ***  |      0.020 |   0.000 |        0.125 |        0.204 |\n",
            "| Beta: market_RURAL_ARKANSAS       |  0.178 | ***  |      0.013 |   0.000 |        0.153 |        0.203 |\n",
            "| Beta: market_RURAL_CALIFORNIA     |  0.038 | ***  |      0.071 |   0.003 |       -0.101 |        0.177 |\n",
            "| Beta: market_RURAL_COLORADO       |  0.171 |  **  |      0.014 |   0.016 |        0.143 |        0.198 |\n",
            "| Beta: market_RURAL_FLORIDA        |  0.060 | ***  |      0.015 |   0.000 |        0.031 |        0.090 |\n",
            "| Beta: market_RURAL_GEORGIA        |  0.151 | ***  |      0.020 |   0.000 |        0.111 |        0.190 |\n",
            "| Beta: market_RURAL_IDAHO          |  0.172 | ***  |      0.012 |   0.000 |        0.149 |        0.196 |\n",
            "| Beta: market_RURAL_ILLINOIS       |  0.016 |      |      0.015 |   0.196 |       -0.014 |        0.046 |\n",
            "| Beta: market_RURAL_INDIANA        |  0.095 | ***  |      0.012 |   0.000 |        0.071 |        0.118 |\n",
            "| Beta: market_RURAL_IOWA           |  0.090 | ***  |      0.021 |   0.000 |        0.048 |        0.132 |\n",
            "| Beta: market_RURAL_KANSAS         |  0.108 | ***  |      0.019 |   0.000 |        0.070 |        0.146 |\n",
            "| Beta: market_RURAL_KENTUCKY       |  0.152 | ***  |      0.016 |   0.000 |        0.121 |        0.183 |\n",
            "| Beta: market_RURAL_LOUISIANA      |  0.115 | ***  |      0.016 |   0.000 |        0.084 |        0.146 |\n",
            "| Beta: market_RURAL_MAINE          |  0.100 | ***  |      0.013 |   0.000 |        0.074 |        0.125 |\n",
            "| Beta: market_RURAL_MICHIGAN       |  0.095 | ***  |      0.024 |   0.000 |        0.048 |        0.143 |\n",
            "| Beta: market_RURAL_MINNESOTA      |  0.244 | ***  |      0.016 |   0.000 |        0.212 |        0.276 |\n",
            "| Beta: market_RURAL_MISSISSIPPI    |  0.050 | ***  |      0.014 |   0.002 |        0.022 |        0.077 |\n",
            "| Beta: market_RURAL_MISSOURI       |  0.105 | ***  |      0.016 |   0.000 |        0.074 |        0.137 |\n",
            "| Beta: market_RURAL_MONTANA        |  0.114 | ***  |      0.024 |   0.000 |        0.066 |        0.162 |\n",
            "| Beta: market_RURAL_NEBRASKA       |  0.169 | ***  |      0.014 |   0.000 |        0.141 |        0.197 |\n",
            "| Beta: market_RURAL_NEVADA         |  0.038 | ***  |      0.044 |   0.007 |       -0.048 |        0.125 |\n",
            "| Beta: market_RURAL_NEW_HAMPSHIRE  |  0.036 |      |      0.016 |   0.420 |        0.004 |        0.067 |\n",
            "| Beta: market_RURAL_NEW_MEXICO     |  0.165 | ***  |      0.078 |   0.000 |        0.013 |        0.318 |\n",
            "| Beta: market_RURAL_NEW_YORK       | -0.062 |      |      0.013 |   0.426 |       -0.087 |       -0.036 |\n",
            "| Beta: market_RURAL_NORTH_CAROLINA |  0.007 |      |      0.024 |   0.613 |       -0.040 |        0.053 |\n",
            "| Beta: market_RURAL_NORTH_DAKOTA   |  0.227 | ***  |      0.018 |   0.000 |        0.192 |        0.262 |\n",
            "| Beta: market_RURAL_OHIO           |  0.098 | ***  |      0.037 |   0.000 |        0.027 |        0.170 |\n",
            "| Beta: market_RURAL_OKLAHOMA       |  0.138 | ***  |      0.047 |   0.000 |        0.046 |        0.230 |\n",
            "| Beta: market_RURAL_OREGON         |  0.036 |      |      0.016 |   0.447 |        0.005 |        0.066 |\n",
            "| Beta: market_RURAL_PENNSYLVANIA   |  0.127 | ***  |      0.012 |   0.000 |        0.104 |        0.150 |\n",
            "| Beta: market_RURAL_SOUTH_CAROLINA |  0.060 | ***  |      0.023 |   0.000 |        0.015 |        0.104 |\n",
            "| Beta: market_RURAL_SOUTH_DAKOTA   |  0.072 | ***  |      0.016 |   0.002 |        0.041 |        0.103 |\n",
            "| Beta: market_RURAL_TENNESSEE      |  0.192 | ***  |      0.011 |   0.000 |        0.170 |        0.215 |\n",
            "| Beta: market_RURAL_TEXAS          |  0.173 | ***  |      0.022 |   0.000 |        0.130 |        0.216 |\n",
            "| Beta: market_RURAL_VERMONT        |  0.092 | ***  |      0.020 |   0.000 |        0.053 |        0.130 |\n",
            "| Beta: market_RURAL_VIRGINIA       |  0.013 |      |      0.016 |   0.494 |       -0.018 |        0.045 |\n",
            "| Beta: market_RURAL_WASHINGTON     |  0.140 | ***  |      0.018 |   0.000 |        0.105 |        0.175 |\n",
            "| Beta: market_RURAL_WEST_VIRGINIA  | -0.075 | ***  |      0.011 |   0.000 |       -0.098 |       -0.053 |\n",
            "| Beta: market_RURAL_WISCONSIN      |  0.041 | ***  |      0.037 |   0.000 |       -0.032 |        0.114 |\n",
            "| Beta: market_RURAL_WYOMING        |  0.157 | ***  |      0.012 |   0.000 |        0.133 |        0.181 |\n",
            "| Beta: market_SACRAMENTO           |  0.016 |      |      0.018 |   0.192 |       -0.018 |        0.050 |\n",
            "| Beta: market_SALT_LAKE_CITY       |  0.130 | ***  |      0.011 |   0.000 |        0.108 |        0.151 |\n",
            "| Beta: market_SAN_ANTONIO          |  0.147 | ***  |      0.013 |   0.000 |        0.121 |        0.173 |\n",
            "| Beta: market_SAN_DIEGO            | -0.003 |      |      0.012 |   0.821 |       -0.027 |        0.021 |\n",
            "| Beta: market_SAN_FRANCISCO        |  0.078 | ***  |      0.013 |   0.000 |        0.054 |        0.103 |\n",
            "| Beta: market_SEATTLE              |  0.106 | ***  |      0.012 |   0.000 |        0.083 |        0.129 |\n",
            "| Beta: market_ST_LOUIS             |  0.015 |      |      0.015 |   0.202 |       -0.015 |        0.045 |\n",
            "| Beta: market_SURBURBAN_NJ         | -0.046 | ***  |      0.015 |   0.002 |       -0.076 |       -0.016 |\n",
            "| Beta: market_SURBURBAN_NY         |  0.090 | ***  |      0.017 |   0.000 |        0.057 |        0.123 |\n",
            "| Beta: market_SYRACUSE             | -0.035 |  **  |      0.011 |   0.035 |       -0.056 |       -0.014 |\n",
            "| Beta: market_TAMPA                |  0.116 | ***  |      0.013 |   0.000 |        0.091 |        0.141 |\n",
            "| Beta: market_URBAN_NY             |  0.147 | ***  |      0.013 |   0.000 |        0.121 |        0.172 |\n",
            "| Beta: market_WASHINGTON_DC        |  0.098 | ***  |      0.013 |   0.000 |        0.073 |        0.123 |\n",
            "| Intercept                         | -2.207 | ***  |      0.001 |   0.000 |       -2.210 |       -2.205 |\n",
            "----------------------------------------------------------------------------------------------------------\n",
            "| Observations                      | 35,486 |      |            |         |              |              |\n",
            "| R²                                |  0.511 |      |            |         |              |              |\n",
            "| RMSE                              |  0.172 |      |            |         |              |              |\n",
            "+-----------------------------------+--------+------+------------+---------+--------------+--------------+\n"
          ]
        }
      ]
    },
    {
      "cell_type": "markdown",
      "source": [
        "### Model 2"
      ],
      "metadata": {
        "id": "FZXqAqD6DA6_"
      }
    },
    {
      "cell_type": "markdown",
      "source": [
        "We must add one more predictor to Model 2. We will add an interaction term between beer brand and log of beer volume."
      ],
      "metadata": {
        "id": "l3QvMDxDIkt-"
      }
    },
    {
      "cell_type": "code",
      "source": [
        "interaction_cols_brand_log_floz = add_interaction_terms(dummy_cols_brand, ['log_beer_floz'], var_list3=None)"
      ],
      "metadata": {
        "id": "_33XmeBdDGNS"
      },
      "execution_count": 17,
      "outputs": []
    },
    {
      "cell_type": "code",
      "source": [
        "assembler_predictors_2 = (\n",
        "    x_cols_1 +\n",
        "    dummy_cols_brand + dummy_cols_market + dummy_cols_container +\n",
        "    interaction_cols_brand_log_floz\n",
        ")"
      ],
      "metadata": {
        "id": "8GTEK6bUDHy1"
      },
      "execution_count": 18,
      "outputs": []
    },
    {
      "cell_type": "code",
      "source": [
        "assembler_2 = VectorAssembler(\n",
        "    inputCols = assembler_predictors_2,\n",
        "    outputCol = \"predictors\"\n",
        ")\n",
        "\n",
        "dtrain_2 = assembler_2.transform(dtrain)\n",
        "dtest_2  = assembler_2.transform(dtest)\n",
        "\n",
        "# training model\n",
        "model_2 = (\n",
        "        LinearRegression(featuresCol=\"predictors\",\n",
        "                                labelCol=\"log_price_floz\")\n",
        "    .fit(dtrain_2)\n",
        ")\n",
        "\n",
        "# making prediction\n",
        "dtrain_2 = model_2.transform(dtrain_2)\n",
        "dtest_2 = model_2.transform(dtest_2)"
      ],
      "metadata": {
        "id": "0DlOeW7rDJ0o"
      },
      "execution_count": 19,
      "outputs": []
    },
    {
      "cell_type": "markdown",
      "source": [
        "#### Summary"
      ],
      "metadata": {
        "id": "mJvbTjexJCbZ"
      }
    },
    {
      "cell_type": "code",
      "source": [
        "print(regression_table(model_2, assembler_2))"
      ],
      "metadata": {
        "colab": {
          "base_uri": "https://localhost:8080/"
        },
        "id": "4N4VKDDGDMKQ",
        "outputId": "d5401bb2-50dd-428e-e49b-427e8c6cb507"
      },
      "execution_count": 20,
      "outputs": [
        {
          "output_type": "stream",
          "name": "stdout",
          "text": [
            "+-------------------------------------------+--------+------+------------+---------+--------------+--------------+\n",
            "| Metric                                    |  Value | Sig. | Std. Error | p-value | 95% CI Lower | 95% CI Upper |\n",
            "+-------------------------------------------+--------+------+------------+---------+--------------+--------------+\n",
            "| Beta: log_beer_floz                       | -0.142 | ***  |      0.027 |   0.000 |       -0.195 |       -0.090 |\n",
            "| Beta: brand_BUSCH_LIGHT                   | -0.146 | ***  |      0.024 |   0.000 |       -0.192 |       -0.100 |\n",
            "| Beta: brand_COORS_LIGHT                   | -0.108 | ***  |      0.022 |   0.000 |       -0.150 |       -0.065 |\n",
            "| Beta: brand_MILLER_LITE                   |  0.089 | ***  |      0.022 |   0.000 |        0.046 |        0.132 |\n",
            "| Beta: brand_NATURAL_LIGHT                 | -0.581 | ***  |      0.014 |   0.000 |       -0.609 |       -0.554 |\n",
            "| Beta: market_ALBANY                       |  0.034 |  **  |      0.012 |   0.015 |        0.010 |        0.057 |\n",
            "| Beta: market_ATLANTA                      |  0.084 | ***  |      0.015 |   0.000 |        0.055 |        0.113 |\n",
            "| Beta: market_BALTIMORE                    |  0.104 | ***  |      0.012 |   0.000 |        0.081 |        0.127 |\n",
            "| Beta: market_BIRMINGHAM                   |  0.138 | ***  |      0.013 |   0.000 |        0.113 |        0.163 |\n",
            "| Beta: market_BOSTON                       |  0.125 | ***  |      0.012 |   0.000 |        0.102 |        0.147 |\n",
            "| Beta: market_CHARLOTTE                    |  0.012 |      |      0.011 |   0.294 |       -0.010 |        0.035 |\n",
            "| Beta: market_CHICAGO                      | -0.006 |      |      0.012 |   0.607 |       -0.029 |        0.017 |\n",
            "| Beta: market_CINCINNATI                   |  0.088 | ***  |      0.012 |   0.000 |        0.064 |        0.111 |\n",
            "| Beta: market_CLEVELAND                    |  0.058 | ***  |      0.011 |   0.000 |        0.036 |        0.080 |\n",
            "| Beta: market_COLUMBUS                     |  0.081 | ***  |      0.011 |   0.000 |        0.059 |        0.102 |\n",
            "| Beta: market_DALLAS                       |  0.222 | ***  |      0.013 |   0.000 |        0.195 |        0.248 |\n",
            "| Beta: market_DENVER                       |  0.116 | ***  |      0.013 |   0.000 |        0.091 |        0.141 |\n",
            "| Beta: market_DES_MOINES                   |  0.144 | ***  |      0.011 |   0.000 |        0.122 |        0.166 |\n",
            "| Beta: market_DETROIT                      |  0.098 | ***  |      0.031 |   0.000 |        0.037 |        0.158 |\n",
            "| Beta: market_EXURBAN_NJ                   |  0.146 | ***  |      0.028 |   0.000 |        0.090 |        0.202 |\n",
            "| Beta: market_EXURBAN_NY                   |  0.076 | ***  |      0.013 |   0.008 |        0.050 |        0.101 |\n",
            "| Beta: market_GRAND_RAPIDS                 |  0.084 | ***  |      0.016 |   0.000 |        0.052 |        0.117 |\n",
            "| Beta: market_HARTFORD-NEW_HAVEN           |  0.128 | ***  |      0.011 |   0.000 |        0.106 |        0.151 |\n",
            "| Beta: market_HOUSTON                      |  0.115 | ***  |      0.012 |   0.000 |        0.091 |        0.139 |\n",
            "| Beta: market_INDIANAPOLIS                 |  0.093 | ***  |      0.016 |   0.000 |        0.061 |        0.124 |\n",
            "| Beta: market_JACKSONVILLE                 |  0.129 | ***  |      0.014 |   0.000 |        0.101 |        0.157 |\n",
            "| Beta: market_KANSAS_CITY                  |  0.071 | ***  |      0.015 |   0.000 |        0.041 |        0.101 |\n",
            "| Beta: market_LITTLE_ROCK                  |  0.101 | ***  |      0.011 |   0.000 |        0.078 |        0.123 |\n",
            "| Beta: market_LOS_ANGELES                  |  0.012 |      |      0.013 |   0.275 |       -0.014 |        0.038 |\n",
            "| Beta: market_LOUISVILLE                   |  0.072 | ***  |      0.015 |   0.000 |        0.043 |        0.102 |\n",
            "| Beta: market_MEMPHIS                      |  0.161 | ***  |      0.011 |   0.000 |        0.139 |        0.182 |\n",
            "| Beta: market_MIAMI                        |  0.109 | ***  |      0.013 |   0.000 |        0.084 |        0.134 |\n",
            "| Beta: market_MILWAUKEE                    |  0.038 | ***  |      0.012 |   0.003 |        0.014 |        0.063 |\n",
            "| Beta: market_MINNEAPOLIS                  |  0.134 | ***  |      0.013 |   0.000 |        0.109 |        0.159 |\n",
            "| Beta: market_NASHVILLE                    |  0.176 | ***  |      0.013 |   0.000 |        0.150 |        0.201 |\n",
            "| Beta: market_NEW_ORLEANS-MOBILE           |  0.135 | ***  |      0.013 |   0.000 |        0.110 |        0.160 |\n",
            "| Beta: market_OKLAHOMA_CITY-TULSA          |  0.157 | ***  |      0.012 |   0.000 |        0.133 |        0.181 |\n",
            "| Beta: market_OMAHA                        |  0.140 | ***  |      0.012 |   0.000 |        0.116 |        0.165 |\n",
            "| Beta: market_ORLANDO                      |  0.132 | ***  |      0.015 |   0.000 |        0.103 |        0.162 |\n",
            "| Beta: market_PHILADELPHIA                 |  0.095 | ***  |      0.011 |   0.000 |        0.073 |        0.117 |\n",
            "| Beta: market_PHOENIX                      |  0.157 | ***  |      0.016 |   0.000 |        0.125 |        0.188 |\n",
            "| Beta: market_PITTSBURGH                   |  0.086 | ***  |      0.014 |   0.000 |        0.059 |        0.114 |\n",
            "| Beta: market_PORTLAND                     |  0.105 | ***  |      0.012 |   0.000 |        0.081 |        0.129 |\n",
            "| Beta: market_RALEIGH-DURHAM               |  0.096 | ***  |      0.012 |   0.000 |        0.072 |        0.120 |\n",
            "| Beta: market_RICHMOND                     |  0.029 |  **  |      0.017 |   0.020 |       -0.004 |        0.061 |\n",
            "| Beta: market_RURAL_ALABAMA                |  0.166 | ***  |      0.020 |   0.000 |        0.127 |        0.205 |\n",
            "| Beta: market_RURAL_ARKANSAS               |  0.187 | ***  |      0.013 |   0.000 |        0.162 |        0.212 |\n",
            "| Beta: market_RURAL_CALIFORNIA             |  0.035 | ***  |      0.071 |   0.005 |       -0.103 |        0.174 |\n",
            "| Beta: market_RURAL_COLORADO               |  0.171 |  **  |      0.014 |   0.015 |        0.144 |        0.199 |\n",
            "| Beta: market_RURAL_FLORIDA                |  0.050 | ***  |      0.015 |   0.000 |        0.021 |        0.080 |\n",
            "| Beta: market_RURAL_GEORGIA                |  0.147 | ***  |      0.020 |   0.000 |        0.107 |        0.186 |\n",
            "| Beta: market_RURAL_IDAHO                  |  0.171 | ***  |      0.012 |   0.000 |        0.147 |        0.194 |\n",
            "| Beta: market_RURAL_ILLINOIS               |  0.017 |      |      0.015 |   0.162 |       -0.013 |        0.047 |\n",
            "| Beta: market_RURAL_INDIANA                |  0.105 | ***  |      0.012 |   0.000 |        0.082 |        0.129 |\n",
            "| Beta: market_RURAL_IOWA                   |  0.092 | ***  |      0.021 |   0.000 |        0.051 |        0.134 |\n",
            "| Beta: market_RURAL_KANSAS                 |  0.110 | ***  |      0.019 |   0.000 |        0.072 |        0.148 |\n",
            "| Beta: market_RURAL_KENTUCKY               |  0.154 | ***  |      0.016 |   0.000 |        0.123 |        0.184 |\n",
            "| Beta: market_RURAL_LOUISIANA              |  0.111 | ***  |      0.016 |   0.000 |        0.079 |        0.142 |\n",
            "| Beta: market_RURAL_MAINE                  |  0.096 | ***  |      0.013 |   0.000 |        0.070 |        0.121 |\n",
            "| Beta: market_RURAL_MICHIGAN               |  0.093 | ***  |      0.024 |   0.000 |        0.046 |        0.140 |\n",
            "| Beta: market_RURAL_MINNESOTA              |  0.257 | ***  |      0.016 |   0.000 |        0.225 |        0.289 |\n",
            "| Beta: market_RURAL_MISSISSIPPI            |  0.046 | ***  |      0.014 |   0.005 |        0.019 |        0.073 |\n",
            "| Beta: market_RURAL_MISSOURI               |  0.109 | ***  |      0.016 |   0.000 |        0.078 |        0.141 |\n",
            "| Beta: market_RURAL_MONTANA                |  0.114 | ***  |      0.024 |   0.000 |        0.066 |        0.161 |\n",
            "| Beta: market_RURAL_NEBRASKA               |  0.170 | ***  |      0.014 |   0.000 |        0.143 |        0.198 |\n",
            "| Beta: market_RURAL_NEVADA                 |  0.038 | ***  |      0.044 |   0.007 |       -0.048 |        0.125 |\n",
            "| Beta: market_RURAL_NEW_HAMPSHIRE          |  0.031 |      |      0.016 |   0.481 |       -0.000 |        0.062 |\n",
            "| Beta: market_RURAL_NEW_MEXICO             |  0.161 | ***  |      0.077 |   0.000 |        0.009 |        0.313 |\n",
            "| Beta: market_RURAL_NEW_YORK               | -0.059 |      |      0.013 |   0.448 |       -0.084 |       -0.033 |\n",
            "| Beta: market_RURAL_NORTH_CAROLINA         |  0.024 |  *   |      0.023 |   0.069 |       -0.022 |        0.070 |\n",
            "| Beta: market_RURAL_NORTH_DAKOTA           |  0.231 | ***  |      0.018 |   0.000 |        0.196 |        0.266 |\n",
            "| Beta: market_RURAL_OHIO                   |  0.100 | ***  |      0.036 |   0.000 |        0.028 |        0.171 |\n",
            "| Beta: market_RURAL_OKLAHOMA               |  0.139 | ***  |      0.047 |   0.000 |        0.047 |        0.231 |\n",
            "| Beta: market_RURAL_OREGON                 |  0.038 |      |      0.015 |   0.421 |        0.007 |        0.068 |\n",
            "| Beta: market_RURAL_PENNSYLVANIA           |  0.127 | ***  |      0.012 |   0.000 |        0.104 |        0.149 |\n",
            "| Beta: market_RURAL_SOUTH_CAROLINA         |  0.058 | ***  |      0.023 |   0.000 |        0.014 |        0.102 |\n",
            "| Beta: market_RURAL_SOUTH_DAKOTA           |  0.071 | ***  |      0.016 |   0.002 |        0.041 |        0.102 |\n",
            "| Beta: market_RURAL_TENNESSEE              |  0.194 | ***  |      0.011 |   0.000 |        0.172 |        0.217 |\n",
            "| Beta: market_RURAL_TEXAS                  |  0.175 | ***  |      0.022 |   0.000 |        0.132 |        0.218 |\n",
            "| Beta: market_RURAL_VERMONT                |  0.081 | ***  |      0.019 |   0.000 |        0.043 |        0.119 |\n",
            "| Beta: market_RURAL_VIRGINIA               |  0.015 |      |      0.016 |   0.448 |       -0.017 |        0.046 |\n",
            "| Beta: market_RURAL_WASHINGTON             |  0.141 | ***  |      0.018 |   0.000 |        0.106 |        0.176 |\n",
            "| Beta: market_RURAL_WEST_VIRGINIA          | -0.074 | ***  |      0.011 |   0.000 |       -0.097 |       -0.052 |\n",
            "| Beta: market_RURAL_WISCONSIN              |  0.040 | ***  |      0.037 |   0.000 |       -0.032 |        0.113 |\n",
            "| Beta: market_RURAL_WYOMING                |  0.154 | ***  |      0.012 |   0.000 |        0.130 |        0.178 |\n",
            "| Beta: market_SACRAMENTO                   |  0.014 |      |      0.017 |   0.235 |       -0.020 |        0.049 |\n",
            "| Beta: market_SALT_LAKE_CITY               |  0.127 | ***  |      0.011 |   0.000 |        0.106 |        0.148 |\n",
            "| Beta: market_SAN_ANTONIO                  |  0.143 | ***  |      0.013 |   0.000 |        0.117 |        0.169 |\n",
            "| Beta: market_SAN_DIEGO                    | -0.005 |      |      0.012 |   0.703 |       -0.029 |        0.019 |\n",
            "| Beta: market_SAN_FRANCISCO                |  0.077 | ***  |      0.013 |   0.000 |        0.053 |        0.102 |\n",
            "| Beta: market_SEATTLE                      |  0.099 | ***  |      0.012 |   0.000 |        0.076 |        0.122 |\n",
            "| Beta: market_ST_LOUIS                     |  0.014 |      |      0.015 |   0.215 |       -0.015 |        0.044 |\n",
            "| Beta: market_SURBURBAN_NJ                 | -0.047 | ***  |      0.015 |   0.002 |       -0.077 |       -0.017 |\n",
            "| Beta: market_SURBURBAN_NY                 |  0.087 | ***  |      0.017 |   0.000 |        0.054 |        0.120 |\n",
            "| Beta: market_SYRACUSE                     | -0.040 |  **  |      0.011 |   0.015 |       -0.061 |       -0.020 |\n",
            "| Beta: market_TAMPA                        |  0.114 | ***  |      0.013 |   0.000 |        0.088 |        0.139 |\n",
            "| Beta: market_URBAN_NY                     |  0.149 | ***  |      0.013 |   0.000 |        0.123 |        0.174 |\n",
            "| Beta: market_WASHINGTON_DC                |  0.095 | ***  |      0.005 |   0.000 |        0.086 |        0.105 |\n",
            "| Beta: brand_BUSCH_LIGHT_*_log_beer_floz   | -0.021 | ***  |      0.004 |   0.000 |       -0.029 |       -0.013 |\n",
            "| Beta: brand_COORS_LIGHT_*_log_beer_floz   |  0.019 | ***  |      0.004 |   0.000 |        0.011 |        0.027 |\n",
            "| Beta: brand_MILLER_LITE_*_log_beer_floz   | -0.019 | ***  |      0.004 |   0.000 |       -0.027 |       -0.011 |\n",
            "| Beta: brand_NATURAL_LIGHT_*_log_beer_floz |  0.048 | ***  |      0.018 |   0.000 |        0.012 |        0.083 |\n",
            "| Intercept                                 | -2.169 | ***  |      0.003 |   0.000 |       -2.174 |       -2.163 |\n",
            "------------------------------------------------------------------------------------------------------------------\n",
            "| Observations                              | 35,486 |      |            |         |              |              |\n",
            "| R²                                        |  0.516 |      |            |         |              |              |\n",
            "| RMSE                                      |  0.171 |      |            |         |              |              |\n",
            "+-------------------------------------------+--------+------+------------+---------+--------------+--------------+\n"
          ]
        }
      ]
    },
    {
      "cell_type": "code",
      "source": [
        "print(dtest_2.select([\"prediction\", \"price_floz\"]).show())"
      ],
      "metadata": {
        "colab": {
          "base_uri": "https://localhost:8080/"
        },
        "id": "DAzJZe3yDRI2",
        "outputId": "59dd7d09-3592-4d6a-8c33-50308d988223"
      },
      "execution_count": 21,
      "outputs": [
        {
          "output_type": "stream",
          "name": "stdout",
          "text": [
            "+-------------------+------------------+\n",
            "|         prediction|        price_floz|\n",
            "+-------------------+------------------+\n",
            "|  -2.79184159063699|0.0659027777777777|\n",
            "|-2.8594121622298223|0.0565277777777777|\n",
            "| -2.869616423365115|           0.06375|\n",
            "|-3.2968652189031418|0.0392222222222222|\n",
            "|-3.3630798574977083|0.0388611111111111|\n",
            "|-3.3630798574977083|0.0388611111111111|\n",
            "|-3.3630798574977083|0.0415833333333333|\n",
            "|-3.1358115955296135|0.0406944444444444|\n",
            "| -2.760190593306609|0.0620833333333333|\n",
            "|-2.7771575669310384|0.0740277777777777|\n",
            "| -2.958054745817342|0.0485763888888888|\n",
            "|-2.8540147644649227|0.0554861111111111|\n",
            "|-2.8540147644649227|0.0763194444444444|\n",
            "| -2.904018769588993|           0.04625|\n",
            "| -2.904018769588993|           0.04625|\n",
            "|-2.9670163656768107|0.0444166666666666|\n",
            "|-2.9670163656768107|0.0471944444444444|\n",
            "|-2.9670163656768107|0.0471944444444444|\n",
            "|-2.9670163656768107|           0.05275|\n",
            "| -2.891047126501169|0.0588888888888888|\n",
            "+-------------------+------------------+\n",
            "only showing top 20 rows\n",
            "\n",
            "None\n"
          ]
        }
      ]
    },
    {
      "cell_type": "markdown",
      "source": [
        "### Model 3"
      ],
      "metadata": {
        "id": "vrlYkg6rDakC"
      }
    },
    {
      "cell_type": "markdown",
      "source": [
        "Similarly to Model 2, we must add more predictors for Model 3. Here, we will add a dummy variable for promotion and several more interaction terms. We will consider the interaction between bran and beer volume, promotion and beer volume, brand and promotion, and brand, promotion, and beer volume."
      ],
      "metadata": {
        "id": "N_cP-8eaJFah"
      }
    },
    {
      "cell_type": "code",
      "source": [
        "dummy_cols_promo, ref_category_promo = add_dummy_variables('promo', 0)"
      ],
      "metadata": {
        "colab": {
          "base_uri": "https://localhost:8080/"
        },
        "id": "W9FIoRxjDbyz",
        "outputId": "824ff438-3857-47dc-b742-3d253dc2bd55"
      },
      "execution_count": 22,
      "outputs": [
        {
          "output_type": "stream",
          "name": "stdout",
          "text": [
            "Reference category (dummy omitted): False\n"
          ]
        }
      ]
    },
    {
      "cell_type": "code",
      "source": [
        "interaction_cols_brand_log_floz = add_interaction_terms(dummy_cols_brand, ['log_beer_floz'], var_list3=None)\n",
        "interaction_cols_promo_log_floz = add_interaction_terms(dummy_cols_promo, ['log_beer_floz'], var_list3=None)\n",
        "interaction_cols_brand_promo = add_interaction_terms(dummy_cols_brand, dummy_cols_promo, var_list3=None)\n",
        "interaction_cols_brand_promo_log_floz = add_interaction_terms(dummy_cols_brand, dummy_cols_promo, ['log_beer_floz'])"
      ],
      "metadata": {
        "id": "hSTESNiuDe6_"
      },
      "execution_count": 23,
      "outputs": []
    },
    {
      "cell_type": "code",
      "source": [
        "assembler_predictors_3 = (\n",
        "    x_cols_1 +\n",
        "    dummy_cols_brand + dummy_cols_market + dummy_cols_container +\n",
        "    interaction_cols_brand_log_floz +\n",
        "    interaction_cols_promo_log_floz +\n",
        "    interaction_cols_brand_promo +\n",
        "    interaction_cols_brand_promo_log_floz\n",
        ")"
      ],
      "metadata": {
        "id": "BYcOuBFIDhdk"
      },
      "execution_count": 24,
      "outputs": []
    },
    {
      "cell_type": "code",
      "source": [
        "assembler_3 = VectorAssembler(\n",
        "    inputCols = assembler_predictors_3,\n",
        "    outputCol = \"predictors\"\n",
        ")\n",
        "\n",
        "dtrain_3 = assembler_3.transform(dtrain)\n",
        "dtest_3  = assembler_3.transform(dtest)\n",
        "\n",
        "# training model\n",
        "model_3 = (\n",
        "        LinearRegression(featuresCol=\"predictors\",\n",
        "                                labelCol=\"log_price_floz\")\n",
        "    .fit(dtrain_3)\n",
        ")\n",
        "\n",
        "# making prediction\n",
        "dtrain_3 = model_3.transform(dtrain_3)\n",
        "dtest_3 = model_3.transform(dtest_3)"
      ],
      "metadata": {
        "id": "wT983-KFDnCK"
      },
      "execution_count": 25,
      "outputs": []
    },
    {
      "cell_type": "markdown",
      "source": [
        "#### Summary"
      ],
      "metadata": {
        "id": "4EQzY4X_JjET"
      }
    },
    {
      "cell_type": "code",
      "source": [
        "beta_values = model_3.coefficients.toArray()\n",
        "feature_names = assembler_3.getInputCols()\n",
        "\n",
        "beta_table = []\n",
        "for i in range(len(feature_names)):\n",
        "    beta_table.append([feature_names[i], beta_values[i]])\n",
        "\n",
        "tabulate(beta_table)"
      ],
      "metadata": {
        "colab": {
          "base_uri": "https://localhost:8080/",
          "height": 139
        },
        "id": "WKhBFmOZDqp0",
        "outputId": "9a137c43-afb2-4b2b-cc3a-fc687d4dbc8e"
      },
      "execution_count": 26,
      "outputs": [
        {
          "output_type": "execute_result",
          "data": {
            "text/plain": [
              "'------------------------------------------------  -----------\\nlog_beer_floz                                     -0.136455\\nbrand_BUSCH_LIGHT                                 -0.0907828\\nbrand_COORS_LIGHT                                 -0.0737586\\nbrand_MILLER_LITE                                  0.133081\\nbrand_NATURAL_LIGHT                               -0.475828\\nmarket_ALBANY                                      0.0253785\\nmarket_ATLANTA                                     0.0763817\\nmarket_BALTIMORE                                   0.0933113\\nmarket_BIRMINGHAM                                  0.130783\\nmarket_BOSTON                                      0.120143\\nmarket_CHARLOTTE                                   0.0233496\\nmarket_CHICAGO                                    -0.00188634\\nmarket_CINCINNATI                                  0.0837354\\nmarket_CLEVELAND                                   0.0522246\\nmarket_COLUMBUS                                    0.0802702\\nmarket_DALLAS                                      0.226722\\nmarket_DENVER                                      0.129319\\nmarket_DES_MOINES                                  0.135893\\nmarket_DETROIT                                     0.0990648\\nmarket_EXURBAN_NJ                                  0.13442\\nmarket_EXURBAN_NY                                  0.0667537\\nmarket_GRAND_RAPIDS                                0.0826997\\nmarket_HARTFORD-NEW_HAVEN                          0.121944\\nmarket_HOUSTON                                     0.115509\\nmarket_INDIANAPOLIS                                0.0891036\\nmarket_JACKSONVILLE                                0.130776\\nmarket_KANSAS_CITY                                 0.0634972\\nmarket_LITTLE_ROCK                                 0.097217\\nmarket_LOS_ANGELES                                 0.0207496\\nmarket_LOUISVILLE                                  0.0713703\\nmarket_MEMPHIS                                     0.15059\\nmarket_MIAMI                                       0.109035\\nmarket_MILWAUKEE                                   0.0388026\\nmarket_MINNEAPOLIS                                 0.127782\\nmarket_NASHVILLE                                   0.176059\\nmarket_NEW_ORLEANS-MOBILE                          0.126602\\nmarket_OKLAHOMA_CITY-TULSA                         0.149795\\nmarket_OMAHA                                       0.141953\\nmarket_ORLANDO                                     0.135769\\nmarket_PHILADELPHIA                                0.0831244\\nmarket_PHOENIX                                     0.162801\\nmarket_PITTSBURGH                                  0.0798706\\nmarket_PORTLAND                                    0.106474\\nmarket_RALEIGH-DURHAM                              0.0886988\\nmarket_RICHMOND                                    0.0218335\\nmarket_RURAL_ALABAMA                               0.162651\\nmarket_RURAL_ARKANSAS                              0.178275\\nmarket_RURAL_CALIFORNIA                            0.0341722\\nmarket_RURAL_COLORADO                              0.178842\\nmarket_RURAL_FLORIDA                               0.048985\\nmarket_RURAL_GEORGIA                               0.140319\\nmarket_RURAL_IDAHO                                 0.167423\\nmarket_RURAL_ILLINOIS                              0.0143436\\nmarket_RURAL_INDIANA                               0.104391\\nmarket_RURAL_IOWA                                  0.0879043\\nmarket_RURAL_KANSAS                                0.102565\\nmarket_RURAL_KENTUCKY                              0.148982\\nmarket_RURAL_LOUISIANA                             0.101282\\nmarket_RURAL_MAINE                                 0.0952734\\nmarket_RURAL_MICHIGAN                              0.0860976\\nmarket_RURAL_MINNESOTA                             0.250628\\nmarket_RURAL_MISSISSIPPI                           0.041842\\nmarket_RURAL_MISSOURI                              0.100376\\nmarket_RURAL_MONTANA                               0.125706\\nmarket_RURAL_NEBRASKA                              0.166878\\nmarket_RURAL_NEVADA                                0.0365143\\nmarket_RURAL_NEW_HAMPSHIRE                         0.0245408\\nmarket_RURAL_NEW_MEXICO                            0.151578\\nmarket_RURAL_NEW_YORK                             -0.0721252\\nmarket_RURAL_NORTH_CAROLINA                        0.0120202\\nmarket_RURAL_NORTH_DAKOTA                          0.226628\\nmarket_RURAL_OHIO                                  0.0947752\\nmarket_RURAL_OKLAHOMA                              0.125907\\nmarket_RURAL_OREGON                                0.0401582\\nmarket_RURAL_PENNSYLVANIA                          0.116653\\nmarket_RURAL_SOUTH_CAROLINA                        0.0593814\\nmarket_RURAL_SOUTH_DAKOTA                          0.0652301\\nmarket_RURAL_TENNESSEE                             0.205072\\nmarket_RURAL_TEXAS                                 0.172253\\nmarket_RURAL_VERMONT                               0.0837308\\nmarket_RURAL_VIRGINIA                              0.00853721\\nmarket_RURAL_WASHINGTON                            0.164909\\nmarket_RURAL_WEST_VIRGINIA                        -0.0849587\\nmarket_RURAL_WISCONSIN                             0.0389056\\nmarket_RURAL_WYOMING                               0.147967\\nmarket_SACRAMENTO                                  0.0217214\\nmarket_SALT_LAKE_CITY                              0.124676\\nmarket_SAN_ANTONIO                                 0.13696\\nmarket_SAN_DIEGO                                  -0.0029509\\nmarket_SAN_FRANCISCO                               0.0846383\\nmarket_SEATTLE                                     0.110073\\nmarket_ST_LOUIS                                    0.0168797\\nmarket_SURBURBAN_NJ                               -0.0575105\\nmarket_SURBURBAN_NY                                0.0850405\\nmarket_SYRACUSE                                   -0.0509936\\nmarket_TAMPA                                       0.113092\\nmarket_URBAN_NY                                    0.143904\\nmarket_WASHINGTON_DC                               0.0894661\\nbrand_BUSCH_LIGHT_*_log_beer_floz                 -0.01597\\nbrand_COORS_LIGHT_*_log_beer_floz                  0.00641913\\nbrand_MILLER_LITE_*_log_beer_floz                 -0.0136419\\nbrand_NATURAL_LIGHT_*_log_beer_floz                0.0139777\\npromo_True_*_log_beer_floz                        -0.00484056\\nbrand_BUSCH_LIGHT_*_promo_True                    -0.183267\\nbrand_COORS_LIGHT_*_promo_True                    -0.118051\\nbrand_MILLER_LITE_*_promo_True                    -0.198857\\nbrand_NATURAL_LIGHT_*_promo_True                  -0.214949\\nbrand_BUSCH_LIGHT_*_promo_True                    -0.183267\\nbrand_COORS_LIGHT_*_promo_True                    -0.118051\\nbrand_MILLER_LITE_*_promo_True                    -0.198857\\nbrand_NATURAL_LIGHT_*_promo_True                  -0.214949\\nbrand_BUSCH_LIGHT_*_log_beer_floz                 -0.01597\\nbrand_COORS_LIGHT_*_log_beer_floz                  0.00641913\\nbrand_MILLER_LITE_*_log_beer_floz                 -0.0136419\\nbrand_NATURAL_LIGHT_*_log_beer_floz                0.0139777\\npromo_True_*_log_beer_floz                        -0.00484056\\nbrand_BUSCH_LIGHT_*_promo_True_*_log_beer_floz     0.067596\\nbrand_COORS_LIGHT_*_promo_True_*_log_beer_floz     0.0411765\\nbrand_MILLER_LITE_*_promo_True_*_log_beer_floz     0.071225\\nbrand_NATURAL_LIGHT_*_promo_True_*_log_beer_floz   0.0779679\\n------------------------------------------------  -----------'"
            ],
            "application/vnd.google.colaboratory.intrinsic+json": {
              "type": "string"
            }
          },
          "metadata": {},
          "execution_count": 26
        }
      ]
    },
    {
      "cell_type": "code",
      "source": [
        "print(dtest_3.select([\"prediction\", \"price_floz\"]).show())"
      ],
      "metadata": {
        "colab": {
          "base_uri": "https://localhost:8080/"
        },
        "id": "XwBDDdy3Dt5I",
        "outputId": "5717754b-2546-4404-a86a-3f3455295080"
      },
      "execution_count": 27,
      "outputs": [
        {
          "output_type": "stream",
          "name": "stdout",
          "text": [
            "+-------------------+------------------+\n",
            "|         prediction|        price_floz|\n",
            "+-------------------+------------------+\n",
            "| -2.783825132146986|0.0659027777777777|\n",
            "| -2.852181232185633|0.0565277777777777|\n",
            "|-2.8567168160602634|           0.06375|\n",
            "|-3.2846580127148473|0.0392222222222222|\n",
            "| -3.367438927218041|0.0388611111111111|\n",
            "| -3.329453847087418|0.0388611111111111|\n",
            "| -3.329453847087418|0.0415833333333333|\n",
            "|-3.1540302069906416|0.0406944444444444|\n",
            "|-2.7676073259050664|0.0620833333333333|\n",
            "|-2.7590519598928407|0.0740277777777777|\n",
            "| -3.001588386461357|0.0485763888888888|\n",
            "|-2.9218829165297717|0.0554861111111111|\n",
            "|-2.8423075221373013|0.0763194444444444|\n",
            "|-2.9592348912579673|           0.04625|\n",
            "|-2.9592348912579673|           0.04625|\n",
            "|-3.0062928141417586|0.0444166666666666|\n",
            "|-3.0062928141417586|0.0471944444444444|\n",
            "|-3.0062928141417586|0.0471944444444444|\n",
            "|-2.9555763843672302|           0.05275|\n",
            "|-2.8847264383485465|0.0588888888888888|\n",
            "+-------------------+------------------+\n",
            "only showing top 20 rows\n",
            "\n",
            "None\n"
          ]
        }
      ]
    },
    {
      "cell_type": "markdown",
      "source": [
        "#### Interpreting Beta Estimates (Model 3)"
      ],
      "metadata": {
        "id": "q4_glIxzD1j1"
      }
    },
    {
      "cell_type": "markdown",
      "source": [
        "* The beta value for market_ALBANY for Model 3 is 0.0253785.\n",
        "* The beta value for market_EXURBAN_NY is 0.0667537.\n",
        "* The beta value for market_RURAL_NEW_YORK is -0.0721252.\n",
        "* The beta value for market_SUBURBAN_NY is 0.0850405.\n",
        "* The beta value for market_SYRACUSE is -0.0509936.\n",
        "* The beta value for market_URBAN_NY is 0.143904.\n",
        "\n",
        "All of the above beta values for different beer markets from Model 3 are very close to zero. This suggests that the predictor variable, market, has little impact on the dependent or target variable, log price per fluid ounce."
      ],
      "metadata": {
        "id": "IbRxIYsBD40E"
      }
    },
    {
      "cell_type": "markdown",
      "source": [
        "## Model Comparison"
      ],
      "metadata": {
        "id": "M0muYEksEG72"
      }
    },
    {
      "cell_type": "markdown",
      "source": [
        "### Beta Estimates"
      ],
      "metadata": {
        "id": "RixLimmTEXZ1"
      }
    },
    {
      "cell_type": "markdown",
      "source": [
        "The beta value for log beer volume in Model 1 is -0.135. The beta value for log beer volume from Model 2 is -0.142. The beta value from Model 3 is -0.136. All three beta values for log beer volume are between -1 and 0. This suggests price inelasticity, meaning a precentage change in log beer volume would lead to less than a percentage change in log beer price per fluid ounce. However, all three beta values are also very close to 0. This shows that the percentage change in beer price is relatively insenstive to a percentage change in beer volume.\n",
        "\n",
        "The beta value for the interaction term between promo and log beer volume from Model 3 is -0.0048. This value is less negative than the beta value for log beer volume, suggesting that the use of promotion decreases price senstivity. In addition, this beta value is even closer to 0, meaning a change in beer volume leads to relatively no change in beer price while using promo."
      ],
      "metadata": {
        "id": "9GWv3dX0EI57"
      }
    },
    {
      "cell_type": "markdown",
      "source": [
        "### Residual Plots"
      ],
      "metadata": {
        "id": "7O9dtKq9ETk3"
      }
    },
    {
      "cell_type": "markdown",
      "source": [
        "#### Model 1"
      ],
      "metadata": {
        "id": "N01hDQQcEaR7"
      }
    },
    {
      "cell_type": "code",
      "source": [
        "# Convert test predictions to Pandas\n",
        "dfpd_1 = dtest_1.select([\"prediction\", \"price_floz\"]).toPandas()\n",
        "dfpd_1[\"residual\"] = dfpd_1[\"price_floz\"] - dfpd_1[\"prediction\"]\n",
        "plt.scatter(dfpd_1[\"prediction\"], dfpd_1[\"residual\"], alpha=0.2, color=\"darkgray\")\n",
        "\n",
        "# Use lowess smoothing for the trend line\n",
        "smoothed = sm.nonparametric.lowess(dfpd_1[\"residual\"], dfpd_1[\"prediction\"])\n",
        "plt.plot(smoothed[:, 0], smoothed[:, 1], color=\"darkblue\")\n",
        "plt.axhline(y=0, color=\"red\", linestyle=\"--\")\n",
        "plt.xlabel(\"Predicted y (Model)\")\n",
        "plt.ylabel(\"Residuals\")\n",
        "plt.title(\"Residual Plot for Model\")\n",
        "plt.show()"
      ],
      "metadata": {
        "colab": {
          "base_uri": "https://localhost:8080/",
          "height": 472
        },
        "id": "hxFDcvfEv00I",
        "outputId": "001897e9-0c40-4156-a5b2-abe500810f27"
      },
      "execution_count": null,
      "outputs": [
        {
          "output_type": "display_data",
          "data": {
            "text/plain": [
              "<Figure size 640x480 with 1 Axes>"
            ],
            "image/png": "[encoded data removed]"
          },
          "metadata": {}
        }
      ]
    },
    {
      "cell_type": "markdown",
      "source": [
        "On the residual plot for Model 1, the residuals are centered around zero, meaning that on average, the predictions are correct. However, the plot shows some curvature, suggesting that there may be some systematic errors."
      ],
      "metadata": {
        "id": "Uh6fcfolEocH"
      }
    },
    {
      "cell_type": "markdown",
      "source": [
        "#### Model 2"
      ],
      "metadata": {
        "id": "OOLEOYgAFSeB"
      }
    },
    {
      "cell_type": "code",
      "source": [
        "# Convert test predictions to Pandas\n",
        "dfpd_2 = dtest_2.select([\"prediction\", \"price_floz\"]).toPandas()\n",
        "dfpd_2[\"residual\"] = dfpd_2[\"price_floz\"] - dfpd_2[\"prediction\"]\n",
        "plt.scatter(dfpd_2[\"prediction\"], dfpd_2[\"residual\"], alpha=0.2, color=\"darkgray\")\n",
        "\n",
        "# Use lowess smoothing for the trend line\n",
        "smoothed = sm.nonparametric.lowess(dfpd_2[\"residual\"], dfpd_2[\"prediction\"])\n",
        "plt.plot(smoothed[:, 0], smoothed[:, 1], color=\"darkblue\")\n",
        "plt.axhline(y=0, color=\"red\", linestyle=\"--\")\n",
        "plt.xlabel(\"Predicted y (Model)\")\n",
        "plt.ylabel(\"Residuals\")\n",
        "plt.title(\"Residual Plot for Model\")\n",
        "plt.show()"
      ],
      "metadata": {
        "colab": {
          "base_uri": "https://localhost:8080/",
          "height": 472
        },
        "id": "XQc2yHFdxcqU",
        "outputId": "4055e2df-6d6e-4504-ea4b-88cbb2106b91"
      },
      "execution_count": null,
      "outputs": [
        {
          "output_type": "display_data",
          "data": {
            "text/plain": [
              "<Figure size 640x480 with 1 Axes>"
            ],
            "image/png": "[encoded data removed]"
          },
          "metadata": {}
        }
      ]
    },
    {
      "cell_type": "markdown",
      "source": [
        "For Model 2, the residuals are centered around 0, like Model 1. This indicates that the model's predictions are correct on average. The plot is curved but has less curvature than Model 1, showing that it may have less systematic errors."
      ],
      "metadata": {
        "id": "vyts48AlFXlo"
      }
    },
    {
      "cell_type": "markdown",
      "source": [
        "#### Model 3"
      ],
      "metadata": {
        "id": "ZJtT2zJFFaIr"
      }
    },
    {
      "cell_type": "code",
      "source": [
        "# Convert test predictions to Pandas\n",
        "dfpd_3 = dtest_3.select([\"prediction\", \"price_floz\"]).toPandas()\n",
        "dfpd_3[\"residual\"] = dfpd_3[\"price_floz\"] - dfpd_3[\"prediction\"]\n",
        "plt.scatter(dfpd_3[\"prediction\"], dfpd_3[\"residual\"], alpha=0.2, color=\"darkgray\")\n",
        "\n",
        "# Use lowess smoothing for the trend line\n",
        "smoothed = sm.nonparametric.lowess(dfpd_3[\"residual\"], dfpd_3[\"prediction\"])\n",
        "plt.plot(smoothed[:, 0], smoothed[:, 1], color=\"darkblue\")\n",
        "plt.axhline(y=0, color=\"red\", linestyle=\"--\")\n",
        "plt.xlabel(\"Predicted y (Model)\")\n",
        "plt.ylabel(\"Residuals\")\n",
        "plt.title(\"Residual Plot for Model\")\n",
        "plt.show()"
      ],
      "metadata": {
        "colab": {
          "base_uri": "https://localhost:8080/",
          "height": 472
        },
        "id": "kfceNlkCxoNl",
        "outputId": "da2e9643-2825-4456-8e1d-9ba9f936b34c"
      },
      "execution_count": null,
      "outputs": [
        {
          "output_type": "display_data",
          "data": {
            "text/plain": [
              "<Figure size 640x480 with 1 Axes>"
            ],
            "image/png": "[encoded data removed]"
          },
          "metadata": {}
        }
      ]
    },
    {
      "cell_type": "markdown",
      "source": [
        "Like Models 1 and 2, the residuals for Model 3 are centered around 0. This shows that the model's predictions are correct on average. The plot is slightly curved but has less curvature than Models 1 and 2, showing that it may have less systematic errors."
      ],
      "metadata": {
        "id": "VQE3BGshFedb"
      }
    },
    {
      "cell_type": "markdown",
      "source": [
        "## Conclusion"
      ],
      "metadata": {
        "id": "1gqUuVB_FhZz"
      }
    },
    {
      "cell_type": "markdown",
      "source": [
        "I prefer Model 3 because its residual plot shows the least amount of possible systematic errors with the predictions still being correct on average. However, the beta values for the beer markets are very close to 0, meaning that the market has little impact on the dependent variable. The market variable could be removed from this model and a different variable could be tested in its place."
      ],
      "metadata": {
        "id": "EiNa9OHwFjAt"
      }
    }
  ]
}