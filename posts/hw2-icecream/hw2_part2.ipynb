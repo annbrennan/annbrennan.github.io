{
  "nbformat": 4,
  "nbformat_minor": 0,
  "metadata": {
    "colab": {
      "provenance": []
    },
    "kernelspec": {
      "name": "python3",
      "display_name": "Python 3"
    },
    "language_info": {
      "name": "python"
    }
  },
  "cells": [
    {
      "cell_type": "markdown",
      "source": [
        "\n",
        "# Ben & Jerry's Ice Cream"
      ],
      "metadata": {
        "id": "m5qN1d_QfFe_"
      }
    },
    {
      "cell_type": "markdown",
      "source": [
        "## Introduction"
      ],
      "metadata": {
        "id": "O0DjIyms43LL"
      }
    },
    {
      "cell_type": "markdown",
      "source": [
        "In this post, we'll take a look at a dataset containing information about household Ben & Jerry's ice cream purchases. First, we'll analyze the data using descriptive statistics, filtering, and group operations. After that, we'll be able to build a simple linear regression model to predict the price per serving of Ben & Jerry's ice cream based on different household characteristics."
      ],
      "metadata": {
        "id": "Y9lGpM_75BCr"
      }
    },
    {
      "cell_type": "markdown",
      "source": [
        "## Loading Packages, UDFS, andDataFrame"
      ],
      "metadata": {
        "id": "2QrCeiCkm-Y5"
      }
    },
    {
      "cell_type": "markdown",
      "source": [
        "Before we get started, we must load the packages and UDFs necessary for our analysis and Linear Regression."
      ],
      "metadata": {
        "id": "B0tj5sy8nBZg"
      }
    },
    {
      "cell_type": "code",
      "source": [
        "import pandas as pd\n",
        "import numpy as np\n",
        "from tabulate import tabulate  # for table summary\n",
        "import scipy.stats as stats\n",
        "from scipy.stats import norm\n",
        "import matplotlib.pyplot as plt\n",
        "import seaborn as sns\n",
        "import statsmodels.api as sm  # for lowess smoothing\n",
        "\n",
        "from pyspark.sql import SparkSession\n",
        "from pyspark.sql.functions import rand, col, pow, mean, avg, when, log, sqrt, exp\n",
        "from pyspark.ml.feature import VectorAssembler\n",
        "from pyspark.ml.regression import LinearRegression, GeneralizedLinearRegression\n",
        "from pyspark.ml.evaluation import BinaryClassificationEvaluator\n",
        "\n",
        "spark = SparkSession.builder.master(\"local[*]\").getOrCreate()"
      ],
      "metadata": {
        "id": "HG2Qm4ClfVOr"
      },
      "execution_count": 21,
      "outputs": []
    },
    {
      "cell_type": "code",
      "source": [
        "def add_dummy_variables(var_name, reference_level, category_order=None):\n",
        "    \"\"\"\n",
        "    Creates dummy variables for the specified column in the global DataFrames dtrain and dtest.\n",
        "    Allows manual setting of category order.\n",
        "\n",
        "    Parameters:\n",
        "        var_name (str): The name of the categorical column (e.g., \"borough_name\").\n",
        "        reference_level (int): Index of the category to be used as the reference (dummy omitted).\n",
        "        category_order (list, optional): List of categories in the desired order. If None, categories are sorted.\n",
        "\n",
        "    Returns:\n",
        "        dummy_cols (list): List of dummy column names excluding the reference category.\n",
        "        ref_category (str): The category chosen as the reference.\n",
        "    \"\"\"\n",
        "    global dtrain, dtest\n",
        "\n",
        "    # Get distinct categories from the training set.\n",
        "    categories = dtrain.select(var_name).distinct().rdd.flatMap(lambda x: x).collect()\n",
        "\n",
        "    # Convert booleans to strings if present.\n",
        "    categories = [str(c) if isinstance(c, bool) else c for c in categories]\n",
        "\n",
        "    # Use manual category order if provided; otherwise, sort categories.\n",
        "    if category_order:\n",
        "        # Ensure all categories are present in the user-defined order\n",
        "        missing = set(categories) - set(category_order)\n",
        "        if missing:\n",
        "            raise ValueError(f\"These categories are missing from your custom order: {missing}\")\n",
        "        categories = category_order\n",
        "    else:\n",
        "        categories = sorted(categories)\n",
        "\n",
        "    # Validate reference_level\n",
        "    if reference_level < 0 or reference_level >= len(categories):\n",
        "        raise ValueError(f\"reference_level must be between 0 and {len(categories) - 1}\")\n",
        "\n",
        "    # Define the reference category\n",
        "    ref_category = categories[reference_level]\n",
        "    print(\"Reference category (dummy omitted):\", ref_category)\n",
        "\n",
        "    # Create dummy variables for all categories\n",
        "    for cat in categories:\n",
        "        dummy_col_name = var_name + \"_\" + str(cat).replace(\" \", \"_\")\n",
        "        dtrain = dtrain.withColumn(dummy_col_name, when(col(var_name) == cat, 1).otherwise(0))\n",
        "        dtest = dtest.withColumn(dummy_col_name, when(col(var_name) == cat, 1).otherwise(0))\n",
        "\n",
        "    # List of dummy columns, excluding the reference category\n",
        "    dummy_cols = [var_name + \"_\" + str(cat).replace(\" \", \"_\") for cat in categories if cat != ref_category]\n",
        "\n",
        "    return dummy_cols, ref_category\n",
        "\n",
        "\n",
        "# Example usage without category_order:\n",
        "# dummy_cols_year, ref_category_year = add_dummy_variables('year', 0)\n",
        "\n",
        "# Example usage with category_order:\n",
        "# custom_order_wkday = ['sunday', 'monday', 'tuesday', 'wednesday', 'thursday', 'friday', 'saturday']\n",
        "# dummy_cols_wkday, ref_category_wkday = add_dummy_variables('wkday', reference_level=0, category_order = custom_order_wkday)\n"
      ],
      "metadata": {
        "id": "KTuWQILf_AQl"
      },
      "execution_count": 53,
      "outputs": []
    },
    {
      "cell_type": "code",
      "source": [
        "def regression_table(model, assembler):\n",
        "    \"\"\"\n",
        "    Creates a formatted regression table from a fitted LinearRegression model and its VectorAssembler,\n",
        "    and inserts a dashed horizontal line after the Intercept row. The table includes separate columns\n",
        "    for the 95% confidence interval lower and upper bounds for each coefficient (computed at the 5% significance level)\n",
        "    and an \"Observations\" row (using model.summary.numInstances) above the R² row.\n",
        "    The RMSE row is placed as the last row.\n",
        "\n",
        "    The columns are ordered as:\n",
        "        Metric | Value | Significance | Std. Error | p-value | 95% CI Lower | 95% CI Upper\n",
        "\n",
        "    For the \"Value\", \"Std. Error\", \"95% CI Lower\", and \"95% CI Upper\" columns, commas are inserted every three digits,\n",
        "    with 3 decimal places (except for Observations which is formatted as an integer with commas).\n",
        "\n",
        "    Parameters:\n",
        "        model: A fitted LinearRegression model (with a .summary attribute).\n",
        "        assembler: The VectorAssembler used to assemble the features for the model.\n",
        "\n",
        "    Returns:\n",
        "        A formatted string containing the regression table.\n",
        "    \"\"\"\n",
        "    # Extract coefficients and standard errors as NumPy arrays\n",
        "    coeffs = model.coefficients.toArray()\n",
        "\n",
        "    std_errors_all = np.array(model.summary.coefficientStandardErrors)\n",
        "\n",
        "    # Check if the intercept's standard error is included (one extra element)\n",
        "    if len(std_errors_all) == len(coeffs) + 1:\n",
        "        intercept_se = std_errors_all[0]\n",
        "        std_errors = std_errors_all[1:]\n",
        "    else:\n",
        "        intercept_se = None\n",
        "        std_errors = std_errors_all\n",
        "\n",
        "    # Compute t-statistics for feature coefficients (t = beta / SE(beta))\n",
        "    # t_stats = coeffs / std_errors\n",
        "    t_stats = model.summary.tValues\n",
        "\n",
        "    # Degrees of freedom: number of instances minus number of predictors minus 1 (for intercept)\n",
        "    df = model.summary.numInstances - len(coeffs) - 1\n",
        "\n",
        "    # Compute the t-critical value for a 95% confidence interval (two-tailed, 5% significance)\n",
        "    t_critical = stats.t.ppf(0.975, df)\n",
        "\n",
        "    # Compute two-tailed p-values for each feature coefficient\n",
        "    # p_values = [2 * (1 - stats.t.cdf(np.abs(t), df)) for t in t_stats]\n",
        "    p_values = model.summary.pValues\n",
        "\n",
        "    # Function to assign significance stars based on p-value\n",
        "    def significance_stars(p):\n",
        "        if p < 0.01:\n",
        "            return \"***\"\n",
        "        elif p < 0.05:\n",
        "            return \"**\"\n",
        "        elif p < 0.1:\n",
        "            return \"*\"\n",
        "        else:\n",
        "            return \"\"\n",
        "\n",
        "    # Build the table rows.\n",
        "    # Order: Metric, Value, Significance, Std. Error, p-value, 95% CI Lower, 95% CI Upper.\n",
        "    table = []\n",
        "    for feature, beta, se, p in zip(assembler.getInputCols(), coeffs, std_errors, p_values):\n",
        "        ci_lower = beta - t_critical * se\n",
        "        ci_upper = beta + t_critical * se\n",
        "        table.append([\n",
        "            \"Beta: \" + feature,       # Metric name\n",
        "            beta,                     # Beta estimate (Value)\n",
        "            significance_stars(p),    # Significance stars\n",
        "            se,                       # Standard error\n",
        "            p,                        # p-value\n",
        "            ci_lower,                 # 95% CI lower bound\n",
        "            ci_upper                  # 95% CI upper bound\n",
        "        ])\n",
        "\n",
        "    # Compute and add the intercept row with its SE, p-value, significance, and CI (if available)\n",
        "    if intercept_se is not None:\n",
        "        intercept_t = model.intercept / intercept_se\n",
        "        intercept_p = 2 * (1 - stats.t.cdf(np.abs(intercept_t), df))\n",
        "        intercept_sig = significance_stars(intercept_p)\n",
        "        ci_intercept_lower = model.intercept - t_critical * intercept_se\n",
        "        ci_intercept_upper = model.intercept + t_critical * intercept_se\n",
        "    else:\n",
        "        intercept_se = \"\"\n",
        "        intercept_p = \"\"\n",
        "        intercept_sig = \"\"\n",
        "        ci_intercept_lower = \"\"\n",
        "        ci_intercept_upper = \"\"\n",
        "\n",
        "    table.append([\n",
        "        \"Intercept\",\n",
        "        model.intercept,\n",
        "        intercept_sig,\n",
        "        intercept_se,\n",
        "        intercept_p,\n",
        "        ci_intercept_lower,\n",
        "        ci_intercept_upper\n",
        "    ])\n",
        "\n",
        "    # Append overall model metrics:\n",
        "    # Insert an Observations row using model.summary.numInstances,\n",
        "    # then an R² row, and finally the RMSE row as the last row.\n",
        "    table.append([\"Observations\", model.summary.numInstances, \"\", \"\", \"\", \"\", \"\"])\n",
        "    table.append([\"R²\", model.summary.r2, \"\", \"\", \"\", \"\", \"\"])\n",
        "    table.append([\"RMSE\", model.summary.rootMeanSquaredError, \"\", \"\", \"\", \"\", \"\"])\n",
        "\n",
        "    # Format the table.\n",
        "    # For the \"Value\" (index 1), \"Std. Error\" (index 3), \"95% CI Lower\" (index 5), and \"95% CI Upper\" (index 6) columns,\n",
        "    # format with commas and 3 decimal places, except for Observations which should be an integer with commas.\n",
        "    # For the p-value (index 4), format to 3 decimal places.\n",
        "    formatted_table = []\n",
        "    for row in table:\n",
        "        formatted_row = []\n",
        "        for i, item in enumerate(row):\n",
        "            if row[0] == \"Observations\" and i == 1 and isinstance(item, (int, float, np.floating)) and item != \"\":\n",
        "                # Format Observations as integer with commas, no decimals.\n",
        "                formatted_row.append(f\"{int(item):,}\")\n",
        "            elif isinstance(item, (int, float, np.floating)) and item != \"\":\n",
        "                if i in [1, 3, 5, 6]:\n",
        "                    formatted_row.append(f\"{item:,.3f}\")\n",
        "                elif i == 4:\n",
        "                    formatted_row.append(f\"{item:.3f}\")\n",
        "                else:\n",
        "                    formatted_row.append(f\"{item:.3f}\")\n",
        "            else:\n",
        "                formatted_row.append(item)\n",
        "        formatted_table.append(formatted_row)\n",
        "\n",
        "    # Generate the table string using tabulate.\n",
        "    table_str = tabulate(\n",
        "        formatted_table,\n",
        "        headers=[\"Metric\", \"Value\", \"Sig.\", \"Std. Error\", \"p-value\", \"95% CI Lower\", \"95% CI Upper\"],\n",
        "        tablefmt=\"pretty\",\n",
        "        colalign=(\"left\", \"right\", \"center\", \"right\", \"right\", \"right\", \"right\")\n",
        "    )\n",
        "\n",
        "    # Insert a dashed line after the Intercept row for clarity.\n",
        "    lines = table_str.split(\"\\n\")\n",
        "    dash_line = '-' * len(lines[0])\n",
        "    for i, line in enumerate(lines):\n",
        "        if \"Intercept\" in line and not line.strip().startswith('+'):\n",
        "            lines.insert(i+1, dash_line)\n",
        "            break\n",
        "\n",
        "    return \"\\n\".join(lines)"
      ],
      "metadata": {
        "id": "7DE-sxLatiB2"
      },
      "execution_count": 52,
      "outputs": []
    },
    {
      "cell_type": "code",
      "source": [
        "ice_cream = pd.read_csv('https://bcdanl.github.io/data/ben-and-jerry-cleaned.csv')"
      ],
      "metadata": {
        "id": "Xt61_qQ1fQKS"
      },
      "execution_count": 38,
      "outputs": []
    },
    {
      "cell_type": "code",
      "source": [
        "ice_cream"
      ],
      "metadata": {
        "colab": {
          "base_uri": "https://localhost:8080/",
          "height": 565
        },
        "id": "xHNrmzwlhn2s",
        "outputId": "47ffa381-32e2-4703-a559-e2a8c4cfc068"
      },
      "execution_count": 23,
      "outputs": [
        {
          "output_type": "execute_result",
          "data": {
            "text/plain": [
              "       priceper1       flavor_descr size1_descr  household_id  \\\n",
              "0           3.41        CAKE BATTER   16.0 MLOZ       2001456   \n",
              "1           3.50  VAN CARAMEL FUDGE   16.0 MLOZ       2001456   \n",
              "2           3.50  VAN CARAMEL FUDGE   16.0 MLOZ       2001456   \n",
              "3           3.00          W-N-C-P-C   16.0 MLOZ       2001637   \n",
              "4           3.99    AMERICONE DREAM   16.0 MLOZ       2002791   \n",
              "...          ...                ...         ...           ...   \n",
              "21969       3.34    DUBLIN MUDSLIDE   16.0 MLOZ       9171249   \n",
              "21970       1.99         PHISH FOOD   16.0 MLOZ       9171249   \n",
              "21971       4.99                VAN   16.0 MLOZ       9176214   \n",
              "21972       3.50                VAN   16.0 MLOZ       9176214   \n",
              "21973       3.50                VAN   16.0 MLOZ       9176214   \n",
              "\n",
              "       household_income  household_size  usecoup  couponper1   region  \\\n",
              "0                130000               2     True         0.5  Central   \n",
              "1                130000               2    False         0.0  Central   \n",
              "2                130000               2    False         0.0  Central   \n",
              "3                 70000               1    False         0.0     West   \n",
              "4                130000               3    False         0.0    South   \n",
              "...                 ...             ...      ...         ...      ...   \n",
              "21969             80000               4    False         0.0    South   \n",
              "21970             80000               4    False         0.0    South   \n",
              "21971             80000               1    False         0.0     East   \n",
              "21972             80000               1    False         0.0     East   \n",
              "21973             80000               1    False         0.0     East   \n",
              "\n",
              "       married   race  hispanic_origin  microwave  dishwasher    sfh  \\\n",
              "0        False  white            False       True       False  False   \n",
              "1        False  white            False       True       False  False   \n",
              "2        False  white            False       True       False  False   \n",
              "3        False  white            False       True        True   True   \n",
              "4         True  white            False       True        True   True   \n",
              "...        ...    ...              ...        ...         ...    ...   \n",
              "21969     True  white            False       True        True   True   \n",
              "21970     True  white            False       True        True   True   \n",
              "21971    False  white            False       True       False  False   \n",
              "21972    False  white            False       True       False  False   \n",
              "21973    False  white            False       True       False  False   \n",
              "\n",
              "       internet tvcable  \n",
              "0          True    True  \n",
              "1          True    True  \n",
              "2          True    True  \n",
              "3         False    True  \n",
              "4          True    True  \n",
              "...         ...     ...  \n",
              "21969      True    True  \n",
              "21970      True    True  \n",
              "21971      True    True  \n",
              "21972      True    True  \n",
              "21973      True    True  \n",
              "\n",
              "[21974 rows x 17 columns]"
            ],
            "text/html": [
              "\n",
              "  <div id=\"df-01aa0899-9d7c-448a-83d5-0fabd2b74eee\" class=\"colab-df-container\">\n",
              "    <div>\n",
              "<style scoped>\n",
              "    .dataframe tbody tr th:only-of-type {\n",
              "        vertical-align: middle;\n",
              "    }\n",
              "\n",
              "    .dataframe tbody tr th {\n",
              "        vertical-align: top;\n",
              "    }\n",
              "\n",
              "    .dataframe thead th {\n",
              "        text-align: right;\n",
              "    }\n",
              "</style>\n",
              "<table border=\"1\" class=\"dataframe\">\n",
              "  <thead>\n",
              "    <tr style=\"text-align: right;\">\n",
              "      <th></th>\n",
              "      <th>priceper1</th>\n",
              "      <th>flavor_descr</th>\n",
              "      <th>size1_descr</th>\n",
              "      <th>household_id</th>\n",
              "      <th>household_income</th>\n",
              "      <th>household_size</th>\n",
              "      <th>usecoup</th>\n",
              "      <th>couponper1</th>\n",
              "      <th>region</th>\n",
              "      <th>married</th>\n",
              "      <th>race</th>\n",
              "      <th>hispanic_origin</th>\n",
              "      <th>microwave</th>\n",
              "      <th>dishwasher</th>\n",
              "      <th>sfh</th>\n",
              "      <th>internet</th>\n",
              "      <th>tvcable</th>\n",
              "    </tr>\n",
              "  </thead>\n",
              "  <tbody>\n",
              "    <tr>\n",
              "      <th>0</th>\n",
              "      <td>3.41</td>\n",
              "      <td>CAKE BATTER</td>\n",
              "      <td>16.0 MLOZ</td>\n",
              "      <td>2001456</td>\n",
              "      <td>130000</td>\n",
              "      <td>2</td>\n",
              "      <td>True</td>\n",
              "      <td>0.5</td>\n",
              "      <td>Central</td>\n",
              "      <td>False</td>\n",
              "      <td>white</td>\n",
              "      <td>False</td>\n",
              "      <td>True</td>\n",
              "      <td>False</td>\n",
              "      <td>False</td>\n",
              "      <td>True</td>\n",
              "      <td>True</td>\n",
              "    </tr>\n",
              "    <tr>\n",
              "      <th>1</th>\n",
              "      <td>3.50</td>\n",
              "      <td>VAN CARAMEL FUDGE</td>\n",
              "      <td>16.0 MLOZ</td>\n",
              "      <td>2001456</td>\n",
              "      <td>130000</td>\n",
              "      <td>2</td>\n",
              "      <td>False</td>\n",
              "      <td>0.0</td>\n",
              "      <td>Central</td>\n",
              "      <td>False</td>\n",
              "      <td>white</td>\n",
              "      <td>False</td>\n",
              "      <td>True</td>\n",
              "      <td>False</td>\n",
              "      <td>False</td>\n",
              "      <td>True</td>\n",
              "      <td>True</td>\n",
              "    </tr>\n",
              "    <tr>\n",
              "      <th>2</th>\n",
              "      <td>3.50</td>\n",
              "      <td>VAN CARAMEL FUDGE</td>\n",
              "      <td>16.0 MLOZ</td>\n",
              "      <td>2001456</td>\n",
              "      <td>130000</td>\n",
              "      <td>2</td>\n",
              "      <td>False</td>\n",
              "      <td>0.0</td>\n",
              "      <td>Central</td>\n",
              "      <td>False</td>\n",
              "      <td>white</td>\n",
              "      <td>False</td>\n",
              "      <td>True</td>\n",
              "      <td>False</td>\n",
              "      <td>False</td>\n",
              "      <td>True</td>\n",
              "      <td>True</td>\n",
              "    </tr>\n",
              "    <tr>\n",
              "      <th>3</th>\n",
              "      <td>3.00</td>\n",
              "      <td>W-N-C-P-C</td>\n",
              "      <td>16.0 MLOZ</td>\n",
              "      <td>2001637</td>\n",
              "      <td>70000</td>\n",
              "      <td>1</td>\n",
              "      <td>False</td>\n",
              "      <td>0.0</td>\n",
              "      <td>West</td>\n",
              "      <td>False</td>\n",
              "      <td>white</td>\n",
              "      <td>False</td>\n",
              "      <td>True</td>\n",
              "      <td>True</td>\n",
              "      <td>True</td>\n",
              "      <td>False</td>\n",
              "      <td>True</td>\n",
              "    </tr>\n",
              "    <tr>\n",
              "      <th>4</th>\n",
              "      <td>3.99</td>\n",
              "      <td>AMERICONE DREAM</td>\n",
              "      <td>16.0 MLOZ</td>\n",
              "      <td>2002791</td>\n",
              "      <td>130000</td>\n",
              "      <td>3</td>\n",
              "      <td>False</td>\n",
              "      <td>0.0</td>\n",
              "      <td>South</td>\n",
              "      <td>True</td>\n",
              "      <td>white</td>\n",
              "      <td>False</td>\n",
              "      <td>True</td>\n",
              "      <td>True</td>\n",
              "      <td>True</td>\n",
              "      <td>True</td>\n",
              "      <td>True</td>\n",
              "    </tr>\n",
              "    <tr>\n",
              "      <th>...</th>\n",
              "      <td>...</td>\n",
              "      <td>...</td>\n",
              "      <td>...</td>\n",
              "      <td>...</td>\n",
              "      <td>...</td>\n",
              "      <td>...</td>\n",
              "      <td>...</td>\n",
              "      <td>...</td>\n",
              "      <td>...</td>\n",
              "      <td>...</td>\n",
              "      <td>...</td>\n",
              "      <td>...</td>\n",
              "      <td>...</td>\n",
              "      <td>...</td>\n",
              "      <td>...</td>\n",
              "      <td>...</td>\n",
              "      <td>...</td>\n",
              "    </tr>\n",
              "    <tr>\n",
              "      <th>21969</th>\n",
              "      <td>3.34</td>\n",
              "      <td>DUBLIN MUDSLIDE</td>\n",
              "      <td>16.0 MLOZ</td>\n",
              "      <td>9171249</td>\n",
              "      <td>80000</td>\n",
              "      <td>4</td>\n",
              "      <td>False</td>\n",
              "      <td>0.0</td>\n",
              "      <td>South</td>\n",
              "      <td>True</td>\n",
              "      <td>white</td>\n",
              "      <td>False</td>\n",
              "      <td>True</td>\n",
              "      <td>True</td>\n",
              "      <td>True</td>\n",
              "      <td>True</td>\n",
              "      <td>True</td>\n",
              "    </tr>\n",
              "    <tr>\n",
              "      <th>21970</th>\n",
              "      <td>1.99</td>\n",
              "      <td>PHISH FOOD</td>\n",
              "      <td>16.0 MLOZ</td>\n",
              "      <td>9171249</td>\n",
              "      <td>80000</td>\n",
              "      <td>4</td>\n",
              "      <td>False</td>\n",
              "      <td>0.0</td>\n",
              "      <td>South</td>\n",
              "      <td>True</td>\n",
              "      <td>white</td>\n",
              "      <td>False</td>\n",
              "      <td>True</td>\n",
              "      <td>True</td>\n",
              "      <td>True</td>\n",
              "      <td>True</td>\n",
              "      <td>True</td>\n",
              "    </tr>\n",
              "    <tr>\n",
              "      <th>21971</th>\n",
              "      <td>4.99</td>\n",
              "      <td>VAN</td>\n",
              "      <td>16.0 MLOZ</td>\n",
              "      <td>9176214</td>\n",
              "      <td>80000</td>\n",
              "      <td>1</td>\n",
              "      <td>False</td>\n",
              "      <td>0.0</td>\n",
              "      <td>East</td>\n",
              "      <td>False</td>\n",
              "      <td>white</td>\n",
              "      <td>False</td>\n",
              "      <td>True</td>\n",
              "      <td>False</td>\n",
              "      <td>False</td>\n",
              "      <td>True</td>\n",
              "      <td>True</td>\n",
              "    </tr>\n",
              "    <tr>\n",
              "      <th>21972</th>\n",
              "      <td>3.50</td>\n",
              "      <td>VAN</td>\n",
              "      <td>16.0 MLOZ</td>\n",
              "      <td>9176214</td>\n",
              "      <td>80000</td>\n",
              "      <td>1</td>\n",
              "      <td>False</td>\n",
              "      <td>0.0</td>\n",
              "      <td>East</td>\n",
              "      <td>False</td>\n",
              "      <td>white</td>\n",
              "      <td>False</td>\n",
              "      <td>True</td>\n",
              "      <td>False</td>\n",
              "      <td>False</td>\n",
              "      <td>True</td>\n",
              "      <td>True</td>\n",
              "    </tr>\n",
              "    <tr>\n",
              "      <th>21973</th>\n",
              "      <td>3.50</td>\n",
              "      <td>VAN</td>\n",
              "      <td>16.0 MLOZ</td>\n",
              "      <td>9176214</td>\n",
              "      <td>80000</td>\n",
              "      <td>1</td>\n",
              "      <td>False</td>\n",
              "      <td>0.0</td>\n",
              "      <td>East</td>\n",
              "      <td>False</td>\n",
              "      <td>white</td>\n",
              "      <td>False</td>\n",
              "      <td>True</td>\n",
              "      <td>False</td>\n",
              "      <td>False</td>\n",
              "      <td>True</td>\n",
              "      <td>True</td>\n",
              "    </tr>\n",
              "  </tbody>\n",
              "</table>\n",
              "<p>21974 rows × 17 columns</p>\n",
              "</div>\n",
              "    <div class=\"colab-df-buttons\">\n",
              "\n",
              "  <div class=\"colab-df-container\">\n",
              "    <button class=\"colab-df-convert\" onclick=\"convertToInteractive('df-01aa0899-9d7c-448a-83d5-0fabd2b74eee')\"\n",
              "            title=\"Convert this dataframe to an interactive table.\"\n",
              "            style=\"display:none;\">\n",
              "\n",
              "  <svg xmlns=\"http://www.w3.org/2000/svg\" height=\"24px\" viewBox=\"0 -960 960 960\">\n",
              "    <path d=\"M120-120v-720h720v720H120Zm60-500h600v-160H180v160Zm220 220h160v-160H400v160Zm0 220h160v-160H400v160ZM180-400h160v-160H180v160Zm440 0h160v-160H620v160ZM180-180h160v-160H180v160Zm440 0h160v-160H620v160Z\"/>\n",
              "  </svg>\n",
              "    </button>\n",
              "\n",
              "  <style>\n",
              "    .colab-df-container {\n",
              "      display:flex;\n",
              "      gap: 12px;\n",
              "    }\n",
              "\n",
              "    .colab-df-convert {\n",
              "      background-color: #E8F0FE;\n",
              "      border: none;\n",
              "      border-radius: 50%;\n",
              "      cursor: pointer;\n",
              "      display: none;\n",
              "      fill: #1967D2;\n",
              "      height: 32px;\n",
              "      padding: 0 0 0 0;\n",
              "      width: 32px;\n",
              "    }\n",
              "\n",
              "    .colab-df-convert:hover {\n",
              "      background-color: #E2EBFA;\n",
              "      box-shadow: 0px 1px 2px rgba(60, 64, 67, 0.3), 0px 1px 3px 1px rgba(60, 64, 67, 0.15);\n",
              "      fill: #174EA6;\n",
              "    }\n",
              "\n",
              "    .colab-df-buttons div {\n",
              "      margin-bottom: 4px;\n",
              "    }\n",
              "\n",
              "    [theme=dark] .colab-df-convert {\n",
              "      background-color: #3B4455;\n",
              "      fill: #D2E3FC;\n",
              "    }\n",
              "\n",
              "    [theme=dark] .colab-df-convert:hover {\n",
              "      background-color: #434B5C;\n",
              "      box-shadow: 0px 1px 3px 1px rgba(0, 0, 0, 0.15);\n",
              "      filter: drop-shadow(0px 1px 2px rgba(0, 0, 0, 0.3));\n",
              "      fill: #FFFFFF;\n",
              "    }\n",
              "  </style>\n",
              "\n",
              "    <script>\n",
              "      const buttonEl =\n",
              "        document.querySelector('#df-01aa0899-9d7c-448a-83d5-0fabd2b74eee button.colab-df-convert');\n",
              "      buttonEl.style.display =\n",
              "        google.colab.kernel.accessAllowed ? 'block' : 'none';\n",
              "\n",
              "      async function convertToInteractive(key) {\n",
              "        const element = document.querySelector('#df-01aa0899-9d7c-448a-83d5-0fabd2b74eee');\n",
              "        const dataTable =\n",
              "          await google.colab.kernel.invokeFunction('convertToInteractive',\n",
              "                                                    [key], {});\n",
              "        if (!dataTable) return;\n",
              "\n",
              "        const docLinkHtml = 'Like what you see? Visit the ' +\n",
              "          '<a target=\"_blank\" href=https://colab.research.google.com/notebooks/data_table.ipynb>data table notebook</a>'\n",
              "          + ' to learn more about interactive tables.';\n",
              "        element.innerHTML = '';\n",
              "        dataTable['output_type'] = 'display_data';\n",
              "        await google.colab.output.renderOutput(dataTable, element);\n",
              "        const docLink = document.createElement('div');\n",
              "        docLink.innerHTML = docLinkHtml;\n",
              "        element.appendChild(docLink);\n",
              "      }\n",
              "    </script>\n",
              "  </div>\n",
              "\n",
              "\n",
              "<div id=\"df-6c59ab7b-1c4a-46c6-bed9-1160c978a341\">\n",
              "  <button class=\"colab-df-quickchart\" onclick=\"quickchart('df-6c59ab7b-1c4a-46c6-bed9-1160c978a341')\"\n",
              "            title=\"Suggest charts\"\n",
              "            style=\"display:none;\">\n",
              "\n",
              "<svg xmlns=\"http://www.w3.org/2000/svg\" height=\"24px\"viewBox=\"0 0 24 24\"\n",
              "     width=\"24px\">\n",
              "    <g>\n",
              "        <path d=\"M19 3H5c-1.1 0-2 .9-2 2v14c0 1.1.9 2 2 2h14c1.1 0 2-.9 2-2V5c0-1.1-.9-2-2-2zM9 17H7v-7h2v7zm4 0h-2V7h2v10zm4 0h-2v-4h2v4z\"/>\n",
              "    </g>\n",
              "</svg>\n",
              "  </button>\n",
              "\n",
              "<style>\n",
              "  .colab-df-quickchart {\n",
              "      --bg-color: #E8F0FE;\n",
              "      --fill-color: #1967D2;\n",
              "      --hover-bg-color: #E2EBFA;\n",
              "      --hover-fill-color: #174EA6;\n",
              "      --disabled-fill-color: #AAA;\n",
              "      --disabled-bg-color: #DDD;\n",
              "  }\n",
              "\n",
              "  [theme=dark] .colab-df-quickchart {\n",
              "      --bg-color: #3B4455;\n",
              "      --fill-color: #D2E3FC;\n",
              "      --hover-bg-color: #434B5C;\n",
              "      --hover-fill-color: #FFFFFF;\n",
              "      --disabled-bg-color: #3B4455;\n",
              "      --disabled-fill-color: #666;\n",
              "  }\n",
              "\n",
              "  .colab-df-quickchart {\n",
              "    background-color: var(--bg-color);\n",
              "    border: none;\n",
              "    border-radius: 50%;\n",
              "    cursor: pointer;\n",
              "    display: none;\n",
              "    fill: var(--fill-color);\n",
              "    height: 32px;\n",
              "    padding: 0;\n",
              "    width: 32px;\n",
              "  }\n",
              "\n",
              "  .colab-df-quickchart:hover {\n",
              "    background-color: var(--hover-bg-color);\n",
              "    box-shadow: 0 1px 2px rgba(60, 64, 67, 0.3), 0 1px 3px 1px rgba(60, 64, 67, 0.15);\n",
              "    fill: var(--button-hover-fill-color);\n",
              "  }\n",
              "\n",
              "  .colab-df-quickchart-complete:disabled,\n",
              "  .colab-df-quickchart-complete:disabled:hover {\n",
              "    background-color: var(--disabled-bg-color);\n",
              "    fill: var(--disabled-fill-color);\n",
              "    box-shadow: none;\n",
              "  }\n",
              "\n",
              "  .colab-df-spinner {\n",
              "    border: 2px solid var(--fill-color);\n",
              "    border-color: transparent;\n",
              "    border-bottom-color: var(--fill-color);\n",
              "    animation:\n",
              "      spin 1s steps(1) infinite;\n",
              "  }\n",
              "\n",
              "  @keyframes spin {\n",
              "    0% {\n",
              "      border-color: transparent;\n",
              "      border-bottom-color: var(--fill-color);\n",
              "      border-left-color: var(--fill-color);\n",
              "    }\n",
              "    20% {\n",
              "      border-color: transparent;\n",
              "      border-left-color: var(--fill-color);\n",
              "      border-top-color: var(--fill-color);\n",
              "    }\n",
              "    30% {\n",
              "      border-color: transparent;\n",
              "      border-left-color: var(--fill-color);\n",
              "      border-top-color: var(--fill-color);\n",
              "      border-right-color: var(--fill-color);\n",
              "    }\n",
              "    40% {\n",
              "      border-color: transparent;\n",
              "      border-right-color: var(--fill-color);\n",
              "      border-top-color: var(--fill-color);\n",
              "    }\n",
              "    60% {\n",
              "      border-color: transparent;\n",
              "      border-right-color: var(--fill-color);\n",
              "    }\n",
              "    80% {\n",
              "      border-color: transparent;\n",
              "      border-right-color: var(--fill-color);\n",
              "      border-bottom-color: var(--fill-color);\n",
              "    }\n",
              "    90% {\n",
              "      border-color: transparent;\n",
              "      border-bottom-color: var(--fill-color);\n",
              "    }\n",
              "  }\n",
              "</style>\n",
              "\n",
              "  <script>\n",
              "    async function quickchart(key) {\n",
              "      const quickchartButtonEl =\n",
              "        document.querySelector('#' + key + ' button');\n",
              "      quickchartButtonEl.disabled = true;  // To prevent multiple clicks.\n",
              "      quickchartButtonEl.classList.add('colab-df-spinner');\n",
              "      try {\n",
              "        const charts = await google.colab.kernel.invokeFunction(\n",
              "            'suggestCharts', [key], {});\n",
              "      } catch (error) {\n",
              "        console.error('Error during call to suggestCharts:', error);\n",
              "      }\n",
              "      quickchartButtonEl.classList.remove('colab-df-spinner');\n",
              "      quickchartButtonEl.classList.add('colab-df-quickchart-complete');\n",
              "    }\n",
              "    (() => {\n",
              "      let quickchartButtonEl =\n",
              "        document.querySelector('#df-6c59ab7b-1c4a-46c6-bed9-1160c978a341 button');\n",
              "      quickchartButtonEl.style.display =\n",
              "        google.colab.kernel.accessAllowed ? 'block' : 'none';\n",
              "    })();\n",
              "  </script>\n",
              "</div>\n",
              "\n",
              "  <div id=\"id_f79ee2d4-286b-46ca-8d4e-aa41292d36b2\">\n",
              "    <style>\n",
              "      .colab-df-generate {\n",
              "        background-color: #E8F0FE;\n",
              "        border: none;\n",
              "        border-radius: 50%;\n",
              "        cursor: pointer;\n",
              "        display: none;\n",
              "        fill: #1967D2;\n",
              "        height: 32px;\n",
              "        padding: 0 0 0 0;\n",
              "        width: 32px;\n",
              "      }\n",
              "\n",
              "      .colab-df-generate:hover {\n",
              "        background-color: #E2EBFA;\n",
              "        box-shadow: 0px 1px 2px rgba(60, 64, 67, 0.3), 0px 1px 3px 1px rgba(60, 64, 67, 0.15);\n",
              "        fill: #174EA6;\n",
              "      }\n",
              "\n",
              "      [theme=dark] .colab-df-generate {\n",
              "        background-color: #3B4455;\n",
              "        fill: #D2E3FC;\n",
              "      }\n",
              "\n",
              "      [theme=dark] .colab-df-generate:hover {\n",
              "        background-color: #434B5C;\n",
              "        box-shadow: 0px 1px 3px 1px rgba(0, 0, 0, 0.15);\n",
              "        filter: drop-shadow(0px 1px 2px rgba(0, 0, 0, 0.3));\n",
              "        fill: #FFFFFF;\n",
              "      }\n",
              "    </style>\n",
              "    <button class=\"colab-df-generate\" onclick=\"generateWithVariable('ice_cream')\"\n",
              "            title=\"Generate code using this dataframe.\"\n",
              "            style=\"display:none;\">\n",
              "\n",
              "  <svg xmlns=\"http://www.w3.org/2000/svg\" height=\"24px\"viewBox=\"0 0 24 24\"\n",
              "       width=\"24px\">\n",
              "    <path d=\"M7,19H8.4L18.45,9,17,7.55,7,17.6ZM5,21V16.75L18.45,3.32a2,2,0,0,1,2.83,0l1.4,1.43a1.91,1.91,0,0,1,.58,1.4,1.91,1.91,0,0,1-.58,1.4L9.25,21ZM18.45,9,17,7.55Zm-12,3A5.31,5.31,0,0,0,4.9,8.1,5.31,5.31,0,0,0,1,6.5,5.31,5.31,0,0,0,4.9,4.9,5.31,5.31,0,0,0,6.5,1,5.31,5.31,0,0,0,8.1,4.9,5.31,5.31,0,0,0,12,6.5,5.46,5.46,0,0,0,6.5,12Z\"/>\n",
              "  </svg>\n",
              "    </button>\n",
              "    <script>\n",
              "      (() => {\n",
              "      const buttonEl =\n",
              "        document.querySelector('#id_f79ee2d4-286b-46ca-8d4e-aa41292d36b2 button.colab-df-generate');\n",
              "      buttonEl.style.display =\n",
              "        google.colab.kernel.accessAllowed ? 'block' : 'none';\n",
              "\n",
              "      buttonEl.onclick = () => {\n",
              "        google.colab.notebook.generateWithVariable('ice_cream');\n",
              "      }\n",
              "      })();\n",
              "    </script>\n",
              "  </div>\n",
              "\n",
              "    </div>\n",
              "  </div>\n"
            ],
            "application/vnd.google.colaboratory.intrinsic+json": {
              "type": "dataframe",
              "variable_name": "ice_cream",
              "summary": "{\n  \"name\": \"ice_cream\",\n  \"rows\": 21974,\n  \"fields\": [\n    {\n      \"column\": \"priceper1\",\n      \"properties\": {\n        \"dtype\": \"number\",\n        \"std\": 0.6656263892401857,\n        \"min\": 0.0,\n        \"max\": 9.48,\n        \"num_unique_values\": 425,\n        \"samples\": [\n          4.44,\n          2.77,\n          6.5\n        ],\n        \"semantic_type\": \"\",\n        \"description\": \"\"\n      }\n    },\n    {\n      \"column\": \"flavor_descr\",\n      \"properties\": {\n        \"dtype\": \"category\",\n        \"num_unique_values\": 50,\n        \"samples\": [\n          \"COFFEE\",\n          \"DUBLIN MUDSLIDE\",\n          \"CREME BRULEE\"\n        ],\n        \"semantic_type\": \"\",\n        \"description\": \"\"\n      }\n    },\n    {\n      \"column\": \"size1_descr\",\n      \"properties\": {\n        \"dtype\": \"category\",\n        \"num_unique_values\": 2,\n        \"samples\": [\n          \"32.0 MLOZ\",\n          \"16.0 MLOZ\"\n        ],\n        \"semantic_type\": \"\",\n        \"description\": \"\"\n      }\n    },\n    {\n      \"column\": \"household_id\",\n      \"properties\": {\n        \"dtype\": \"number\",\n        \"std\": 11685954,\n        \"min\": 2000358,\n        \"max\": 30440689,\n        \"num_unique_values\": 6385,\n        \"samples\": [\n          30115420,\n          8388851\n        ],\n        \"semantic_type\": \"\",\n        \"description\": \"\"\n      }\n    },\n    {\n      \"column\": \"household_income\",\n      \"properties\": {\n        \"dtype\": \"number\",\n        \"std\": 57188,\n        \"min\": 40000,\n        \"max\": 310000,\n        \"num_unique_values\": 19,\n        \"samples\": [\n          130000,\n          80000\n        ],\n        \"semantic_type\": \"\",\n        \"description\": \"\"\n      }\n    },\n    {\n      \"column\": \"household_size\",\n      \"properties\": {\n        \"dtype\": \"number\",\n        \"std\": 1,\n        \"min\": 1,\n        \"max\": 9,\n        \"num_unique_values\": 9,\n        \"samples\": [\n          8,\n          1\n        ],\n        \"semantic_type\": \"\",\n        \"description\": \"\"\n      }\n    },\n    {\n      \"column\": \"usecoup\",\n      \"properties\": {\n        \"dtype\": \"boolean\",\n        \"num_unique_values\": 2,\n        \"samples\": [\n          false,\n          true\n        ],\n        \"semantic_type\": \"\",\n        \"description\": \"\"\n      }\n    },\n    {\n      \"column\": \"couponper1\",\n      \"properties\": {\n        \"dtype\": \"number\",\n        \"std\": 0.5178886507790351,\n        \"min\": 0.0,\n        \"max\": 8.98,\n        \"num_unique_values\": 227,\n        \"samples\": [\n          0.25,\n          2.49\n        ],\n        \"semantic_type\": \"\",\n        \"description\": \"\"\n      }\n    },\n    {\n      \"column\": \"region\",\n      \"properties\": {\n        \"dtype\": \"category\",\n        \"num_unique_values\": 4,\n        \"samples\": [\n          \"West\",\n          \"East\"\n        ],\n        \"semantic_type\": \"\",\n        \"description\": \"\"\n      }\n    },\n    {\n      \"column\": \"married\",\n      \"properties\": {\n        \"dtype\": \"boolean\",\n        \"num_unique_values\": 2,\n        \"samples\": [\n          true,\n          false\n        ],\n        \"semantic_type\": \"\",\n        \"description\": \"\"\n      }\n    },\n    {\n      \"column\": \"race\",\n      \"properties\": {\n        \"dtype\": \"category\",\n        \"num_unique_values\": 4,\n        \"samples\": [\n          \"other\",\n          \"asian\"\n        ],\n        \"semantic_type\": \"\",\n        \"description\": \"\"\n      }\n    },\n    {\n      \"column\": \"hispanic_origin\",\n      \"properties\": {\n        \"dtype\": \"boolean\",\n        \"num_unique_values\": 2,\n        \"samples\": [\n          true,\n          false\n        ],\n        \"semantic_type\": \"\",\n        \"description\": \"\"\n      }\n    },\n    {\n      \"column\": \"microwave\",\n      \"properties\": {\n        \"dtype\": \"boolean\",\n        \"num_unique_values\": 2,\n        \"samples\": [\n          false,\n          true\n        ],\n        \"semantic_type\": \"\",\n        \"description\": \"\"\n      }\n    },\n    {\n      \"column\": \"dishwasher\",\n      \"properties\": {\n        \"dtype\": \"boolean\",\n        \"num_unique_values\": 2,\n        \"samples\": [\n          true,\n          false\n        ],\n        \"semantic_type\": \"\",\n        \"description\": \"\"\n      }\n    },\n    {\n      \"column\": \"sfh\",\n      \"properties\": {\n        \"dtype\": \"boolean\",\n        \"num_unique_values\": 2,\n        \"samples\": [\n          true,\n          false\n        ],\n        \"semantic_type\": \"\",\n        \"description\": \"\"\n      }\n    },\n    {\n      \"column\": \"internet\",\n      \"properties\": {\n        \"dtype\": \"boolean\",\n        \"num_unique_values\": 2,\n        \"samples\": [\n          false,\n          true\n        ],\n        \"semantic_type\": \"\",\n        \"description\": \"\"\n      }\n    },\n    {\n      \"column\": \"tvcable\",\n      \"properties\": {\n        \"dtype\": \"category\",\n        \"num_unique_values\": 2,\n        \"samples\": [\n          false,\n          true\n        ],\n        \"semantic_type\": \"\",\n        \"description\": \"\"\n      }\n    }\n  ]\n}"
            }
          },
          "metadata": {},
          "execution_count": 23
        }
      ]
    },
    {
      "cell_type": "code",
      "source": [
        "ice_cream['tvcable'] = ice_cream['tvcable'].astype(bool)"
      ],
      "metadata": {
        "id": "XbuURbRkl0CK"
      },
      "execution_count": 39,
      "outputs": []
    },
    {
      "cell_type": "code",
      "source": [
        "df = spark.createDataFrame(ice_cream)"
      ],
      "metadata": {
        "id": "wEd8HsipkwTW"
      },
      "execution_count": 40,
      "outputs": []
    },
    {
      "cell_type": "markdown",
      "source": [
        "## Descriptive Statistics"
      ],
      "metadata": {
        "id": "GUHuh1EAm8ST"
      }
    },
    {
      "cell_type": "code",
      "source": [
        "df.describe().show()"
      ],
      "metadata": {
        "colab": {
          "base_uri": "https://localhost:8080/"
        },
        "id": "ZiGYwKLbnQ8k",
        "outputId": "334cec49-da17-41b0-ecb9-c2a7ddc3a1c3"
      },
      "execution_count": 41,
      "outputs": [
        {
          "output_type": "stream",
          "name": "stdout",
          "text": [
            "+-------+------------------+---------------+-----------+--------------------+------------------+------------------+-------------------+-------+-----+\n",
            "|summary|         priceper1|   flavor_descr|size1_descr|        household_id|  household_income|    household_size|         couponper1| region| race|\n",
            "+-------+------------------+---------------+-----------+--------------------+------------------+------------------+-------------------+-------+-----+\n",
            "|  count|             21974|          21974|      21974|               21974|             21974|             21974|              21974|  21974|21974|\n",
            "|   mean| 3.314627108010865|           NULL|       NULL|1.6612005039000638E7|125290.79821607354|2.4564030217529806|0.12557882800885908|   NULL| NULL|\n",
            "| stddev|0.6656263892402016|           NULL|       NULL|1.1685954458195915E7| 57188.36322324326|1.3368209496554313| 0.5178886507790131|   NULL| NULL|\n",
            "|    min|               0.0|AMERICONE DREAM|  16.0 MLOZ|             2000358|             40000|                 1|                0.0|Central|asian|\n",
            "|    max|              9.48|  WHITE RUSSIAN|  32.0 MLOZ|            30440689|            310000|                 9|               8.98|   West|white|\n",
            "+-------+------------------+---------------+-----------+--------------------+------------------+------------------+-------------------+-------+-----+\n",
            "\n"
          ]
        }
      ]
    },
    {
      "cell_type": "markdown",
      "source": [
        "The descriptive statistics give us a summary of the central tendencies and variation for the continuous variables in the dataset. This gives us an idea of how much Ben & Jerry's ice cream normally costs and the characteristics of each household. For example, this helps us to understand the range of houshold income and household size."
      ],
      "metadata": {
        "id": "DNkN-TcOn0_Y"
      }
    },
    {
      "cell_type": "markdown",
      "source": [
        "## Counting and Filtering"
      ],
      "metadata": {
        "id": "plebOG_Go8KO"
      }
    },
    {
      "cell_type": "markdown",
      "source": [
        "Next, let's perform some basic counting and filtering operations on the variables we'll be working with."
      ],
      "metadata": {
        "id": "o-dhp8j4pBQM"
      }
    },
    {
      "cell_type": "code",
      "source": [
        "coupon_usage = ice_cream['usecoup'].value_counts()\n",
        "print(coupon_usage)"
      ],
      "metadata": {
        "colab": {
          "base_uri": "https://localhost:8080/"
        },
        "id": "_T8vXcyBo5mS",
        "outputId": "31ef5f81-8064-48a5-f3e3-558951a64e7c"
      },
      "execution_count": 43,
      "outputs": [
        {
          "output_type": "stream",
          "name": "stdout",
          "text": [
            "usecoup\n",
            "False    19629\n",
            "True      2345\n",
            "Name: count, dtype: int64\n"
          ]
        }
      ]
    },
    {
      "cell_type": "markdown",
      "source": [
        "The above counting operation shows us how many households used a coupon on their ice cream purchase. In this case, **2,345** households used a coupon."
      ],
      "metadata": {
        "id": "jyjd1KXMplF3"
      }
    },
    {
      "cell_type": "code",
      "source": [
        "coupon_used = ice_cream[ice_cream['usecoup'] == True]\n",
        "avg_price_coupon_used = coupon_used['priceper1'].mean()\n",
        "print(avg_price_coupon_used)"
      ],
      "metadata": {
        "colab": {
          "base_uri": "https://localhost:8080/"
        },
        "id": "e_3uSgwApxI-",
        "outputId": "43c34ead-d5fe-4063-9dd1-e33ef9905744"
      },
      "execution_count": 45,
      "outputs": [
        {
          "output_type": "stream",
          "name": "stdout",
          "text": [
            "3.3771737739872068\n"
          ]
        }
      ]
    },
    {
      "cell_type": "markdown",
      "source": [
        "For households that used a coupon, the average price of the ice cream they purchased was **$3.38**."
      ],
      "metadata": {
        "id": "hopxuOQNp7Gg"
      }
    },
    {
      "cell_type": "code",
      "source": [
        "coupon_not_used = ice_cream[ice_cream['usecoup'] == False]\n",
        "avg_price_coupon_not_used = coupon_not_used['priceper1'].mean()\n",
        "print(avg_price_coupon_not_used)"
      ],
      "metadata": {
        "colab": {
          "base_uri": "https://localhost:8080/"
        },
        "id": "_fZdC7wNqHWY",
        "outputId": "0ea9552e-71ce-46eb-abaa-0023a56fb3ac"
      },
      "execution_count": 46,
      "outputs": [
        {
          "output_type": "stream",
          "name": "stdout",
          "text": [
            "3.307154902003595\n"
          ]
        }
      ]
    },
    {
      "cell_type": "markdown",
      "source": [
        "For households that did not use a coupon, the average price of the ice cream they purchased was **$3.31**."
      ],
      "metadata": {
        "id": "Db6V63saqpr7"
      }
    },
    {
      "cell_type": "markdown",
      "source": [
        "## Group Operations"
      ],
      "metadata": {
        "id": "8kOeC7Nxq2vz"
      }
    },
    {
      "cell_type": "markdown",
      "source": [
        "We can use group operations to analyze how different variables are related to each other. For example, we can look at how the price of ice cream changes across different types of households. Let's take a look at how price of ice cream changes based on geography."
      ],
      "metadata": {
        "id": "8AAtdPqOq4cZ"
      }
    },
    {
      "cell_type": "code",
      "source": [
        "price_by_region = ice_cream.groupby('region')['priceper1'].mean()\n",
        "print(price_by_region)"
      ],
      "metadata": {
        "colab": {
          "base_uri": "https://localhost:8080/"
        },
        "id": "XOtBmlSIqmad",
        "outputId": "09780c94-2eaf-422f-fcbb-f49c3e97029e"
      },
      "execution_count": 48,
      "outputs": [
        {
          "output_type": "stream",
          "name": "stdout",
          "text": [
            "region\n",
            "Central    3.277892\n",
            "East       3.422322\n",
            "South      3.258359\n",
            "West       3.325974\n",
            "Name: priceper1, dtype: float64\n"
          ]
        }
      ]
    },
    {
      "cell_type": "markdown",
      "source": [
        "On average, Ben & Jerry's ice cream is the least expensive in the South region and most expensive in the East region."
      ],
      "metadata": {
        "id": "SbnmHAwwrlkz"
      }
    },
    {
      "cell_type": "markdown",
      "source": [
        "Similarly, we can group the data by household income to analyze how price changes based on income."
      ],
      "metadata": {
        "id": "MYA_g_LgsSTJ"
      }
    },
    {
      "cell_type": "code",
      "source": [
        "price_by_income = ice_cream.groupby('household_income')['priceper1'].mean()\n",
        "print(price_by_income)"
      ],
      "metadata": {
        "colab": {
          "base_uri": "https://localhost:8080/"
        },
        "id": "xIk3eZmosybl",
        "outputId": "5d449856-0a93-4c4f-bad3-b7fcfbac7c97"
      },
      "execution_count": 49,
      "outputs": [
        {
          "output_type": "stream",
          "name": "stdout",
          "text": [
            "household_income\n",
            "40000     3.343187\n",
            "50000     3.344026\n",
            "60000     3.456909\n",
            "70000     3.402600\n",
            "80000     3.318014\n",
            "110000    3.306350\n",
            "130000    3.325455\n",
            "150000    3.318129\n",
            "160000    3.266847\n",
            "170000    3.214524\n",
            "180000    3.263123\n",
            "190000    3.257739\n",
            "210000    3.316303\n",
            "230000    3.223304\n",
            "240000    3.324874\n",
            "260000    3.205166\n",
            "280000    3.445214\n",
            "300000    3.135817\n",
            "310000    3.205312\n",
            "Name: priceper1, dtype: float64\n"
          ]
        }
      ]
    },
    {
      "cell_type": "markdown",
      "source": [
        "Finally, we can group the data by household size. This may give us some insights into whether or not household size impacts how much the household spends on ice cream."
      ],
      "metadata": {
        "id": "mskcgNjhs6rQ"
      }
    },
    {
      "cell_type": "code",
      "source": [
        "price_by_size = ice_cream.groupby('household_size')['priceper1'].mean()\n",
        "print(price_by_size)"
      ],
      "metadata": {
        "colab": {
          "base_uri": "https://localhost:8080/"
        },
        "id": "P4ZG88gZthFr",
        "outputId": "6f680a71-d86d-494a-b0eb-9918bfef2c4b"
      },
      "execution_count": 51,
      "outputs": [
        {
          "output_type": "stream",
          "name": "stdout",
          "text": [
            "household_size\n",
            "1    3.362255\n",
            "2    3.312518\n",
            "3    3.295934\n",
            "4    3.273378\n",
            "5    3.331149\n",
            "6    3.254255\n",
            "7    3.248901\n",
            "8    3.149375\n",
            "9    3.041636\n",
            "Name: priceper1, dtype: float64\n"
          ]
        }
      ]
    },
    {
      "cell_type": "markdown",
      "source": [
        "On average, it looks like larger households tend to spend less on ice cream than smaller households."
      ],
      "metadata": {
        "id": "8Dm132aQtsgk"
      }
    },
    {
      "cell_type": "markdown",
      "source": [
        "## Linear Regression"
      ],
      "metadata": {
        "id": "b8Hpy0TOuEG6"
      }
    },
    {
      "cell_type": "markdown",
      "source": [
        "Next, let's build a linear regression model using the Ben & Jerry's dataset to predict the price per serving of ice cream. We will use household income, household size, and coupon usage as predictor variables."
      ],
      "metadata": {
        "id": "BA33sGl2uGc5"
      }
    },
    {
      "cell_type": "code",
      "source": [
        "dtrain, dtest = df.randomSplit([.67, .33], seed = 1234)"
      ],
      "metadata": {
        "id": "dIbn63O5wtHE"
      },
      "execution_count": 56,
      "outputs": []
    },
    {
      "cell_type": "code",
      "source": [
        "x_cols_1 = ['household_income', 'household_size', 'usecoup']\n",
        "\n",
        "assembler_1 = VectorAssembler(inputCols=x_cols_1, outputCol=\"predictors\")\n",
        "\n",
        "dtrain_1 = assembler_1.transform(dtrain)\n",
        "dtest_1  = assembler_1.transform(dtest)\n",
        "\n",
        "# training model\n",
        "model_1 = (\n",
        "        LinearRegression(featuresCol=\"predictors\",\n",
        "                                labelCol=\"priceper1\")\n",
        "    .fit(dtrain_1)\n",
        ")\n",
        "\n",
        "# making prediction\n",
        "dtrain_1 = model_1.transform(dtrain_1)\n",
        "dtest_1 = model_1.transform(dtest_1)"
      ],
      "metadata": {
        "id": "Vjy65SHNwLHC"
      },
      "execution_count": 59,
      "outputs": []
    },
    {
      "cell_type": "code",
      "source": [
        "print(regression_table(model_1, assembler_1))"
      ],
      "metadata": {
        "colab": {
          "base_uri": "https://localhost:8080/"
        },
        "id": "vL1-vJMMxMHe",
        "outputId": "2b6ac7cb-2f00-4372-d263-135bc0207503"
      },
      "execution_count": 60,
      "outputs": [
        {
          "output_type": "stream",
          "name": "stdout",
          "text": [
            "+------------------------+--------+------+------------+---------+--------------+--------------+\n",
            "| Metric                 |  Value | Sig. | Std. Error | p-value | 95% CI Lower | 95% CI Upper |\n",
            "+------------------------+--------+------+------------+---------+--------------+--------------+\n",
            "| Beta: household_income | -0.000 | ***  |      0.004 |   0.000 |       -0.008 |        0.008 |\n",
            "| Beta: household_size   | -0.028 | ***  |      0.018 |   0.000 |       -0.063 |        0.007 |\n",
            "| Beta: usecoup          |  0.064 | ***  |      0.019 |   0.000 |        0.026 |        0.101 |\n",
            "| Intercept              |  3.476 | ***  |      0.000 |   0.000 |        3.476 |        3.476 |\n",
            "-----------------------------------------------------------------------------------------------\n",
            "| Observations           | 14,734 |      |            |         |              |              |\n",
            "| R²                     |  0.007 |      |            |         |              |              |\n",
            "| RMSE                   |  0.666 |      |            |         |              |              |\n",
            "+------------------------+--------+------+------------+---------+--------------+--------------+\n"
          ]
        }
      ]
    },
    {
      "cell_type": "markdown",
      "source": [
        "This model helps us analyze how household income, household size, and coupon usage affect the price of Ben & Jerry's ice cream. The coefficients, or beta values, show us to what extent each feature predicts or influences the price.\n",
        "\n",
        "The coefficient for household income is 0. This means that an increase or decrease in household income does not affect the price of ice cream. The coefficient for household size is -0.028. This means that for every additional person in the household, the ice cream price per serving decreases by approximately 0.03. Perhaps larger households tend to buy larger amounts of ice cream that have a lower unit price. The coefficient for coupon usage is 0.064. This shows that if a coupon was used, the price per serving of ice cream increases by approximately 0.06. This does not make much sense because coupons usually reduce the price of the item purchased. A possible explanation for this is that households could be using coupons on more expensive, specialty ice cream products. Coupon usage seems to have the most impact on price per serving because it has the largest coefficient value."
      ],
      "metadata": {
        "id": "khIIGtpoxdtp"
      }
    },
    {
      "cell_type": "markdown",
      "source": [
        "## Conclusion"
      ],
      "metadata": {
        "id": "4zog7ck-xeA-"
      }
    },
    {
      "cell_type": "markdown",
      "source": [
        "By analyzing this dataset, we were able to show how different household characteristics, such as household income, household size, and coupon usage, affect and predict the price per serving of Ben & Jerry's ice cream. We also applied a linear regression model, which helped us further understand the relationship between these household characteristics and ice cream price. This information could be useful in marketing, as Ben & Jerry's may want to tailor promotions to different income levels, household sizes, or other household characteristics."
      ],
      "metadata": {
        "id": "dYl1t6nKxfP0"
      }
    }
  ]
}