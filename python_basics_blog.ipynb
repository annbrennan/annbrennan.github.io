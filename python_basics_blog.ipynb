{
  "nbformat": 4,
  "nbformat_minor": 0,
  "metadata": {
    "colab": {
      "provenance": []
    },
    "kernelspec": {
      "name": "python3",
      "display_name": "Python 3"
    },
    "language_info": {
      "name": "python"
    }
  },
  "cells": [
    {
      "cell_type": "markdown",
      "source": [
        "# Python Basics"
      ],
      "metadata": {
        "id": "bOdB7Xe7HqlK"
      }
    },
    {
      "cell_type": "markdown",
      "source": [
        "## Variables"
      ],
      "metadata": {
        "id": "vxm4VHLRH_C-"
      }
    },
    {
      "cell_type": "markdown",
      "source": [
        "A variable is a name that refers to a value."
      ],
      "metadata": {
        "id": "pu_d66m7IAZe"
      }
    },
    {
      "cell_type": "code",
      "source": [
        "a = 10\n",
        "print(a)"
      ],
      "metadata": {
        "colab": {
          "base_uri": "https://localhost:8080/"
        },
        "id": "xnL_pL-zIEUv",
        "outputId": "47dfe1d4-fc54-4501-8e20-e12192e598cb"
      },
      "execution_count": 1,
      "outputs": [
        {
          "output_type": "stream",
          "name": "stdout",
          "text": [
            "10\n"
          ]
        }
      ]
    },
    {
      "cell_type": "markdown",
      "source": [
        "The most basic built-in data types that we’ll need to know about are\n",
        "integers, floats, strings, and booleans."
      ],
      "metadata": {
        "id": "0EstU1uwIIVu"
      }
    },
    {
      "cell_type": "code",
      "source": [
        "list_example = [10, 1.23, \"like this\", True, None]\n",
        "print(list_example)\n",
        "type(list_example)"
      ],
      "metadata": {
        "colab": {
          "base_uri": "https://localhost:8080/"
        },
        "id": "AGaMWjPbIcb4",
        "outputId": "b9220c4f-77b1-4be6-be6c-83e69c4f25e5"
      },
      "execution_count": 2,
      "outputs": [
        {
          "output_type": "stream",
          "name": "stdout",
          "text": [
            "[10, 1.23, 'like this', True, None]\n"
          ]
        },
        {
          "output_type": "execute_result",
          "data": {
            "text/plain": [
              "list"
            ]
          },
          "metadata": {},
          "execution_count": 2
        }
      ]
    },
    {
      "cell_type": "markdown",
      "source": [
        "## Booleans and Conditions"
      ],
      "metadata": {
        "id": "UMM8d-35IfOl"
      }
    },
    {
      "cell_type": "markdown",
      "source": [
        "Boolean data have either True or False value."
      ],
      "metadata": {
        "id": "xgb7x6aAIqT4"
      }
    },
    {
      "cell_type": "markdown",
      "source": [
        "Conditions are expressions that evaluate as booleans."
      ],
      "metadata": {
        "id": "JlhG08XYJJvm"
      }
    },
    {
      "cell_type": "code",
      "source": [
        "20 == '20'"
      ],
      "metadata": {
        "colab": {
          "base_uri": "https://localhost:8080/"
        },
        "id": "zMaFrCgPI5os",
        "outputId": "a7fa9ad6-e46d-4d68-fc4d-9064aa404f72"
      },
      "execution_count": 4,
      "outputs": [
        {
          "output_type": "execute_result",
          "data": {
            "text/plain": [
              "False"
            ]
          },
          "metadata": {},
          "execution_count": 4
        }
      ]
    },
    {
      "cell_type": "markdown",
      "source": [
        "Existing booleans can be combined, which create a boolean when executed."
      ],
      "metadata": {
        "id": "hzgdY5PlJOo_"
      }
    },
    {
      "cell_type": "code",
      "source": [
        "x = 4.0\n",
        "y = .5\n",
        "z = 3*y - x\n",
        "\n",
        "x < y or 3*y < x"
      ],
      "metadata": {
        "colab": {
          "base_uri": "https://localhost:8080/"
        },
        "id": "a3JsWoioI79k",
        "outputId": "8d599867-5ca2-43a2-8377-195ecbd39f70"
      },
      "execution_count": 5,
      "outputs": [
        {
          "output_type": "execute_result",
          "data": {
            "text/plain": [
              "True"
            ]
          },
          "metadata": {},
          "execution_count": 5
        }
      ]
    },
    {
      "cell_type": "code",
      "source": [
        "boolean_condition1 = 10 == 20\n",
        "print(boolean_condition1)\n",
        "\n",
        "boolean_condition2 = 10 == '10'\n",
        "print(boolean_condition2)"
      ],
      "metadata": {
        "colab": {
          "base_uri": "https://localhost:8080/"
        },
        "id": "b7_9EneYJKUD",
        "outputId": "acb70fde-f221-45a9-e3ec-b8c2dbcff8cd"
      },
      "execution_count": 6,
      "outputs": [
        {
          "output_type": "stream",
          "name": "stdout",
          "text": [
            "False\n",
            "False\n"
          ]
        }
      ]
    },
    {
      "cell_type": "markdown",
      "source": [
        "The real power of conditions comes when we start to use them in more complex examples, such as if statements."
      ],
      "metadata": {
        "id": "zYePQyrZJXL9"
      }
    },
    {
      "cell_type": "code",
      "source": [
        "name = \"Geneseo\"\n",
        "score = 99\n",
        "\n",
        "if name == \"Geneseo\" and score > 90:\n",
        "    print(\"Geneseo, you achieved a high score.\")\n",
        "\n",
        "if name == \"Geneseo\" or score > 90:\n",
        "    print(\"You could be called Geneseo or have a high score\")\n",
        "\n",
        "if name != \"Geneseo\" and score > 90:\n",
        "    print(\"You are not called Geneseo and you have a high score\")"
      ],
      "metadata": {
        "colab": {
          "base_uri": "https://localhost:8080/"
        },
        "id": "-0tmL3NVJX4j",
        "outputId": "af3766b1-4317-4fd8-ea06-9302a6babf75"
      },
      "execution_count": 7,
      "outputs": [
        {
          "output_type": "stream",
          "name": "stdout",
          "text": [
            "Geneseo, you achieved a high score.\n",
            "You could be called Geneseo or have a high score\n"
          ]
        }
      ]
    },
    {
      "cell_type": "markdown",
      "source": [
        "The if-else chain:"
      ],
      "metadata": {
        "id": "9oBIZdLZJglS"
      }
    },
    {
      "cell_type": "code",
      "source": [
        "score = 98\n",
        "\n",
        "if score == 100:\n",
        "    print(\"Top marks!\")\n",
        "elif score > 90 and score < 100:\n",
        "    print(\"High score!\")\n",
        "elif score > 10 and score <= 90:\n",
        "    pass\n",
        "else:\n",
        "    print(\"Better luck next time.\")"
      ],
      "metadata": {
        "colab": {
          "base_uri": "https://localhost:8080/"
        },
        "id": "gDS5ryi3Ji0k",
        "outputId": "32485722-8358-4efb-94d9-e068bfb3ebc7"
      },
      "execution_count": 8,
      "outputs": [
        {
          "output_type": "stream",
          "name": "stdout",
          "text": [
            "High score!\n"
          ]
        }
      ]
    },
    {
      "cell_type": "markdown",
      "source": [
        "## For Loops"
      ],
      "metadata": {
        "id": "ClES4ErmJrRa"
      }
    },
    {
      "cell_type": "markdown",
      "source": [
        "A loop is a way of executing a similar piece of code over and over in a similar way. The most useful type is for loops."
      ],
      "metadata": {
        "id": "Vl88EPn7Jsu2"
      }
    },
    {
      "cell_type": "code",
      "source": [
        "name_list = [\"Ben\", \"Chris\", \"Kate\", \"Mary\"]\n",
        "\n",
        "for name in name_list:\n",
        "    print(name)"
      ],
      "metadata": {
        "colab": {
          "base_uri": "https://localhost:8080/"
        },
        "id": "YfSfgjNFJyS5",
        "outputId": "472888fa-efd2-48e1-808e-ff5f6dc9aed4"
      },
      "execution_count": 9,
      "outputs": [
        {
          "output_type": "stream",
          "name": "stdout",
          "text": [
            "Ben\n",
            "Chris\n",
            "Kate\n",
            "Mary\n"
          ]
        }
      ]
    },
    {
      "cell_type": "markdown",
      "source": [
        "## Dictionaries"
      ],
      "metadata": {
        "id": "N9MevyDmJ2Tl"
      }
    },
    {
      "cell_type": "markdown",
      "source": [
        "A dictionary maps one set of variables to another (one-to-one or many-to-one)."
      ],
      "metadata": {
        "id": "FSOud1UGJ7vH"
      }
    },
    {
      "cell_type": "code",
      "source": [
        "cities_to_temps = {\"Paris\": 28, \"London\": 22, \"Seville\": 36, \"Wellesley\": 29}\n",
        "\n",
        "cities_to_temps.keys()\n",
        "cities_to_temps.values()\n",
        "cities_to_temps.items()"
      ],
      "metadata": {
        "colab": {
          "base_uri": "https://localhost:8080/"
        },
        "id": "B1m-YdsSJ9O1",
        "outputId": "9eca2776-9c55-4efa-f9f7-7d88f003e728"
      },
      "execution_count": 10,
      "outputs": [
        {
          "output_type": "execute_result",
          "data": {
            "text/plain": [
              "dict_items([('Paris', 28), ('London', 22), ('Seville', 36), ('Wellesley', 29)])"
            ]
          },
          "metadata": {},
          "execution_count": 10
        }
      ]
    },
    {
      "cell_type": "markdown",
      "source": [
        "## Running on Empty"
      ],
      "metadata": {
        "id": "NUvXXeETKJv2"
      }
    },
    {
      "cell_type": "markdown",
      "source": [
        "Creating empty containers is useful when creating loops.\n",
        "The commands to create empty lists, tuples, dictionaries, and sets are lst = [], tup=(), dic={}, and st = set() respectively."
      ],
      "metadata": {
        "id": "jNh3aC4-KOjN"
      }
    },
    {
      "cell_type": "markdown",
      "source": [
        "## Slicing Methods"
      ],
      "metadata": {
        "id": "29WLtFQnKXTD"
      }
    },
    {
      "cell_type": "markdown",
      "source": [
        "We can extract a substring (a part of a string) from a string by using a slice."
      ],
      "metadata": {
        "id": "QqIYwbiIKZjr"
      }
    },
    {
      "cell_type": "code",
      "source": [
        "letters = 'abcdefghij'\n",
        "letters[:]"
      ],
      "metadata": {
        "colab": {
          "base_uri": "https://localhost:8080/",
          "height": 35
        },
        "id": "QgCgyZ3HKoyQ",
        "outputId": "b9116a16-65ab-4011-d3e2-e964fcfb1f24"
      },
      "execution_count": 11,
      "outputs": [
        {
          "output_type": "execute_result",
          "data": {
            "text/plain": [
              "'abcdefghij'"
            ],
            "application/vnd.google.colaboratory.intrinsic+json": {
              "type": "string"
            }
          },
          "metadata": {},
          "execution_count": 11
        }
      ]
    },
    {
      "cell_type": "code",
      "source": [
        "letters = 'abcdefghij'\n",
        "letters[4:]\n",
        "letters[2:]\n",
        "letters[-3:]\n",
        "letters[-50:]"
      ],
      "metadata": {
        "colab": {
          "base_uri": "https://localhost:8080/",
          "height": 35
        },
        "id": "5b12ymb1Kslc",
        "outputId": "ef1d0b82-e4ca-47f1-f3b5-71ebd405acdf"
      },
      "execution_count": 12,
      "outputs": [
        {
          "output_type": "execute_result",
          "data": {
            "text/plain": [
              "'abcdefghij'"
            ],
            "application/vnd.google.colaboratory.intrinsic+json": {
              "type": "string"
            }
          },
          "metadata": {},
          "execution_count": 12
        }
      ]
    },
    {
      "cell_type": "code",
      "source": [
        "letters = 'abcdefghij'\n",
        "letters[2:5]\n",
        "letters[-26:-24]\n",
        "letters[35:37]"
      ],
      "metadata": {
        "colab": {
          "base_uri": "https://localhost:8080/",
          "height": 35
        },
        "id": "4PGUVuWWKwXE",
        "outputId": "27197fe8-cbfc-4864-b01b-9d500d0564ca"
      },
      "execution_count": 13,
      "outputs": [
        {
          "output_type": "execute_result",
          "data": {
            "text/plain": [
              "''"
            ],
            "application/vnd.google.colaboratory.intrinsic+json": {
              "type": "string"
            }
          },
          "metadata": {},
          "execution_count": 13
        }
      ]
    },
    {
      "cell_type": "markdown",
      "source": [
        "We can extract a single value from a list by specifying its index:\n"
      ],
      "metadata": {
        "id": "fstnnKpZK_5b"
      }
    },
    {
      "cell_type": "code",
      "source": [
        "suny = ['Geneseo', 'Brockport', 'Oswego', 'Binghamton',\n",
        "        'Stony Brook', 'New Paltz']"
      ],
      "metadata": {
        "id": "pT4d9ysDLCJR"
      },
      "execution_count": 15,
      "outputs": []
    },
    {
      "cell_type": "code",
      "source": [
        "suny[0]\n",
        "suny[1]\n",
        "suny[2]"
      ],
      "metadata": {
        "colab": {
          "base_uri": "https://localhost:8080/",
          "height": 35
        },
        "id": "_8M4UFksLEGk",
        "outputId": "893d6ab1-0ce1-468a-d3b7-97f83163ec65"
      },
      "execution_count": 17,
      "outputs": [
        {
          "output_type": "execute_result",
          "data": {
            "text/plain": [
              "'Oswego'"
            ],
            "application/vnd.google.colaboratory.intrinsic+json": {
              "type": "string"
            }
          },
          "metadata": {},
          "execution_count": 17
        }
      ]
    },
    {
      "cell_type": "markdown",
      "source": [
        "Example from Classwork 4.3:"
      ],
      "metadata": {
        "id": "lwe2Ill5LRPx"
      }
    },
    {
      "cell_type": "code",
      "source": [
        "fare = \"$10.00\"\n",
        "tip = \"2.00$\"\n",
        "tax = \"$ 0.80\"\n",
        "total = fare[0:2] + tip[0] + tax[3:6]\n",
        "print(\"The total trip cost is:\", total)\n"
      ],
      "metadata": {
        "colab": {
          "base_uri": "https://localhost:8080/"
        },
        "id": "np_JdcogLOPJ",
        "outputId": "9fabc35c-3e68-48c9-9961-d78d4407e492"
      },
      "execution_count": 18,
      "outputs": [
        {
          "output_type": "stream",
          "name": "stdout",
          "text": [
            "The total trip cost is: $12.80\n"
          ]
        }
      ]
    },
    {
      "cell_type": "markdown",
      "source": [
        "## Functions, Arguments, Parameters"
      ],
      "metadata": {
        "id": "oZiuEfW-LZZF"
      }
    },
    {
      "cell_type": "markdown",
      "source": [
        "A function can take any number and type of input parameters and return any number and type of output results."
      ],
      "metadata": {
        "id": "MY5wBx5JLcg-"
      }
    },
    {
      "cell_type": "code",
      "source": [
        "print(\"Cherry\", \"Strawberry\", \"Key Lime\")\n",
        "print(\"Cherry\", \"Strawberry\", \"Key Lime\", sep = \"!\")\n",
        "print(\"Cherry\", \"Strawberry\", \"Key Lime\", sep=\" \")"
      ],
      "metadata": {
        "colab": {
          "base_uri": "https://localhost:8080/"
        },
        "id": "ntdANMHULfRG",
        "outputId": "ca4f07f8-7b65-4667-af64-b07eb1c3c5a2"
      },
      "execution_count": 19,
      "outputs": [
        {
          "output_type": "stream",
          "name": "stdout",
          "text": [
            "Cherry Strawberry Key Lime\n",
            "Cherry!Strawberry!Key Lime\n",
            "Cherry Strawberry Key Lime\n"
          ]
        }
      ]
    },
    {
      "cell_type": "markdown",
      "source": [
        "A function can accept inputs called arguments."
      ],
      "metadata": {
        "id": "xuhWyzcuLrjt"
      }
    },
    {
      "cell_type": "markdown",
      "source": [
        "A parameter is an expected function argument."
      ],
      "metadata": {
        "id": "9DUNFi5LLsO0"
      }
    },
    {
      "cell_type": "markdown",
      "source": [
        "Example from Classwork 4.4:"
      ],
      "metadata": {
        "id": "ZC3Q69LuL6_N"
      }
    },
    {
      "cell_type": "code",
      "source": [
        "list_variable = [100,144,169,1000,8]\n",
        "x =max(list_variable)\n",
        "print('The largest value in the list is:',x)\n"
      ],
      "metadata": {
        "colab": {
          "base_uri": "https://localhost:8080/"
        },
        "id": "OuwvyzvtL9i4",
        "outputId": "5ab967fc-32d0-4bf4-9eac-8c1c23a064a9"
      },
      "execution_count": 20,
      "outputs": [
        {
          "output_type": "stream",
          "name": "stdout",
          "text": [
            "The largest value in the list is: 1000\n"
          ]
        }
      ]
    },
    {
      "cell_type": "markdown",
      "source": [
        "## Installing Modules, Packages, and Libraries"
      ],
      "metadata": {
        "id": "YgwlZCJiMAX6"
      }
    },
    {
      "cell_type": "markdown",
      "source": [
        "To install a module module_name on your Google Colab, run:"
      ],
      "metadata": {
        "id": "1z9DFq18MG2D"
      }
    },
    {
      "cell_type": "code",
      "source": [
        "!pip install module_name"
      ],
      "metadata": {
        "id": "sqNw1ZxiMKzq"
      },
      "execution_count": null,
      "outputs": []
    },
    {
      "cell_type": "markdown",
      "source": [
        "From Classwork 4.5:\n",
        "Import the pandas library as pd.\n",
        "Install the itables package.\n",
        "From itables, import the functions init_notebook_mode and show."
      ],
      "metadata": {
        "id": "y_MvuzgUMjpe"
      }
    },
    {
      "cell_type": "code",
      "source": [
        "import pandas as pd\n",
        "!pip install itables\n",
        "from itables import init_notebook_mode\n",
        "from itables import show"
      ],
      "metadata": {
        "colab": {
          "base_uri": "https://localhost:8080/"
        },
        "id": "uSVQS-gJMnpX",
        "outputId": "e75aaab6-996d-4be0-d81e-fb411ae76973"
      },
      "execution_count": 21,
      "outputs": [
        {
          "output_type": "stream",
          "name": "stdout",
          "text": [
            "Collecting itables\n",
            "  Downloading itables-1.7.0-py3-none-any.whl (200 kB)\n",
            "\u001b[?25l     \u001b[90m━━━━━━━━━━━━━━━━━━━━━━━━━━━━━━━━━━━━━━━━\u001b[0m \u001b[32m0.0/200.9 kB\u001b[0m \u001b[31m?\u001b[0m eta \u001b[36m-:--:--\u001b[0m\r\u001b[2K     \u001b[91m━━━━━━━━━━━━━━\u001b[0m\u001b[90m╺\u001b[0m\u001b[90m━━━━━━━━━━━━━━━━━━━━━━━━━\u001b[0m \u001b[32m71.7/200.9 kB\u001b[0m \u001b[31m1.9 MB/s\u001b[0m eta \u001b[36m0:00:01\u001b[0m\r\u001b[2K     \u001b[90m━━━━━━━━━━━━━━━━━━━━━━━━━━━━━━━━━━━━━━━━\u001b[0m \u001b[32m200.9/200.9 kB\u001b[0m \u001b[31m2.9 MB/s\u001b[0m eta \u001b[36m0:00:00\u001b[0m\n",
            "\u001b[?25hRequirement already satisfied: IPython in /usr/local/lib/python3.10/dist-packages (from itables) (7.34.0)\n",
            "Requirement already satisfied: pandas in /usr/local/lib/python3.10/dist-packages (from itables) (1.5.3)\n",
            "Requirement already satisfied: numpy in /usr/local/lib/python3.10/dist-packages (from itables) (1.25.2)\n",
            "Requirement already satisfied: setuptools>=18.5 in /usr/local/lib/python3.10/dist-packages (from IPython->itables) (67.7.2)\n",
            "Collecting jedi>=0.16 (from IPython->itables)\n",
            "  Downloading jedi-0.19.1-py2.py3-none-any.whl (1.6 MB)\n",
            "\u001b[2K     \u001b[90m━━━━━━━━━━━━━━━━━━━━━━━━━━━━━━━━━━━━━━━━\u001b[0m \u001b[32m1.6/1.6 MB\u001b[0m \u001b[31m7.3 MB/s\u001b[0m eta \u001b[36m0:00:00\u001b[0m\n",
            "\u001b[?25hRequirement already satisfied: decorator in /usr/local/lib/python3.10/dist-packages (from IPython->itables) (4.4.2)\n",
            "Requirement already satisfied: pickleshare in /usr/local/lib/python3.10/dist-packages (from IPython->itables) (0.7.5)\n",
            "Requirement already satisfied: traitlets>=4.2 in /usr/local/lib/python3.10/dist-packages (from IPython->itables) (5.7.1)\n",
            "Requirement already satisfied: prompt-toolkit!=3.0.0,!=3.0.1,<3.1.0,>=2.0.0 in /usr/local/lib/python3.10/dist-packages (from IPython->itables) (3.0.43)\n",
            "Requirement already satisfied: pygments in /usr/local/lib/python3.10/dist-packages (from IPython->itables) (2.16.1)\n",
            "Requirement already satisfied: backcall in /usr/local/lib/python3.10/dist-packages (from IPython->itables) (0.2.0)\n",
            "Requirement already satisfied: matplotlib-inline in /usr/local/lib/python3.10/dist-packages (from IPython->itables) (0.1.6)\n",
            "Requirement already satisfied: pexpect>4.3 in /usr/local/lib/python3.10/dist-packages (from IPython->itables) (4.9.0)\n",
            "Requirement already satisfied: python-dateutil>=2.8.1 in /usr/local/lib/python3.10/dist-packages (from pandas->itables) (2.8.2)\n",
            "Requirement already satisfied: pytz>=2020.1 in /usr/local/lib/python3.10/dist-packages (from pandas->itables) (2023.4)\n",
            "Requirement already satisfied: parso<0.9.0,>=0.8.3 in /usr/local/lib/python3.10/dist-packages (from jedi>=0.16->IPython->itables) (0.8.3)\n",
            "Requirement already satisfied: ptyprocess>=0.5 in /usr/local/lib/python3.10/dist-packages (from pexpect>4.3->IPython->itables) (0.7.0)\n",
            "Requirement already satisfied: wcwidth in /usr/local/lib/python3.10/dist-packages (from prompt-toolkit!=3.0.0,!=3.0.1,<3.1.0,>=2.0.0->IPython->itables) (0.2.13)\n",
            "Requirement already satisfied: six>=1.5 in /usr/local/lib/python3.10/dist-packages (from python-dateutil>=2.8.1->pandas->itables) (1.16.0)\n",
            "Installing collected packages: jedi, itables\n",
            "Successfully installed itables-1.7.0 jedi-0.19.1\n"
          ]
        }
      ]
    }
  ]
}